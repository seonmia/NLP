{
  "nbformat": 4,
  "nbformat_minor": 0,
  "metadata": {
    "colab": {
      "name": "movie_review_pre-processing.ipynb",
      "provenance": [],
      "authorship_tag": "ABX9TyOJCdZmtnpx8rbMO8rdGIkn",
      "include_colab_link": true
    },
    "kernelspec": {
      "name": "python3",
      "display_name": "Python 3"
    },
    "language_info": {
      "name": "python"
    }
  },
  "cells": [
    {
      "cell_type": "markdown",
      "metadata": {
        "id": "view-in-github",
        "colab_type": "text"
      },
      "source": [
        "<a href=\"https://colab.research.google.com/github/seonmia/NLP/blob/main/movie_review_pre_processing.ipynb\" target=\"_parent\"><img src=\"https://colab.research.google.com/assets/colab-badge.svg\" alt=\"Open In Colab\"/></a>"
      ]
    },
    {
      "cell_type": "markdown",
      "source": [
        "### 네이버 영화리뷰 크롤링 "
      ],
      "metadata": {
        "id": "lXGwdpXbYI_b"
      }
    },
    {
      "cell_type": "code",
      "source": [
        "from urllib.request import urlopen   # 웹 서버 접근 모듈 \n",
        "from bs4 import BeautifulSoup  \n"
      ],
      "metadata": {
        "id": "QKnhnV7AYIHj"
      },
      "execution_count": 4,
      "outputs": []
    },
    {
      "cell_type": "code",
      "source": [
        "url = 'https://movie.naver.com/movie/bi/mi/pointWriteFormList.naver?code=187348&type=after&isActualPointWriteExecute=false&isMileageSubscriptionAlready=false&isMileageSubscriptionReject=false&page=10'\n",
        "html= urlopen(url)\n",
        "html_source = BeautifulSoup(html, 'html.parser', from_encoding ='utf-8')  # html 소스 크롤링"
      ],
      "metadata": {
        "id": "ZRs3Vc76YU24"
      },
      "execution_count": 36,
      "outputs": []
    },
    {
      "cell_type": "code",
      "source": [
        "print(html_source)"
      ],
      "metadata": {
        "id": "cof2hP-TYkHn"
      },
      "execution_count": null,
      "outputs": []
    },
    {
      "cell_type": "code",
      "source": [
        "# 첫번째 리뷰\n",
        "\n",
        "html_reviews = html_source.find('span', {'id': '_filtered_ment_0'})\n",
        "print(html_reviews)"
      ],
      "metadata": {
        "colab": {
          "base_uri": "https://localhost:8080/"
        },
        "id": "i67jAo6rY8NM",
        "outputId": "cd935b55-2a78-44f6-df47-a25ac97b317f"
      },
      "execution_count": 37,
      "outputs": [
        {
          "output_type": "stream",
          "name": "stdout",
          "text": [
            "<span id=\"_filtered_ment_0\">\r\n",
            "\t\t\t\t\t\t\t\t\t\t\t\t\t\t\r\n",
            "\t\t\t\t\t\t\t\t\t\t\t\t\t\t\t\r\n",
            "\t\t\t\t\t\t\t\t\t\t\t\t\t\t\t\r\n",
            "\t\t\t\t\t\t\t\t\t\t\t\t\t\t\t\t재미도 없고 그냥 다 별로.. \r\n",
            "\t\t\t\t\t\t\t\t\t\t\t\t\t\t\t\r\n",
            "\t\t\t\t\t\t\t\t\t\t\t\t\t\t\r\n",
            "\t\t\t\t\t\t\t\t\t\t\t\t\t\t\r\n",
            "\t\t\t\t\t\t\t\t\t\t\t\t\t</span>\n"
          ]
        }
      ]
    },
    {
      "cell_type": "code",
      "source": [
        "# 리뷰 10개 크롤링\n",
        "for i in range(10):\n",
        "  html_reviews = html_source.find('span', {'id': '_filtered_ment_' +str(i)})\n",
        "  print(html_reviews)\n"
      ],
      "metadata": {
        "colab": {
          "base_uri": "https://localhost:8080/"
        },
        "id": "UTkq_3veZMNU",
        "outputId": "b264dd5c-5501-4d33-b59c-b58c63c4b42a"
      },
      "execution_count": 38,
      "outputs": [
        {
          "output_type": "stream",
          "name": "stdout",
          "text": [
            "<span id=\"_filtered_ment_0\">\r\n",
            "\t\t\t\t\t\t\t\t\t\t\t\t\t\t\r\n",
            "\t\t\t\t\t\t\t\t\t\t\t\t\t\t\t\r\n",
            "\t\t\t\t\t\t\t\t\t\t\t\t\t\t\t\r\n",
            "\t\t\t\t\t\t\t\t\t\t\t\t\t\t\t\t재미도 없고 그냥 다 별로.. \r\n",
            "\t\t\t\t\t\t\t\t\t\t\t\t\t\t\t\r\n",
            "\t\t\t\t\t\t\t\t\t\t\t\t\t\t\r\n",
            "\t\t\t\t\t\t\t\t\t\t\t\t\t\t\r\n",
            "\t\t\t\t\t\t\t\t\t\t\t\t\t</span>\n",
            "<span id=\"_filtered_ment_1\">\r\n",
            "\t\t\t\t\t\t\t\t\t\t\t\t\t\t\r\n",
            "\t\t\t\t\t\t\t\t\t\t\t\t\t\t\t\r\n",
            "\t\t\t\t\t\t\t\t\t\t\t\t\t\t\t\r\n",
            "\t\t\t\t\t\t\t\t\t\t\t\t\t\t\t\t머리는 샹치 응원하는데,, 마음은 양조위 응원함,, 명불허전 양조위ㅠㅠ \r\n",
            "\t\t\t\t\t\t\t\t\t\t\t\t\t\t\t\r\n",
            "\t\t\t\t\t\t\t\t\t\t\t\t\t\t\r\n",
            "\t\t\t\t\t\t\t\t\t\t\t\t\t\t\r\n",
            "\t\t\t\t\t\t\t\t\t\t\t\t\t</span>\n",
            "<span id=\"_filtered_ment_2\">\r\n",
            "\t\t\t\t\t\t\t\t\t\t\t\t\t\t\r\n",
            "\t\t\t\t\t\t\t\t\t\t\t\t\t\t\t\r\n",
            "\t\t\t\t\t\t\t\t\t\t\t\t\t\t\t\r\n",
            "\t\t\t\t\t\t\t\t\t\t\t\t\t\t\t\t편의점 집 아들이 많이 컸네 \r\n",
            "\t\t\t\t\t\t\t\t\t\t\t\t\t\t\t\r\n",
            "\t\t\t\t\t\t\t\t\t\t\t\t\t\t\r\n",
            "\t\t\t\t\t\t\t\t\t\t\t\t\t\t\r\n",
            "\t\t\t\t\t\t\t\t\t\t\t\t\t</span>\n",
            "<span id=\"_filtered_ment_3\">\r\n",
            "\t\t\t\t\t\t\t\t\t\t\t\t\t\t\r\n",
            "\t\t\t\t\t\t\t\t\t\t\t\t\t\t\t\r\n",
            "\t\t\t\t\t\t\t\t\t\t\t\t\t\t\t\r\n",
            "\t\t\t\t\t\t\t\t\t\t\t\t\t\t\t\t중국맛이랑 헐리우드맛이랑 잘 섞어놨다고 생각하고, 나는 뭐 영화보는데 불편하지 않았고 액션 좋고 재밌었다. \r\n",
            "\t\t\t\t\t\t\t\t\t\t\t\t\t\t\t\r\n",
            "\t\t\t\t\t\t\t\t\t\t\t\t\t\t\r\n",
            "\t\t\t\t\t\t\t\t\t\t\t\t\t\t\r\n",
            "\t\t\t\t\t\t\t\t\t\t\t\t\t</span>\n",
            "<span id=\"_filtered_ment_4\">\r\n",
            "\t\t\t\t\t\t\t\t\t\t\t\t\t\t\r\n",
            "\t\t\t\t\t\t\t\t\t\t\t\t\t\t\t\r\n",
            "\t\t\t\t\t\t\t\t\t\t\t\t\t\t\t\r\n",
            "\t\t\t\t\t\t\t\t\t\t\t\t\t\t\t\t샹치배우 최선이었나 \r\n",
            "\t\t\t\t\t\t\t\t\t\t\t\t\t\t\t\r\n",
            "\t\t\t\t\t\t\t\t\t\t\t\t\t\t\r\n",
            "\t\t\t\t\t\t\t\t\t\t\t\t\t\t\r\n",
            "\t\t\t\t\t\t\t\t\t\t\t\t\t</span>\n",
            "<span id=\"_filtered_ment_5\">\r\n",
            "\t\t\t\t\t\t\t\t\t\t\t\t\t\t\r\n",
            "\t\t\t\t\t\t\t\t\t\t\t\t\t\t\t\r\n",
            "\t\t\t\t\t\t\t\t\t\t\t\t\t\t\t\r\n",
            "\t\t\t\t\t\t\t\t\t\t\t\t\t\t\t\t양조위는 항상 옳다 \r\n",
            "\t\t\t\t\t\t\t\t\t\t\t\t\t\t\t\r\n",
            "\t\t\t\t\t\t\t\t\t\t\t\t\t\t\r\n",
            "\t\t\t\t\t\t\t\t\t\t\t\t\t\t\r\n",
            "\t\t\t\t\t\t\t\t\t\t\t\t\t</span>\n",
            "<span id=\"_filtered_ment_6\">\r\n",
            "\t\t\t\t\t\t\t\t\t\t\t\t\t\t\r\n",
            "\t\t\t\t\t\t\t\t\t\t\t\t\t\t\t\r\n",
            "\t\t\t\t\t\t\t\t\t\t\t\t\t\t\t\r\n",
            "\t\t\t\t\t\t\t\t\t\t\t\t\t\t\t\t이번건 마블영화야 중화사상 영화가 아니라고.. \r\n",
            "\t\t\t\t\t\t\t\t\t\t\t\t\t\t\t\r\n",
            "\t\t\t\t\t\t\t\t\t\t\t\t\t\t\r\n",
            "\t\t\t\t\t\t\t\t\t\t\t\t\t\t\r\n",
            "\t\t\t\t\t\t\t\t\t\t\t\t\t</span>\n",
            "<span id=\"_filtered_ment_7\">\r\n",
            "\t\t\t\t\t\t\t\t\t\t\t\t\t\t\r\n",
            "\t\t\t\t\t\t\t\t\t\t\t\t\t\t\t\r\n",
            "\t\t\t\t\t\t\t\t\t\t\t\t\t\t\t\r\n",
            "\t\t\t\t\t\t\t\t\t\t\t\t\t\t\t\t샹치의 매력은 잘 모르겠으나 양조위는 좋았음 \r\n",
            "\t\t\t\t\t\t\t\t\t\t\t\t\t\t\t\r\n",
            "\t\t\t\t\t\t\t\t\t\t\t\t\t\t\r\n",
            "\t\t\t\t\t\t\t\t\t\t\t\t\t\t\r\n",
            "\t\t\t\t\t\t\t\t\t\t\t\t\t</span>\n",
            "<span id=\"_filtered_ment_8\">\r\n",
            "\t\t\t\t\t\t\t\t\t\t\t\t\t\t\r\n",
            "\t\t\t\t\t\t\t\t\t\t\t\t\t\t\t\r\n",
            "\t\t\t\t\t\t\t\t\t\t\t\t\t\t\t\r\n",
            "\t\t\t\t\t\t\t\t\t\t\t\t\t\t\t\t재미있기는 했는데, 중국의 전통 무술은 이제 확실히 유치하다고 생각이 든다.. \r\n",
            "\t\t\t\t\t\t\t\t\t\t\t\t\t\t\t\r\n",
            "\t\t\t\t\t\t\t\t\t\t\t\t\t\t\r\n",
            "\t\t\t\t\t\t\t\t\t\t\t\t\t\t\r\n",
            "\t\t\t\t\t\t\t\t\t\t\t\t\t</span>\n",
            "<span id=\"_filtered_ment_9\">\r\n",
            "\t\t\t\t\t\t\t\t\t\t\t\t\t\t\r\n",
            "\t\t\t\t\t\t\t\t\t\t\t\t\t\t\t\r\n",
            "\t\t\t\t\t\t\t\t\t\t\t\t\t\t\t\r\n",
            "\t\t\t\t\t\t\t\t\t\t\t\t\t\t\t\t마블 상자안에 짱 ㄱ 영화임. 개연성도 그닥이고 액션도 무슨 이돈주고 짱 ㄱ 영화 보지 말고 치킨에 맥주 드셈 \r\n",
            "\t\t\t\t\t\t\t\t\t\t\t\t\t\t\t\r\n",
            "\t\t\t\t\t\t\t\t\t\t\t\t\t\t\r\n",
            "\t\t\t\t\t\t\t\t\t\t\t\t\t\t\r\n",
            "\t\t\t\t\t\t\t\t\t\t\t\t\t</span>\n"
          ]
        }
      ]
    },
    {
      "cell_type": "code",
      "source": [
        "# html 태그 제거\n",
        "\n",
        "for i in range(10):\n",
        "  html_reviews = html_source.find('span', {'id': '_filtered_ment_' +str(i)})\n",
        "  print(html_reviews.text.strip())\n"
      ],
      "metadata": {
        "colab": {
          "base_uri": "https://localhost:8080/"
        },
        "id": "kZBfjOLOaXnF",
        "outputId": "c1e81ba3-d788-473f-947f-14e721f96e29"
      },
      "execution_count": 39,
      "outputs": [
        {
          "output_type": "stream",
          "name": "stdout",
          "text": [
            "재미도 없고 그냥 다 별로..\n",
            "머리는 샹치 응원하는데,, 마음은 양조위 응원함,, 명불허전 양조위ㅠㅠ\n",
            "편의점 집 아들이 많이 컸네\n",
            "중국맛이랑 헐리우드맛이랑 잘 섞어놨다고 생각하고, 나는 뭐 영화보는데 불편하지 않았고 액션 좋고 재밌었다.\n",
            "샹치배우 최선이었나\n",
            "양조위는 항상 옳다\n",
            "이번건 마블영화야 중화사상 영화가 아니라고..\n",
            "샹치의 매력은 잘 모르겠으나 양조위는 좋았음\n",
            "재미있기는 했는데, 중국의 전통 무술은 이제 확실히 유치하다고 생각이 든다..\n",
            "마블 상자안에 짱 ㄱ 영화임. 개연성도 그닥이고 액션도 무슨 이돈주고 짱 ㄱ 영화 보지 말고 치킨에 맥주 드셈\n"
          ]
        }
      ]
    },
    {
      "cell_type": "code",
      "source": [
        "from urllib.request import urlopen\n",
        "from bs4 import BeautifulSoup \n",
        "\n",
        "reviews_list = []\n",
        "for j in range(1,11):\n",
        "  url = 'https://movie.naver.com/movie/bi/mi/pointWriteFormList.naver?code=187348&type=after&isActualPointWriteExecute=false&isMileageSubscriptionAlready=false&isMileageSubscriptionReject=false&page='+str(j)\n",
        "  html = urlopen(url)\n",
        "  html_source = BeautifulSoup(html, 'html.parser', from_encoding='utf-8')\n",
        "\n",
        "  for k  in range(10):\n",
        "    html_reviews = html_source.find('span', {'id': '_filtered_ment_'+str(k)})\n",
        "    reviews_list.append(html_reviews.text.strip())\n",
        "\n",
        "file = open('reviews.txt', 'w', encoding='utf-8')\n",
        "for review in reviews_list:\n",
        "  file.write(review+ '\\n')\n",
        "file.close()"
      ],
      "metadata": {
        "id": "ckevn-18anSR"
      },
      "execution_count": 40,
      "outputs": []
    },
    {
      "cell_type": "markdown",
      "source": [
        " 크롤링데이터 전처리"
      ],
      "metadata": {
        "id": "4Phi1sT-cq9s"
      }
    },
    {
      "cell_type": "code",
      "source": [
        "with open('reviews.txt', 'r', encoding='utf-8') as f : \n",
        "  review_data = f.readlines()\n",
        "\n",
        "f.close()"
      ],
      "metadata": {
        "id": "8WFl-f8Cck0c"
      },
      "execution_count": 41,
      "outputs": []
    },
    {
      "cell_type": "code",
      "source": [
        "len(review_data)"
      ],
      "metadata": {
        "colab": {
          "base_uri": "https://localhost:8080/"
        },
        "id": "TDJZ7Dlcc3GE",
        "outputId": "bf3eca9d-1ff9-4538-bc10-aaac1264204e"
      },
      "execution_count": 42,
      "outputs": [
        {
          "output_type": "execute_result",
          "data": {
            "text/plain": [
              "100"
            ]
          },
          "metadata": {},
          "execution_count": 42
        }
      ]
    },
    {
      "cell_type": "code",
      "source": [
        "review_data"
      ],
      "metadata": {
        "colab": {
          "base_uri": "https://localhost:8080/"
        },
        "id": "ERP3wsi2c6CF",
        "outputId": "2b47754f-062e-4eaf-c30b-904db6d10d61"
      },
      "execution_count": 43,
      "outputs": [
        {
          "output_type": "execute_result",
          "data": {
            "text/plain": [
              "['명품 브랜드라 믿고 샀는데 안에 made in china가 적혀있었다\\n',\n",
              " '자세히 보면 중국 문화 올려치는 영화입니다. 초반부터 똥양계는 무조건 한국인 취급하는데 우리는 당당히 중국인이다. ㅇㅈㄹ하고요. 깊고 정통한 중국 문화는 대를 이어서 간다. 마카오에서 K-POP 댄스 추는 거 보고 ...\\n',\n",
              " '마블의 중국산 D-War\\n',\n",
              " '세계관이나 설정들이 너무 붕 떠있고 개연성은 밥말아 먹어놓고 억지 신파 끼워넣기에 주인공은 무색무취 아무 매력 없음. 10초전 까지 죽일듯이 싸우던 애들이 갑자기 우리 함께 싸우자 ㅇㅈㄹ 하질 않나. 아부지 행동들 ...\\n',\n",
              " '마블의 탈을 쓴 중국 무협영화. 중국 시장과 자본을 지나치게 의식한 디즈니의 연이은 헛발질. CG 범벅에 협소한 공간에서 몇 안되는 인원들의 액션 등 스케일마저 왜 이리 작아진 건지...\\n',\n",
              " '하 정말 재미없네요..\\n',\n",
              " '마블 영화를 본 건지 중국 영화를 본 건지 모르겠지만 양조위는 너무 멋있더라....\\n',\n",
              " '마블의 새로운 시작이다… 재밌어요\\n',\n",
              " '아부지를 왜케 미워하는거지 훈련빡시케 시켰다고 그러는건가아부지를 죽인댔다가 갑자기 필요하다하고 개연성이 좀 부족..텐링즈의 전설이란 제목도 뭐 굳이...\\n',\n",
              " '마블영화보면서 처음으로 졸았습니다 ㅜㅜ\\n',\n",
              " '일라오이 VS 사일러스\\n',\n",
              " '진짜 개노잼이다 와 이렇게 재미없는 마블영화도 첨\\n',\n",
              " '마블 영화라 믿기지 않을 정도로 지루해.. 졸려 죽는 줄 알았다ㅠ\\n',\n",
              " '노잼, 개연성 제로, 중국산 웹툰 느낌\\n',\n",
              " '전형적인 서양에서 생각하는 온갖 동양 클리셰는 몽따 넣은 영화 .. 보면서 불편\\n',\n",
              " '자기 어머니를 죽인 집단을, 다시 복수하는건데, 그걸 굳이 아버지를 미워하게 되는 관점이 좀 웃기긴함. 훈련과정속에서는 딱히 미워할요소가 없는데. 그리고 젤 황당했던게, 천년간 텐링즈끼고 잘 살아왔는데 난데없이 싸우...\\n',\n",
              " '보는내내ㅠ드는 생각....왜 총안씀...?\\n',\n",
              " '마블에서 디워를 만들면 이렇겠구나\\n',\n",
              " '솔직히 샹치 캐릭터의 매력이 뭔지 잘모르겠고 용타고 날라다닐땐 마블이 왜 저러나싶음...샹치 표정연기 못해서 캐릭터 몰입안됨..미스캐스팅....연기도 별로...캐릭들의 감정 이입도 어색하고(양조위 제외) 진행 전개도...\\n',\n",
              " '이게뭐냐 진짜 마블 실망\\n',\n",
              " '마블을 기대하고 갔다가 추억의 중국무술영화 보고옴. 중국무술영화 좋아하던 분들은 재밌겠네. 난 뭘 보고온거지....\\n',\n",
              " '보지마.... 그냥 길에 돈과 시간을 버리자\\n',\n",
              " '마블빠돌인데 난 왤캐 별로였지...중국권문화라 거부감이 들어서인가? 그냥 그 마을 들어갈때부터 뭔가 이상했음양조위는 진짜 잘생겼고 여지껏 마블에서 볼수없었던 액션이기에 신선했음.암튼 샹치데뷔를 축하합니다\\n',\n",
              " '영상미나 액션은 정말 좋았는데 뭔가 내용 전개자체는 마블답지 못한느낌이였음 중국산무협느낌은 있을수밖에 없다고 쳐도 수룡과 괴물의 싸움은 뭔가 좀 이질감드는느낌이였고 수룡얼굴이 너무 귀여웠음 디지니 애니메이션에 나올것...\\n',\n",
              " '뛰쳐나갈뻔 개인적으로 구데기\\n',\n",
              " '영상미 이런건 좋앗지만 그냥 중국영화 보는느낌이엿습니다,\\n',\n",
              " '액션은 확실히 엄청났다.하지만 영화는 액션이 전부가 아니다스토리가 어설프니 개연성이 부족하고, 개연성이 부족하니 영화에 몰입할 수 없다.이는 곧 영화가 노잼이라는 걸 의미한다.감상포인트를 하나 강제로 선택해야 하기에...\\n',\n",
              " '마블영화맞냐 넷플로 출시해도 볼까말까한 전형적인 짱깨영화\\n',\n",
              " '개인적으로 초반 30분은 신선했으나 이후부터는 흔한 쿵푸액션. 오그라들까말까 뜬금없을까말까 아슬아슬하게 선타기하는 신파와 스토리진행. cg와 영상미는 너무 좋았음\\n',\n",
              " '양조위와 나머지의 전설...\\n',\n",
              " 'ㅋㅋㅋ 아니 왜ㅋㅋㅋ 나는 재밋었는데 ㅋ디워보다는 솔직히 낫ㅈㅣ ㅋ\\n',\n",
              " '개연성 부족, 떡밥 회수 부족, 텐링즈 설명 부족\\n',\n",
              " '그냥저냥 짱캐풍 오락영화\\n',\n",
              " '진짜 재밌어? 진짜???\\n',\n",
              " '전혀 웃기지 않은 개그. 실제로 보면 민폐일것 같은 여친. 중국풍 CG 덩어리. 모든게 마블 답지 않았다. CG로 된 짜치는 용이 나온 순간 영화 자체가 그냥 흔한 중국 영화가 되어버렸다. 뜬금없는 중국속 구미호, ...\\n',\n",
              " '샹치와 아콰피나 친구컨셉으로 가자,러브라인으로 가면 못보겠슴\\n',\n",
              " '음 그냥 중국영화 딱 중국영화 그이상도 그이하도 아니다 중화 사상은 없는데 어디서 많이 본듯한 중국 무렵 영화 장면을 그대로 보는 듯 하고 발전이 없다. 영화 유투버들이 호들갑 떨면서 중국 느낌 없다고 해서 봤지만 ...\\n',\n",
              " '제발 악플 쓸거면 제대로 알고 등록합시다. 중국 자본 1도 안 들어간 영화고 중국에서 상영 금지된 영화입니다. 주인공 배우도 중국인 아니고 캐나다 국적의 배우입니다. 후반부의 플롯은 살짝 아쉬웠지만 영화 자체의 영상...\\n',\n",
              " '중국영화에 마블스티커\\n',\n",
              " '정말 마블의 영웅 서사는 기본기가 좋네요. 양조위는 신의 한 수!\\n',\n",
              " '와 액션 존윅급 꼭 강추 홀리몰리\\n',\n",
              " '그냥 중국 무협지 한편 봤다...중국영화 좋아하면 추천...아니면 노...\\n',\n",
              " '개인적으로 마블 영화의 강점은 확고한 그들만의 세계관과 그에따른 설득력이라 생각했는데. 샹치. 마블 히어로가 맞는가? 좀 더 완성도 있게 만든 중국무협영화 아니고? 천하의 마블이 양조위  포스에 묻어가려는 판이라니....\\n',\n",
              " '그냥 중국영화 줫노잼 스킵해도 됨\\n',\n",
              " '양조위가 너무 연기 잘함.  샹치보다 더 뇌리에 남음.  무술은 최고점!!!\\n',\n",
              " '마블 영화라고 너무 기대함\\n',\n",
              " '지루한 서사.. 갑자기 초인적 능력이 생기는게 이해가 안됨. 굳이 샹치 솔로무비가 필요했나 싶음. 솔로 없이 자연스레 마블에 합류했어도 될 것 같았음. 갠적으로 마블이 버리는 카드가 아닌가 싶었음.\\n',\n",
              " '시사회를 보고 온 사람으로 말씀드리지만 절대로 중국을 위한 영화가 아닌 그냥 마블 영화입니다. 중국투자를 받지 않았고, 양조위씨와 양자경씨는 중국 블랙리스트 배우들인데 중국을 위한 영화였다면 왜 이들을 썼을까요? 제...\\n',\n",
              " '마블 계급장 떼고 봐도 이건 진짜 역대급 영화임.. 스토리 좋았고 특히나 영상미는 미친 퀄리티임 진짜.\\n',\n",
              " '모자란 개연성에 인공호흡하는 양조위의 연기만 남은 영화\\n',\n",
              " '디워의 재림이란 말이 괜히 나온게 아니네  동양판타지 요소를 너무 과하게 넣음.. 특히 마지막 진 보스와 쫄따구 디자인은 어거지로 급하게 만들어 넣은느낌\\n',\n",
              " '양조위 말고는 딱히 남는 게 없는\\n',\n",
              " '다른 건 모르겠고 양조위 형님 얼굴에 주름 생긴 거 보니 가슴이 아파온다.\\n',\n",
              " '여기 댓글창 무슨일? 다들 샹치가 중국현지 개봉 및 홍보 금지처분 받은건 알고 말하는건가 감독님은 하와이안이고 케이티역인 아콰피나는 한국계 미국인이고 심지어 샹치 역을 맡은 시무리우 배우는 캐나다 이민 출신인데 할머...\\n',\n",
              " '미친 액션.. 진짜 화려해요양조위님은.. 늙지도 않으시고 너무 멋지고 애잔한 연기 좋아요\\n',\n",
              " '막 재밌다는건 아니고 쓰읍 하 아 뭐랄까 그냥 중국??\\n',\n",
              " '마지막 10분 정도만 존재감이 나타나는 주인공과 왠지 모르게 웃음이 나오는 액션씬. 디워와 쿵푸 팬더를 합쳐놓은 듯하다.\\n',\n",
              " '액션 ok 근데 이야기의 큰 줄기가 없다. 그냥 개연성이 부족한 오락영화\\n',\n",
              " '이게 슈X 드래곤볼이지 마블이아?\\n',\n",
              " '양조위 진짜 미쳤다 액션 눈빛 영어 다 대대대대존멋ㅠㅠ 액션 스케일도 쩔고 재밌는데 기승전 양조위 진짜 미쳤음\\n',\n",
              " '아니 마블 원작은 알고서 사람들이 욕을 하는건지 애초에 샹치라는 캐릭터 자체가 중국계 캐릭터고 마블에 이미 예전부터 샹치를 다루는 영화를 만들거라고 마블의 새로운 액션을 시도하겠다고 오래전부터 예고하고 있었는데무작정...\\n',\n",
              " '크게 기대는 안했지만 마블영화같지도않고 기대치보다도 낮네요.마블영화인데 보다가 졸았습니다.\\n',\n",
              " '이건 너무 충격적이다..마블 ㅂㄷ\\n',\n",
              " '영화관을 나오는데...장어먹고 싶드라..\\n',\n",
              " '마블 팬이라면 볼만하다는 댓글이 있는데 무슨소리인지 모르겠다. VOD로도 진짜 보기 아깝다.\\n',\n",
              " '마블답지 않은 전개에요\\n',\n",
              " '용이랑 괴물이 싸우는 장면에서 b급 중국영화 느낌이 나서 아쉬웠음\\n',\n",
              " '역시 cg처리를 비롯한 영상미는 끝내줬어요. 근데 너무나도 중국중국중국,, 언어만 영어를 사용할 뿐 언어를 제외한 영화의 모든게 중국!!! 내용도 뻔하고,,, 마블처돌이는 샹치를 보고 웁니다 ㅜㅅㅜ\\n',\n",
              " '너무 여러 가지 요소들을 짬뽕시켜놔서 좀 뜬금없는 느낌이 있었음\\n',\n",
              " '마블 껍데기 쓴 뻔한 중국 영화\\n',\n",
              " '양조위와 텐 링즈의 전설\\n',\n",
              " '마블을 보는건지, 중국영화를 보는건지...용 나올땐 어이가 없더라구요.영화전개도 별로고 마음에 드는게 하나도없었네요 ㅜ 영화보다가 잘뻔.\\n',\n",
              " '양조위씨 아버지의 애증연기가  다했습니다\\n',\n",
              " '와...나 양조위 좋아하네\\n',\n",
              " '뒷부분 하이라이트보다 앞부분 버스 씬이 더 샹치스러웠다\\n',\n",
              " '갠적으루 웬우 서사가 샹치 서사보다 더 좋았다ㅎㅎㅎ\\n',\n",
              " '초중반까지 분위기 좋다가 갑자기 중국전통 판타지 무협영화가 되버려서 아쉬웠네요.\\n',\n",
              " '양조위만 남았다..\\n',\n",
              " '중국풍이 넘 강해서 생각만큼 재밌진 않음 그냥 마블이라서 봄\\n',\n",
              " '액션에 공들인 게 확연히 느껴진다. 여느 슈퍼히어로 영화들과 같이 스토리 자체는 지극히 평범했다. 예상했던 대로 할리우드 특유의 오리엔탈리즘도 부각되었다. 이러한 점들을 감안해도 이 정도 완성도를 뽑아냈다는 것에 만...\\n',\n",
              " '마블영화라는 프레임에 속지마세요~\\n',\n",
              " '쿠키영상이 다했다 내용도 뻔한 클리셰지만 마블답게 잘 풀어낸거같음\\n',\n",
              " '마블 영화 중에 제일 재미없게 봤음ㅠㅠ\\n',\n",
              " '세상에 존재하는 클리셰는 다 집어넣은듯ㅋㅋㅋ 액션 많은건 좋은데 싸우다가 왜 죽는거 구경만 하는거에 답답함을 느낌\\n',\n",
              " '뭐 액션은 말이 필요없는 수준이고 마지막 클라이맥스 씬에서 스케일이나 영상미가 예술이었음ㅋㅋㅋ  페이즈 4에서 아주 중요한 영화인 듯하니 아이맥스로 꼭 보시길!\\n',\n",
              " '아버지를 저렇게까지 미워하는 게 좀 공감이 안갔다.\\n',\n",
              " '마블 영화 중 최악ㅎㅎㅋㅋ\\n',\n",
              " \"호불호가 많이 갈리네요 전 '호'였습니다\\n\",\n",
              " '오랜만에 잘잤다 덕분에 꿀잠\\n',\n",
              " '진심 중국은 마블 내에서도 민폐네요 중국산은 어떻게든 위상 높일려고 안달난 느낌 올림픽이든 뭐든 다 발악하겠지만 아무도 인정 안해줍니다\\n',\n",
              " '재미도 없고 그냥 다 별로..\\n',\n",
              " '머리는 샹치 응원하는데,, 마음은 양조위 응원함,, 명불허전 양조위ㅠㅠ\\n',\n",
              " '편의점 집 아들이 많이 컸네\\n',\n",
              " '중국맛이랑 헐리우드맛이랑 잘 섞어놨다고 생각하고, 나는 뭐 영화보는데 불편하지 않았고 액션 좋고 재밌었다.\\n',\n",
              " '샹치배우 최선이었나\\n',\n",
              " '양조위는 항상 옳다\\n',\n",
              " '이번건 마블영화야 중화사상 영화가 아니라고..\\n',\n",
              " '샹치의 매력은 잘 모르겠으나 양조위는 좋았음\\n',\n",
              " '재미있기는 했는데, 중국의 전통 무술은 이제 확실히 유치하다고 생각이 든다..\\n',\n",
              " '마블 상자안에 짱 ㄱ 영화임. 개연성도 그닥이고 액션도 무슨 이돈주고 짱 ㄱ 영화 보지 말고 치킨에 맥주 드셈\\n']"
            ]
          },
          "metadata": {},
          "execution_count": 43
        }
      ]
    },
    {
      "cell_type": "markdown",
      "source": [
        "한글만 남기고 다른 글자 제거"
      ],
      "metadata": {
        "id": "PJQWxuWzc-sd"
      }
    },
    {
      "cell_type": "code",
      "source": [
        "import re\n",
        "\n",
        "tmp = re.sub('[^ 가-힣]', '', review_data[99])\n",
        "print(tmp)"
      ],
      "metadata": {
        "colab": {
          "base_uri": "https://localhost:8080/"
        },
        "id": "L5aqJRepc-Xs",
        "outputId": "8ee5b1e7-5bd1-4db5-d5fa-dda6476a0d2a"
      },
      "execution_count": 23,
      "outputs": [
        {
          "output_type": "stream",
          "name": "stdout",
          "text": [
            "마블 상자안에 짱  영화임 개연성도 그닥이고 액션도 무슨 이돈주고 짱  영화 보지 말고 치킨에 맥주 드셈\n"
          ]
        }
      ]
    },
    {
      "cell_type": "code",
      "source": [
        "tmp = re.sub(' +', '', tmp)\n",
        "print(tmp)"
      ],
      "metadata": {
        "colab": {
          "base_uri": "https://localhost:8080/"
        },
        "id": "jHgkt_eCdnQx",
        "outputId": "f8a20c1a-058d-4ba4-8970-b0e35dcb8b89"
      },
      "execution_count": 24,
      "outputs": [
        {
          "output_type": "stream",
          "name": "stdout",
          "text": [
            "마블상자안에짱영화임개연성도그닥이고액션도무슨이돈주고짱영화보지말고치킨에맥주드셈\n"
          ]
        }
      ]
    },
    {
      "cell_type": "code",
      "source": [
        "!pip install git+https://github.com/haven-jeon/PyKoSpacing.git"
      ],
      "metadata": {
        "id": "p6Z5riFTfurY"
      },
      "execution_count": null,
      "outputs": []
    },
    {
      "cell_type": "code",
      "source": [
        "# pykospacing 으로 띄어쓰기 교정\n",
        "\n",
        "from pykospacing import Spacing \n",
        "spacing = Spacing()\n",
        "kospacing_sent = spacing(tmp)\n",
        "\n",
        "print(kospacing_sent)"
      ],
      "metadata": {
        "colab": {
          "base_uri": "https://localhost:8080/"
        },
        "id": "QxrRQZntd4Gz",
        "outputId": "0bd2af27-0713-4193-85cc-64e26dcdad01"
      },
      "execution_count": 25,
      "outputs": [
        {
          "output_type": "stream",
          "name": "stdout",
          "text": [
            "마블상자 안에 짱 영화 임개연성도 그닥이 고 액션도 무슨 이돈 주고 짱 영화 보지 말고 치킨에 맥주 드셈\n"
          ]
        }
      ]
    },
    {
      "cell_type": "code",
      "source": [
        "!pip install git+https://github.com/ssut/py-hanspell.git"
      ],
      "metadata": {
        "id": "Ngqbnr__fyZg"
      },
      "execution_count": null,
      "outputs": []
    },
    {
      "cell_type": "code",
      "source": [
        "# hanspell 으로 맞춤법 교정\n",
        "\n",
        "from hanspell import spell_checker \n",
        "spell_sent = spell_checker.check(tmp)\n",
        "\n",
        "spell_checked = spell_sent.checked\n",
        "print(spell_checked)"
      ],
      "metadata": {
        "colab": {
          "base_uri": "https://localhost:8080/"
        },
        "id": "vTXsP0-VeNga",
        "outputId": "e19a0407-9c1b-4e78-fcbe-85f119853e2a"
      },
      "execution_count": 26,
      "outputs": [
        {
          "output_type": "stream",
          "name": "stdout",
          "text": [
            "마블 상자 안에 짱 영화임 개연성도 별로이고 액션도 무슨 이 돈 주고 장영화 보지 말고 치킨에 맥주 드세요\n"
          ]
        }
      ]
    }
  ]
}