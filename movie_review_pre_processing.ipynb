{
  "nbformat": 4,
  "nbformat_minor": 0,
  "metadata": {
    "colab": {
      "name": "movie_review_pre-processing.ipynb",
      "provenance": [],
      "authorship_tag": "ABX9TyOJCdZmtnpx8rbMO8rdGIkn",
      "include_colab_link": true
    },
    "kernelspec": {
      "name": "python3",
      "display_name": "Python 3"
    },
    "language_info": {
      "name": "python"
    }
  },
  "cells": [
    {
      "cell_type": "markdown",
      "metadata": {
        "id": "view-in-github",
        "colab_type": "text"
      },
      "source": [
        "<a href=\"https://colab.research.google.com/github/seonmia/NLP/blob/main/movie_review_pre_processing.ipynb\" target=\"_parent\"><img src=\"https://colab.research.google.com/assets/colab-badge.svg\" alt=\"Open In Colab\"/></a>"
      ]
    },
    {
      "cell_type": "markdown",
      "source": [
        "### 네이버 영화리뷰 크롤링 "
      ],
      "metadata": {
        "id": "lXGwdpXbYI_b"
      }
    },
    {
      "cell_type": "code",
      "source": [
        "from urllib.request import urlopen   # 웹 서버 접근 모듈 \n",
        "from bs4 import BeautifulSoup  \n"
      ],
      "metadata": {
        "id": "QKnhnV7AYIHj"
      },
      "execution_count": 4,
      "outputs": []
    },
    {
      "cell_type": "code",
      "source": [
        "url = 'https://movie.naver.com/movie/bi/mi/pointWriteFormList.naver?code=187348&type=after&isActualPointWriteExecute=false&isMileageSubscriptionAlready=false&isMileageSubscriptionReject=false&page=10'\n",
        "html= urlopen(url)\n",
        "html_source = BeautifulSoup(html, 'html.parser', from_encoding ='utf-8')  # html 소스 크롤링"
      ],
      "metadata": {
        "id": "ZRs3Vc76YU24"
      },
      "execution_count": 36,
      "outputs": []
    },
    {
      "cell_type": "code",
      "source": [
        "print(html_source)"
      ],
      "metadata": {
        "id": "cof2hP-TYkHn"
      },
      "execution_count": null,
      "outputs": []
    },
    {
      "cell_type": "code",
      "source": [
        "# 첫번째 리뷰\n",
        "\n",
        "html_reviews = html_source.find('span', {'id': '_filtered_ment_0'})\n",
        "print(html_reviews)"
      ],
      "metadata": {
        "colab": {
          "base_uri": "https://localhost:8080/"
        },
        "id": "i67jAo6rY8NM",
        "outputId": "cd935b55-2a78-44f6-df47-a25ac97b317f"
      },
      "execution_count": 37,
      "outputs": [
        {
          "output_type": "stream",
          "name": "stdout",
          "text": [
            "<span id=\"_filtered_ment_0\">\r\n",
            "\t\t\t\t\t\t\t\t\t\t\t\t\t\t\r\n",
            "\t\t\t\t\t\t\t\t\t\t\t\t\t\t\t\r\n",
            "\t\t\t\t\t\t\t\t\t\t\t\t\t\t\t\r\n",
            "\t\t\t\t\t\t\t\t\t\t\t\t\t\t\t\t재미도 없고 그냥 다 별로.. \r\n",
            "\t\t\t\t\t\t\t\t\t\t\t\t\t\t\t\r\n",
            "\t\t\t\t\t\t\t\t\t\t\t\t\t\t\r\n",
            "\t\t\t\t\t\t\t\t\t\t\t\t\t\t\r\n",
            "\t\t\t\t\t\t\t\t\t\t\t\t\t</span>\n"
          ]
        }
      ]
    },
    {
      "cell_type": "code",
      "source": [
        "# 리뷰 10개 크롤링\n",
        "for i in range(10):\n",
        "  html_reviews = html_source.find('span', {'id': '_filtered_ment_' +str(i)})\n",
        "  print(html_reviews)\n"
      ],
      "metadata": {
        "id": "UTkq_3veZMNU"
      },
      "execution_count": null,
      "outputs": []
    },
    {
      "cell_type": "code",
      "source": [
        "# html 태그 제거\n",
        "\n",
        "for i in range(10):\n",
        "  html_reviews = html_source.find('span', {'id': '_filtered_ment_' +str(i)})\n",
        "  print(html_reviews.text.strip())\n"
      ],
      "metadata": {
        "colab": {
          "base_uri": "https://localhost:8080/"
        },
        "id": "kZBfjOLOaXnF",
        "outputId": "c1e81ba3-d788-473f-947f-14e721f96e29"
      },
      "execution_count": 39,
      "outputs": [
        {
          "output_type": "stream",
          "name": "stdout",
          "text": [
            "재미도 없고 그냥 다 별로..\n",
            "머리는 샹치 응원하는데,, 마음은 양조위 응원함,, 명불허전 양조위ㅠㅠ\n",
            "편의점 집 아들이 많이 컸네\n",
            "중국맛이랑 헐리우드맛이랑 잘 섞어놨다고 생각하고, 나는 뭐 영화보는데 불편하지 않았고 액션 좋고 재밌었다.\n",
            "샹치배우 최선이었나\n",
            "양조위는 항상 옳다\n",
            "이번건 마블영화야 중화사상 영화가 아니라고..\n",
            "샹치의 매력은 잘 모르겠으나 양조위는 좋았음\n",
            "재미있기는 했는데, 중국의 전통 무술은 이제 확실히 유치하다고 생각이 든다..\n",
            "마블 상자안에 짱 ㄱ 영화임. 개연성도 그닥이고 액션도 무슨 이돈주고 짱 ㄱ 영화 보지 말고 치킨에 맥주 드셈\n"
          ]
        }
      ]
    },
    {
      "cell_type": "code",
      "source": [
        "from urllib.request import urlopen\n",
        "from bs4 import BeautifulSoup \n",
        "\n",
        "reviews_list = []\n",
        "for j in range(1,11):\n",
        "  url = 'https://movie.naver.com/movie/bi/mi/pointWriteFormList.naver?code=187348&type=after&isActualPointWriteExecute=false&isMileageSubscriptionAlready=false&isMileageSubscriptionReject=false&page='+str(j)\n",
        "  html = urlopen(url)\n",
        "  html_source = BeautifulSoup(html, 'html.parser', from_encoding='utf-8')\n",
        "\n",
        "  for k  in range(10):\n",
        "    html_reviews = html_source.find('span', {'id': '_filtered_ment_'+str(k)})\n",
        "    reviews_list.append(html_reviews.text.strip())\n",
        "\n",
        "file = open('reviews.txt', 'w', encoding='utf-8')\n",
        "for review in reviews_list:\n",
        "  file.write(review+ '\\n')\n",
        "file.close()"
      ],
      "metadata": {
        "id": "ckevn-18anSR"
      },
      "execution_count": 40,
      "outputs": []
    },
    {
      "cell_type": "markdown",
      "source": [
        " 크롤링데이터 전처리"
      ],
      "metadata": {
        "id": "4Phi1sT-cq9s"
      }
    },
    {
      "cell_type": "code",
      "source": [
        "with open('reviews.txt', 'r', encoding='utf-8') as f : \n",
        "  review_data = f.readlines()\n",
        "\n",
        "f.close()"
      ],
      "metadata": {
        "id": "8WFl-f8Cck0c"
      },
      "execution_count": 41,
      "outputs": []
    },
    {
      "cell_type": "code",
      "source": [
        "len(review_data)"
      ],
      "metadata": {
        "colab": {
          "base_uri": "https://localhost:8080/"
        },
        "id": "TDJZ7Dlcc3GE",
        "outputId": "bf3eca9d-1ff9-4538-bc10-aaac1264204e"
      },
      "execution_count": 42,
      "outputs": [
        {
          "output_type": "execute_result",
          "data": {
            "text/plain": [
              "100"
            ]
          },
          "metadata": {},
          "execution_count": 42
        }
      ]
    },
    {
      "cell_type": "code",
      "source": [
        "review_data"
      ],
      "metadata": {
        "id": "ERP3wsi2c6CF"
      },
      "execution_count": null,
      "outputs": []
    },
    {
      "cell_type": "markdown",
      "source": [
        "한글만 남기고 다른 글자 제거"
      ],
      "metadata": {
        "id": "PJQWxuWzc-sd"
      }
    },
    {
      "cell_type": "code",
      "source": [
        "import re\n",
        "\n",
        "tmp = re.sub('[^ 가-힣]', '', review_data[99])\n",
        "print(tmp)"
      ],
      "metadata": {
        "colab": {
          "base_uri": "https://localhost:8080/"
        },
        "id": "L5aqJRepc-Xs",
        "outputId": "8ee5b1e7-5bd1-4db5-d5fa-dda6476a0d2a"
      },
      "execution_count": 23,
      "outputs": [
        {
          "output_type": "stream",
          "name": "stdout",
          "text": [
            "마블 상자안에 짱  영화임 개연성도 그닥이고 액션도 무슨 이돈주고 짱  영화 보지 말고 치킨에 맥주 드셈\n"
          ]
        }
      ]
    },
    {
      "cell_type": "code",
      "source": [
        "tmp = re.sub(' +', '', tmp)\n",
        "print(tmp)"
      ],
      "metadata": {
        "colab": {
          "base_uri": "https://localhost:8080/"
        },
        "id": "jHgkt_eCdnQx",
        "outputId": "f8a20c1a-058d-4ba4-8970-b0e35dcb8b89"
      },
      "execution_count": 24,
      "outputs": [
        {
          "output_type": "stream",
          "name": "stdout",
          "text": [
            "마블상자안에짱영화임개연성도그닥이고액션도무슨이돈주고짱영화보지말고치킨에맥주드셈\n"
          ]
        }
      ]
    },
    {
      "cell_type": "code",
      "source": [
        "!pip install git+https://github.com/haven-jeon/PyKoSpacing.git"
      ],
      "metadata": {
        "id": "p6Z5riFTfurY"
      },
      "execution_count": null,
      "outputs": []
    },
    {
      "cell_type": "code",
      "source": [
        "# pykospacing 으로 띄어쓰기 교정\n",
        "\n",
        "from pykospacing import Spacing \n",
        "spacing = Spacing()\n",
        "kospacing_sent = spacing(tmp)\n",
        "\n",
        "print(kospacing_sent)"
      ],
      "metadata": {
        "colab": {
          "base_uri": "https://localhost:8080/"
        },
        "id": "QxrRQZntd4Gz",
        "outputId": "0bd2af27-0713-4193-85cc-64e26dcdad01"
      },
      "execution_count": 25,
      "outputs": [
        {
          "output_type": "stream",
          "name": "stdout",
          "text": [
            "마블상자 안에 짱 영화 임개연성도 그닥이 고 액션도 무슨 이돈 주고 짱 영화 보지 말고 치킨에 맥주 드셈\n"
          ]
        }
      ]
    },
    {
      "cell_type": "code",
      "source": [
        "!pip install git+https://github.com/ssut/py-hanspell.git"
      ],
      "metadata": {
        "id": "Ngqbnr__fyZg"
      },
      "execution_count": null,
      "outputs": []
    },
    {
      "cell_type": "code",
      "source": [
        "# hanspell 으로 맞춤법 교정\n",
        "\n",
        "from hanspell import spell_checker \n",
        "spell_sent = spell_checker.check(tmp)\n",
        "\n",
        "spell_checked = spell_sent.checked\n",
        "print(spell_checked)"
      ],
      "metadata": {
        "colab": {
          "base_uri": "https://localhost:8080/"
        },
        "id": "vTXsP0-VeNga",
        "outputId": "e19a0407-9c1b-4e78-fcbe-85f119853e2a"
      },
      "execution_count": 26,
      "outputs": [
        {
          "output_type": "stream",
          "name": "stdout",
          "text": [
            "마블 상자 안에 짱 영화임 개연성도 별로이고 액션도 무슨 이 돈 주고 장영화 보지 말고 치킨에 맥주 드세요\n"
          ]
        }
      ]
    }
  ]
}