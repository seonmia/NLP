{
  "cells": [
    {
      "cell_type": "markdown",
      "metadata": {
        "id": "view-in-github",
        "colab_type": "text"
      },
      "source": [
        "<a href=\"https://colab.research.google.com/github/seonmia/NLP/blob/main/XLNet_SentimentClassification(baseline_code).ipynb\" target=\"_parent\"><img src=\"https://colab.research.google.com/assets/colab-badge.svg\" alt=\"Open In Colab\"/></a>"
      ]
    },
    {
      "cell_type": "markdown",
      "source": [
        "# Hyperparameters"
      ],
      "metadata": {
        "id": "vJ43LxNsKJiJ"
      }
    },
    {
      "cell_type": "code",
      "source": [
        "used_model = 'xlnet-base-cased'\n",
        "cased = False if 'uncased' in used_model else True\n",
        "\n",
        "train_batch_size = 32\n",
        "eval_batch_size = 32\n",
        "test_batch_size = 32\n",
        "\n",
        "learning_rate = 2e-5\n",
        "train_epoch = 4\n",
        "# weight_decay = 0.001\n",
        "\n",
        "wandb_project = \"final_project1\" # WandB에 넣어둘 프로젝트 이름을 적절히 설정해주세요\n",
        "wandb_team = \"seonmia\" # WandB 팀명"
      ],
      "metadata": {
        "id": "M7TG0QXCHWX8"
      },
      "execution_count": 24,
      "outputs": []
    },
    {
      "cell_type": "markdown",
      "metadata": {
        "id": "TH32rzgprvgM"
      },
      "source": [
        "# Import requirements"
      ]
    },
    {
      "cell_type": "code",
      "source": [
        "!pip install sentencepiece  # xlnet import "
      ],
      "metadata": {
        "colab": {
          "base_uri": "https://localhost:8080/"
        },
        "id": "IjkA5HL4xibv",
        "outputId": "01b022eb-e1ba-4574-a15c-8da0b291ac35"
      },
      "execution_count": 1,
      "outputs": [
        {
          "output_type": "stream",
          "name": "stdout",
          "text": [
            "Looking in indexes: https://pypi.org/simple, https://us-python.pkg.dev/colab-wheels/public/simple/\n",
            "Collecting sentencepiece\n",
            "  Downloading sentencepiece-0.1.96-cp37-cp37m-manylinux_2_17_x86_64.manylinux2014_x86_64.whl (1.2 MB)\n",
            "\u001b[K     |████████████████████████████████| 1.2 MB 5.1 MB/s \n",
            "\u001b[?25hInstalling collected packages: sentencepiece\n",
            "Successfully installed sentencepiece-0.1.96\n"
          ]
        }
      ]
    },
    {
      "cell_type": "code",
      "execution_count": 3,
      "metadata": {
        "colab": {
          "base_uri": "https://localhost:8080/"
        },
        "id": "v2IdVbV6hTg1",
        "outputId": "dd3b1edc-1288-4fd0-d4cf-e8ad15d665b1"
      },
      "outputs": [
        {
          "output_type": "stream",
          "name": "stdout",
          "text": [
            "Mounted at /content/drive\n"
          ]
        }
      ],
      "source": [
        "from google.colab import drive\n",
        "drive.mount('/content/drive')"
      ]
    },
    {
      "cell_type": "code",
      "execution_count": null,
      "metadata": {
        "id": "G9EvC1HBuf41"
      },
      "outputs": [],
      "source": [
        "!pip install transformers"
      ]
    },
    {
      "cell_type": "code",
      "execution_count": null,
      "metadata": {
        "id": "EItvx07sjVCj"
      },
      "outputs": [],
      "source": [
        "!pip install wandb"
      ]
    },
    {
      "cell_type": "code",
      "execution_count": 6,
      "metadata": {
        "id": "AAdLxrUZrvgP"
      },
      "outputs": [],
      "source": [
        "import os\n",
        "import pdb\n",
        "import argparse\n",
        "from dataclasses import dataclass, field\n",
        "from typing import Optional\n",
        "from collections import defaultdict\n",
        "import wandb\n",
        "from time import time\n",
        "\n",
        "import torch\n",
        "from torch.nn.utils.rnn import pad_sequence\n",
        "\n",
        "import numpy as np\n",
        "from tqdm import tqdm, trange\n",
        "from transformers import (\n",
        "    BertForSequenceClassification,\n",
        "    BertTokenizer,\n",
        "    AutoConfig,\n",
        "    AdamW,\n",
        ")"
      ]
    },
    {
      "cell_type": "code",
      "execution_count": null,
      "metadata": {
        "colab": {
          "base_uri": "https://localhost:8080/",
          "height": 71
        },
        "id": "BnXg5J6ry6B_",
        "outputId": "05787288-610d-4b17-f2bf-89a72dada9e5"
      },
      "outputs": [
        {
          "output_type": "display_data",
          "data": {
            "text/plain": [
              "<IPython.core.display.Javascript object>"
            ],
            "application/javascript": [
              "\n",
              "        window._wandbApiKey = new Promise((resolve, reject) => {\n",
              "            function loadScript(url) {\n",
              "            return new Promise(function(resolve, reject) {\n",
              "                let newScript = document.createElement(\"script\");\n",
              "                newScript.onerror = reject;\n",
              "                newScript.onload = resolve;\n",
              "                document.body.appendChild(newScript);\n",
              "                newScript.src = url;\n",
              "            });\n",
              "            }\n",
              "            loadScript(\"https://cdn.jsdelivr.net/npm/postmate/build/postmate.min.js\").then(() => {\n",
              "            const iframe = document.createElement('iframe')\n",
              "            iframe.style.cssText = \"width:0;height:0;border:none\"\n",
              "            document.body.appendChild(iframe)\n",
              "            const handshake = new Postmate({\n",
              "                container: iframe,\n",
              "                url: 'https://wandb.ai/authorize'\n",
              "            });\n",
              "            const timeout = setTimeout(() => reject(\"Couldn't auto authenticate\"), 5000)\n",
              "            handshake.then(function(child) {\n",
              "                child.on('authorize', data => {\n",
              "                    clearTimeout(timeout)\n",
              "                    resolve(data)\n",
              "                });\n",
              "            });\n",
              "            })\n",
              "        });\n",
              "    "
            ]
          },
          "metadata": {}
        },
        {
          "output_type": "stream",
          "name": "stderr",
          "text": [
            "\u001b[34m\u001b[1mwandb\u001b[0m: Appending key for api.wandb.ai to your netrc file: /root/.netrc\n"
          ]
        },
        {
          "output_type": "execute_result",
          "data": {
            "text/plain": [
              "True"
            ]
          },
          "metadata": {},
          "execution_count": 6
        }
      ],
      "source": [
        "wandb.login() #추가 "
      ]
    },
    {
      "cell_type": "code",
      "source": [
        "from transformers import XLNetTokenizer, XLNetForSequenceClassification   # xlnet import "
      ],
      "metadata": {
        "id": "dcJa3X3UzRbq"
      },
      "execution_count": 8,
      "outputs": []
    },
    {
      "cell_type": "markdown",
      "metadata": {
        "id": "ASWOOmXqrvgQ"
      },
      "source": [
        "# 1. Preprocess"
      ]
    },
    {
      "cell_type": "code",
      "execution_count": 7,
      "metadata": {
        "id": "RAnU6w29rvgR"
      },
      "outputs": [],
      "source": [
        "def make_id_file(task, tokenizer, cased):\n",
        "    def make_data_strings(file_name, cased):\n",
        "        data_strings = []\n",
        "        with open(os.path.join(file_name), 'r', encoding='utf-8') as f:\n",
        "            id_file_data = [tokenizer.encode(line if cased else line.lower()) for line in f.readlines()]\n",
        "        for item in id_file_data:\n",
        "            data_strings.append(' '.join([str(k) for k in item]))\n",
        "        return data_strings\n",
        "  \n",
        "    print('it will take some times...')\n",
        "    train_pos = make_data_strings('sentiment.train.1', cased)\n",
        "    train_neg = make_data_strings('sentiment.train.0', cased)\n",
        "    dev_pos = make_data_strings('sentiment.dev.1', cased)\n",
        "    dev_neg = make_data_strings('sentiment.dev.0', cased)\n",
        "\n",
        "    print('make id file finished!')\n",
        "    return train_pos, train_neg, dev_pos, dev_neg"
      ]
    },
    {
      "cell_type": "code",
      "execution_count": 10,
      "metadata": {
        "id": "Ui2HOCflrvgR"
      },
      "outputs": [],
      "source": [
        "# tokenizer = BertTokenizer.from_pretrained(used_model)\n",
        "tokenizer = XLNetTokenizer.from_pretrained(used_model)"
      ]
    },
    {
      "cell_type": "code",
      "execution_count": 11,
      "metadata": {
        "colab": {
          "base_uri": "https://localhost:8080/"
        },
        "id": "Mui8EzDphdkV",
        "outputId": "77f7d964-e6cb-47d0-e5f6-ed1c7ff86dd9"
      },
      "outputs": [
        {
          "output_type": "stream",
          "name": "stdout",
          "text": [
            "/content/drive/.shortcut-targets-by-id/1ovgSHdL_LDsDV-KWBQ2NNEs2v8Mpi0fm/GoormProject1/goorm-project-1-text-classification\n"
          ]
        }
      ],
      "source": [
        "%cd /content/drive/MyDrive/GoormProject1/goorm-project-1-text-classification"
      ]
    },
    {
      "cell_type": "code",
      "execution_count": null,
      "metadata": {
        "id": "M-5mHo4piL_-"
      },
      "outputs": [],
      "source": [
        "!ls"
      ]
    },
    {
      "cell_type": "code",
      "execution_count": 13,
      "metadata": {
        "colab": {
          "base_uri": "https://localhost:8080/"
        },
        "id": "BAgztXIBrvgS",
        "outputId": "990e79aa-923f-4b6f-e8d4-8462e4617617"
      },
      "outputs": [
        {
          "output_type": "stream",
          "name": "stdout",
          "text": [
            "it will take some times...\n",
            "make id file finished!\n"
          ]
        }
      ],
      "source": [
        "train_pos, train_neg, dev_pos, dev_neg = make_id_file('yelp', tokenizer, cased)"
      ]
    },
    {
      "cell_type": "code",
      "execution_count": 14,
      "metadata": {
        "id": "JdpQQQMUrvgT"
      },
      "outputs": [],
      "source": [
        "class SentimentDataset(object):\n",
        "    #  def __init__(self, pos, neg):\n",
        "    def __init__(self, tokenizer, pos, neg):\n",
        "        self.tokenizer = tokenizer\n",
        "        self.data = []\n",
        "        self.label = []\n",
        "\n",
        "        for pos_sent in pos:\n",
        "            self.data += [self._cast_to_int(pos_sent.strip().split())]\n",
        "            self.label += [[1]]\n",
        "        for neg_sent in neg:\n",
        "            self.data += [self._cast_to_int(neg_sent.strip().split())]\n",
        "            self.label += [[0]]\n",
        "    def _cast_to_int(self, sample):\n",
        "        return [int(word_id) for word_id in sample]\n",
        "    def __len__(self):\n",
        "        return len(self.data)\n",
        "    def __getitem__(self, index):\n",
        "         sample = self.data[index]\n",
        "         return np.array(sample), np.array(self.label[index])         "
      ]
    },
    {
      "cell_type": "code",
      "execution_count": 15,
      "metadata": {
        "id": "wCz5ey8xrvgU"
      },
      "outputs": [],
      "source": [
        "train_dataset = SentimentDataset(tokenizer, train_pos, train_neg)\n",
        "dev_dataset = SentimentDataset(tokenizer, dev_pos, dev_neg)"
      ]
    },
    {
      "cell_type": "code",
      "execution_count": 16,
      "metadata": {
        "id": "UuvkMczvrvgU",
        "colab": {
          "base_uri": "https://localhost:8080/"
        },
        "outputId": "4e24c743-75bb-4c93-829c-0dfa80fbccdd"
      },
      "outputs": [
        {
          "output_type": "stream",
          "name": "stdout",
          "text": [
            "(array([2712,  626,   17,    9,    4,    3]), array([1]))\n",
            "(array([11647,  2211,   348,    17,     9,     4,     3]), array([1]))\n",
            "(array([  63,   77,   47, 1362,  632,   23,   21, 2528, 5145,   59,   27,\n",
            "        343,  195,   17,    9,    4,    3]), array([1]))\n",
            "(array([   36,    17,    26,    23,    24,   195, 15294,    68,  6938,\n",
            "         101, 14378,    17,     9,     4,     3]), array([1]))\n",
            "(array([  18,  891,   27, 3667,   17,    9,    4,    3]), array([1]))\n",
            "(array([ 195, 1808,  626,   17,    9,    4,    3]), array([1]))\n",
            "(array([195, 348,  17,   9,   4,   3]), array([1]))\n",
            "(array([10480,    20,   191,    27, 18749,    21,  3895,    20,   632,\n",
            "          23,    17,     9,     4,     3]), array([1]))\n",
            "(array([  312,   250,    28,  3953,    49,  1808, 21929,    21,  5751,\n",
            "          17,     9,     4,     3]), array([1]))\n",
            "(array([  18,  109,  944, 1898, 3704,   17,    9,    4,    3]), array([1]))\n",
            "(array([ 52, 250,  30, 172, 195,  17,   9,   4,   3]), array([1]))\n"
          ]
        }
      ],
      "source": [
        "for i, item in enumerate(train_dataset):\n",
        "    print(item)\n",
        "    if i == 10:\n",
        "        break"
      ]
    },
    {
      "cell_type": "code",
      "execution_count": 17,
      "metadata": {
        "id": "B0wRUBYSrvgU"
      },
      "outputs": [],
      "source": [
        "def collate_fn_style(samples):\n",
        "    input_ids, labels = zip(*samples)\n",
        "    max_len = max(len(input_id) for input_id in input_ids)\n",
        "    attention_mask = torch.tensor([[1] * len(input_id) + [0] * (max_len - len(input_id)) for input_id in input_ids])\n",
        "    input_ids = pad_sequence([torch.tensor(input_id) for input_id in input_ids],\n",
        "                             batch_first=True)\n",
        "    \n",
        "    token_type_ids = torch.tensor([[0] * len(input_id) for input_id in input_ids])\n",
        "    position_ids = torch.tensor([list(range(len(input_id))) for input_id in input_ids])\n",
        "    labels = torch.tensor(np.stack(labels, axis=0))\n",
        "\n",
        "    return input_ids, attention_mask, token_type_ids, position_ids, labels"
      ]
    },
    {
      "cell_type": "code",
      "execution_count": 18,
      "metadata": {
        "id": "5saagig0rvgV"
      },
      "outputs": [],
      "source": [
        "train_loader = torch.utils.data.DataLoader(train_dataset,\n",
        "                                           batch_size=train_batch_size,\n",
        "                                           shuffle=True, collate_fn=collate_fn_style,\n",
        "                                           pin_memory=True, num_workers=2)\n",
        "dev_loader = torch.utils.data.DataLoader(dev_dataset, batch_size=eval_batch_size,\n",
        "                                         shuffle=False, collate_fn=collate_fn_style,\n",
        "                                         num_workers=2)"
      ]
    },
    {
      "cell_type": "markdown",
      "source": [
        "# 2. Train"
      ],
      "metadata": {
        "id": "O3eFDUI9T3K6"
      }
    },
    {
      "cell_type": "code",
      "execution_count": 19,
      "metadata": {
        "id": "zvFqCaCnrvgW",
        "colab": {
          "base_uri": "https://localhost:8080/",
          "height": 1000,
          "referenced_widgets": [
            "4c680bc9abcc46a293208cd44fd8621d",
            "768b6996cf894b1f904b628fe3e497a6",
            "dd761aa27d4548d2aba9d5dcfded03a0",
            "550f81f6b323482e921faf22c341aa70",
            "abe1e9956d5a4642ae5b5d5641d11bcc",
            "a132c0c9879c4e54aa646ce0f2f14eec",
            "3118c8602220404f99079b8315ec46e1",
            "73fba42b96b04effb0c0dddc535903dc",
            "b80bd1cd10a84580a0536352c36ba140",
            "0a86975623cd49578b80dea2e74e5428",
            "8b98351659c44ef1b81e7ba6b1ba16f1"
          ]
        },
        "outputId": "6fcf020e-4404-45f6-cc88-e807425f5ae0"
      },
      "outputs": [
        {
          "output_type": "display_data",
          "data": {
            "text/plain": [
              "Downloading:   0%|          | 0.00/445M [00:00<?, ?B/s]"
            ],
            "application/vnd.jupyter.widget-view+json": {
              "version_major": 2,
              "version_minor": 0,
              "model_id": "4c680bc9abcc46a293208cd44fd8621d"
            }
          },
          "metadata": {}
        },
        {
          "output_type": "stream",
          "name": "stderr",
          "text": [
            "Some weights of the model checkpoint at xlnet-base-cased were not used when initializing XLNetForSequenceClassification: ['lm_loss.bias', 'lm_loss.weight']\n",
            "- This IS expected if you are initializing XLNetForSequenceClassification from the checkpoint of a model trained on another task or with another architecture (e.g. initializing a BertForSequenceClassification model from a BertForPreTraining model).\n",
            "- This IS NOT expected if you are initializing XLNetForSequenceClassification from the checkpoint of a model that you expect to be exactly identical (initializing a BertForSequenceClassification model from a BertForSequenceClassification model).\n",
            "Some weights of XLNetForSequenceClassification were not initialized from the model checkpoint at xlnet-base-cased and are newly initialized: ['sequence_summary.summary.weight', 'logits_proj.bias', 'sequence_summary.summary.bias', 'logits_proj.weight']\n",
            "You should probably TRAIN this model on a down-stream task to be able to use it for predictions and inference.\n"
          ]
        },
        {
          "output_type": "execute_result",
          "data": {
            "text/plain": [
              "XLNetForSequenceClassification(\n",
              "  (transformer): XLNetModel(\n",
              "    (word_embedding): Embedding(32000, 768)\n",
              "    (layer): ModuleList(\n",
              "      (0): XLNetLayer(\n",
              "        (rel_attn): XLNetRelativeAttention(\n",
              "          (layer_norm): LayerNorm((768,), eps=1e-12, elementwise_affine=True)\n",
              "          (dropout): Dropout(p=0.1, inplace=False)\n",
              "        )\n",
              "        (ff): XLNetFeedForward(\n",
              "          (layer_norm): LayerNorm((768,), eps=1e-12, elementwise_affine=True)\n",
              "          (layer_1): Linear(in_features=768, out_features=3072, bias=True)\n",
              "          (layer_2): Linear(in_features=3072, out_features=768, bias=True)\n",
              "          (dropout): Dropout(p=0.1, inplace=False)\n",
              "          (activation_function): GELUActivation()\n",
              "        )\n",
              "        (dropout): Dropout(p=0.1, inplace=False)\n",
              "      )\n",
              "      (1): XLNetLayer(\n",
              "        (rel_attn): XLNetRelativeAttention(\n",
              "          (layer_norm): LayerNorm((768,), eps=1e-12, elementwise_affine=True)\n",
              "          (dropout): Dropout(p=0.1, inplace=False)\n",
              "        )\n",
              "        (ff): XLNetFeedForward(\n",
              "          (layer_norm): LayerNorm((768,), eps=1e-12, elementwise_affine=True)\n",
              "          (layer_1): Linear(in_features=768, out_features=3072, bias=True)\n",
              "          (layer_2): Linear(in_features=3072, out_features=768, bias=True)\n",
              "          (dropout): Dropout(p=0.1, inplace=False)\n",
              "          (activation_function): GELUActivation()\n",
              "        )\n",
              "        (dropout): Dropout(p=0.1, inplace=False)\n",
              "      )\n",
              "      (2): XLNetLayer(\n",
              "        (rel_attn): XLNetRelativeAttention(\n",
              "          (layer_norm): LayerNorm((768,), eps=1e-12, elementwise_affine=True)\n",
              "          (dropout): Dropout(p=0.1, inplace=False)\n",
              "        )\n",
              "        (ff): XLNetFeedForward(\n",
              "          (layer_norm): LayerNorm((768,), eps=1e-12, elementwise_affine=True)\n",
              "          (layer_1): Linear(in_features=768, out_features=3072, bias=True)\n",
              "          (layer_2): Linear(in_features=3072, out_features=768, bias=True)\n",
              "          (dropout): Dropout(p=0.1, inplace=False)\n",
              "          (activation_function): GELUActivation()\n",
              "        )\n",
              "        (dropout): Dropout(p=0.1, inplace=False)\n",
              "      )\n",
              "      (3): XLNetLayer(\n",
              "        (rel_attn): XLNetRelativeAttention(\n",
              "          (layer_norm): LayerNorm((768,), eps=1e-12, elementwise_affine=True)\n",
              "          (dropout): Dropout(p=0.1, inplace=False)\n",
              "        )\n",
              "        (ff): XLNetFeedForward(\n",
              "          (layer_norm): LayerNorm((768,), eps=1e-12, elementwise_affine=True)\n",
              "          (layer_1): Linear(in_features=768, out_features=3072, bias=True)\n",
              "          (layer_2): Linear(in_features=3072, out_features=768, bias=True)\n",
              "          (dropout): Dropout(p=0.1, inplace=False)\n",
              "          (activation_function): GELUActivation()\n",
              "        )\n",
              "        (dropout): Dropout(p=0.1, inplace=False)\n",
              "      )\n",
              "      (4): XLNetLayer(\n",
              "        (rel_attn): XLNetRelativeAttention(\n",
              "          (layer_norm): LayerNorm((768,), eps=1e-12, elementwise_affine=True)\n",
              "          (dropout): Dropout(p=0.1, inplace=False)\n",
              "        )\n",
              "        (ff): XLNetFeedForward(\n",
              "          (layer_norm): LayerNorm((768,), eps=1e-12, elementwise_affine=True)\n",
              "          (layer_1): Linear(in_features=768, out_features=3072, bias=True)\n",
              "          (layer_2): Linear(in_features=3072, out_features=768, bias=True)\n",
              "          (dropout): Dropout(p=0.1, inplace=False)\n",
              "          (activation_function): GELUActivation()\n",
              "        )\n",
              "        (dropout): Dropout(p=0.1, inplace=False)\n",
              "      )\n",
              "      (5): XLNetLayer(\n",
              "        (rel_attn): XLNetRelativeAttention(\n",
              "          (layer_norm): LayerNorm((768,), eps=1e-12, elementwise_affine=True)\n",
              "          (dropout): Dropout(p=0.1, inplace=False)\n",
              "        )\n",
              "        (ff): XLNetFeedForward(\n",
              "          (layer_norm): LayerNorm((768,), eps=1e-12, elementwise_affine=True)\n",
              "          (layer_1): Linear(in_features=768, out_features=3072, bias=True)\n",
              "          (layer_2): Linear(in_features=3072, out_features=768, bias=True)\n",
              "          (dropout): Dropout(p=0.1, inplace=False)\n",
              "          (activation_function): GELUActivation()\n",
              "        )\n",
              "        (dropout): Dropout(p=0.1, inplace=False)\n",
              "      )\n",
              "      (6): XLNetLayer(\n",
              "        (rel_attn): XLNetRelativeAttention(\n",
              "          (layer_norm): LayerNorm((768,), eps=1e-12, elementwise_affine=True)\n",
              "          (dropout): Dropout(p=0.1, inplace=False)\n",
              "        )\n",
              "        (ff): XLNetFeedForward(\n",
              "          (layer_norm): LayerNorm((768,), eps=1e-12, elementwise_affine=True)\n",
              "          (layer_1): Linear(in_features=768, out_features=3072, bias=True)\n",
              "          (layer_2): Linear(in_features=3072, out_features=768, bias=True)\n",
              "          (dropout): Dropout(p=0.1, inplace=False)\n",
              "          (activation_function): GELUActivation()\n",
              "        )\n",
              "        (dropout): Dropout(p=0.1, inplace=False)\n",
              "      )\n",
              "      (7): XLNetLayer(\n",
              "        (rel_attn): XLNetRelativeAttention(\n",
              "          (layer_norm): LayerNorm((768,), eps=1e-12, elementwise_affine=True)\n",
              "          (dropout): Dropout(p=0.1, inplace=False)\n",
              "        )\n",
              "        (ff): XLNetFeedForward(\n",
              "          (layer_norm): LayerNorm((768,), eps=1e-12, elementwise_affine=True)\n",
              "          (layer_1): Linear(in_features=768, out_features=3072, bias=True)\n",
              "          (layer_2): Linear(in_features=3072, out_features=768, bias=True)\n",
              "          (dropout): Dropout(p=0.1, inplace=False)\n",
              "          (activation_function): GELUActivation()\n",
              "        )\n",
              "        (dropout): Dropout(p=0.1, inplace=False)\n",
              "      )\n",
              "      (8): XLNetLayer(\n",
              "        (rel_attn): XLNetRelativeAttention(\n",
              "          (layer_norm): LayerNorm((768,), eps=1e-12, elementwise_affine=True)\n",
              "          (dropout): Dropout(p=0.1, inplace=False)\n",
              "        )\n",
              "        (ff): XLNetFeedForward(\n",
              "          (layer_norm): LayerNorm((768,), eps=1e-12, elementwise_affine=True)\n",
              "          (layer_1): Linear(in_features=768, out_features=3072, bias=True)\n",
              "          (layer_2): Linear(in_features=3072, out_features=768, bias=True)\n",
              "          (dropout): Dropout(p=0.1, inplace=False)\n",
              "          (activation_function): GELUActivation()\n",
              "        )\n",
              "        (dropout): Dropout(p=0.1, inplace=False)\n",
              "      )\n",
              "      (9): XLNetLayer(\n",
              "        (rel_attn): XLNetRelativeAttention(\n",
              "          (layer_norm): LayerNorm((768,), eps=1e-12, elementwise_affine=True)\n",
              "          (dropout): Dropout(p=0.1, inplace=False)\n",
              "        )\n",
              "        (ff): XLNetFeedForward(\n",
              "          (layer_norm): LayerNorm((768,), eps=1e-12, elementwise_affine=True)\n",
              "          (layer_1): Linear(in_features=768, out_features=3072, bias=True)\n",
              "          (layer_2): Linear(in_features=3072, out_features=768, bias=True)\n",
              "          (dropout): Dropout(p=0.1, inplace=False)\n",
              "          (activation_function): GELUActivation()\n",
              "        )\n",
              "        (dropout): Dropout(p=0.1, inplace=False)\n",
              "      )\n",
              "      (10): XLNetLayer(\n",
              "        (rel_attn): XLNetRelativeAttention(\n",
              "          (layer_norm): LayerNorm((768,), eps=1e-12, elementwise_affine=True)\n",
              "          (dropout): Dropout(p=0.1, inplace=False)\n",
              "        )\n",
              "        (ff): XLNetFeedForward(\n",
              "          (layer_norm): LayerNorm((768,), eps=1e-12, elementwise_affine=True)\n",
              "          (layer_1): Linear(in_features=768, out_features=3072, bias=True)\n",
              "          (layer_2): Linear(in_features=3072, out_features=768, bias=True)\n",
              "          (dropout): Dropout(p=0.1, inplace=False)\n",
              "          (activation_function): GELUActivation()\n",
              "        )\n",
              "        (dropout): Dropout(p=0.1, inplace=False)\n",
              "      )\n",
              "      (11): XLNetLayer(\n",
              "        (rel_attn): XLNetRelativeAttention(\n",
              "          (layer_norm): LayerNorm((768,), eps=1e-12, elementwise_affine=True)\n",
              "          (dropout): Dropout(p=0.1, inplace=False)\n",
              "        )\n",
              "        (ff): XLNetFeedForward(\n",
              "          (layer_norm): LayerNorm((768,), eps=1e-12, elementwise_affine=True)\n",
              "          (layer_1): Linear(in_features=768, out_features=3072, bias=True)\n",
              "          (layer_2): Linear(in_features=3072, out_features=768, bias=True)\n",
              "          (dropout): Dropout(p=0.1, inplace=False)\n",
              "          (activation_function): GELUActivation()\n",
              "        )\n",
              "        (dropout): Dropout(p=0.1, inplace=False)\n",
              "      )\n",
              "    )\n",
              "    (dropout): Dropout(p=0.1, inplace=False)\n",
              "  )\n",
              "  (sequence_summary): SequenceSummary(\n",
              "    (summary): Linear(in_features=768, out_features=768, bias=True)\n",
              "    (activation): Tanh()\n",
              "    (first_dropout): Identity()\n",
              "    (last_dropout): Dropout(p=0.1, inplace=False)\n",
              "  )\n",
              "  (logits_proj): Linear(in_features=768, out_features=2, bias=True)\n",
              ")"
            ]
          },
          "metadata": {},
          "execution_count": 19
        }
      ],
      "source": [
        "random_seed=42\n",
        "np.random.seed(random_seed)\n",
        "torch.manual_seed(random_seed)\n",
        "\n",
        "device = torch.device('cuda' if torch.cuda.is_available() else 'cpu')\n",
        "\n",
        "# model = BertForSequenceClassification.from_pretrained(used_model)\n",
        "model = XLNetForSequenceClassification.from_pretrained(used_model)\n",
        "model.to(device)"
      ]
    },
    {
      "cell_type": "code",
      "execution_count": 20,
      "metadata": {
        "id": "dWwhmyMyrvgW",
        "colab": {
          "base_uri": "https://localhost:8080/"
        },
        "outputId": "17d9a9b0-ed57-4cba-98e3-21f09f0cd2e0"
      },
      "outputs": [
        {
          "output_type": "stream",
          "name": "stderr",
          "text": [
            "/usr/local/lib/python3.7/dist-packages/transformers/optimization.py:310: FutureWarning: This implementation of AdamW is deprecated and will be removed in a future version. Use the PyTorch implementation torch.optim.AdamW instead, or set `no_deprecation_warning=True` to disable this warning\n",
            "  FutureWarning,\n"
          ]
        }
      ],
      "source": [
        "model.train()\n",
        "\n",
        "# optimizer = AdamW(model.parameters(), lr=learning_rate, weight_decay=weight_decay)\n",
        "optimizer = AdamW(model.parameters(), lr=learning_rate)"
      ]
    },
    {
      "cell_type": "code",
      "execution_count": 23,
      "metadata": {
        "id": "MztU-L83rvgW"
      },
      "outputs": [],
      "source": [
        "def compute_acc(predictions, target_labels):\n",
        "    return (np.array(predictions) == np.array(target_labels)).mean()"
      ]
    },
    {
      "cell_type": "code",
      "execution_count": 22,
      "metadata": {
        "colab": {
          "base_uri": "https://localhost:8080/",
          "height": 127
        },
        "id": "1d-r7h94k8-y",
        "outputId": "1dcc19a8-ab49-4989-f847-c8751f0d6198"
      },
      "outputs": [
        {
          "output_type": "display_data",
          "data": {
            "text/plain": [
              "<IPython.core.display.Javascript object>"
            ],
            "application/javascript": [
              "\n",
              "        window._wandbApiKey = new Promise((resolve, reject) => {\n",
              "            function loadScript(url) {\n",
              "            return new Promise(function(resolve, reject) {\n",
              "                let newScript = document.createElement(\"script\");\n",
              "                newScript.onerror = reject;\n",
              "                newScript.onload = resolve;\n",
              "                document.body.appendChild(newScript);\n",
              "                newScript.src = url;\n",
              "            });\n",
              "            }\n",
              "            loadScript(\"https://cdn.jsdelivr.net/npm/postmate/build/postmate.min.js\").then(() => {\n",
              "            const iframe = document.createElement('iframe')\n",
              "            iframe.style.cssText = \"width:0;height:0;border:none\"\n",
              "            document.body.appendChild(iframe)\n",
              "            const handshake = new Postmate({\n",
              "                container: iframe,\n",
              "                url: 'https://wandb.ai/authorize'\n",
              "            });\n",
              "            const timeout = setTimeout(() => reject(\"Couldn't auto authenticate\"), 5000)\n",
              "            handshake.then(function(child) {\n",
              "                child.on('authorize', data => {\n",
              "                    clearTimeout(timeout)\n",
              "                    resolve(data)\n",
              "                });\n",
              "            });\n",
              "            })\n",
              "        });\n",
              "    "
            ]
          },
          "metadata": {}
        },
        {
          "output_type": "stream",
          "name": "stderr",
          "text": [
            "\u001b[34m\u001b[1mwandb\u001b[0m: Appending key for api.wandb.ai to your netrc file: /root/.netrc\n"
          ]
        },
        {
          "output_type": "display_data",
          "data": {
            "text/plain": [
              "<IPython.core.display.HTML object>"
            ],
            "text/html": [
              "Tracking run with wandb version 0.12.21"
            ]
          },
          "metadata": {}
        },
        {
          "output_type": "display_data",
          "data": {
            "text/plain": [
              "<IPython.core.display.HTML object>"
            ],
            "text/html": [
              "Run data is saved locally in <code>/content/drive/.shortcut-targets-by-id/1ovgSHdL_LDsDV-KWBQ2NNEs2v8Mpi0fm/GoormProject1/goorm-project-1-text-classification/wandb/run-20220719_141835-xxu35t20</code>"
            ]
          },
          "metadata": {}
        },
        {
          "output_type": "display_data",
          "data": {
            "text/plain": [
              "<IPython.core.display.HTML object>"
            ],
            "text/html": [
              "Syncing run <strong><a href=\"https://wandb.ai/seonmia/final_project1/runs/xxu35t20\" target=\"_blank\">xlnet-base-cased 309</a></strong> to <a href=\"https://wandb.ai/seonmia/final_project1\" target=\"_blank\">Weights & Biases</a> (<a href=\"https://wandb.me/run\" target=\"_blank\">docs</a>)<br/>"
            ]
          },
          "metadata": {}
        },
        {
          "output_type": "execute_result",
          "data": {
            "text/html": [
              "<button onClick=\"this.nextSibling.style.display='block';this.style.display='none';\">Display W&B run</button><iframe src=\"https://wandb.ai/seonmia/final_project1/runs/xxu35t20?jupyter=true\" style=\"border:none;width:100%;height:420px;display:none;\"></iframe>"
            ],
            "text/plain": [
              "<wandb.sdk.wandb_run.Run at 0x7f8f060df090>"
            ]
          },
          "metadata": {},
          "execution_count": 22
        }
      ],
      "source": [
        "wandb.init(project=wandb_project, name=used_model+' '+str(int(time()))[-3:], entity=wandb_team)"
      ]
    },
    {
      "cell_type": "code",
      "execution_count": 25,
      "metadata": {
        "colab": {
          "base_uri": "https://localhost:8080/"
        },
        "id": "DuZfvzpGrvgW",
        "outputId": "460b32cd-6e7e-4528-89cd-e8e1d83802e9"
      },
      "outputs": [
        {
          "output_type": "stream",
          "name": "stderr",
          "text": [
            "Epoch 0:  20%|█▉        | 2770/13852 [06:09<27:06,  6.82batch/s, loss=0.00691]\n",
            "Eval:   0%|          | 0/125 [00:00<?, ?it/s]\u001b[A\n",
            "Eval:   1%|          | 1/125 [00:00<00:15,  8.22it/s]\u001b[A\n",
            "Eval:   3%|▎         | 4/125 [00:00<00:07, 16.91it/s]\u001b[A\n",
            "Eval:   6%|▌         | 7/125 [00:00<00:05, 20.46it/s]\u001b[A\n",
            "Eval:   8%|▊         | 10/125 [00:00<00:05, 21.95it/s]\u001b[A\n",
            "Eval:  10%|█         | 13/125 [00:00<00:04, 22.91it/s]\u001b[A\n",
            "Eval:  13%|█▎        | 16/125 [00:00<00:04, 23.23it/s]\u001b[A\n",
            "Eval:  15%|█▌        | 19/125 [00:00<00:04, 23.04it/s]\u001b[A\n",
            "Eval:  18%|█▊        | 22/125 [00:01<00:04, 23.36it/s]\u001b[A\n",
            "Eval:  20%|██        | 25/125 [00:01<00:04, 23.53it/s]\u001b[A\n",
            "Eval:  22%|██▏       | 28/125 [00:01<00:04, 24.23it/s]\u001b[A\n",
            "Eval:  25%|██▍       | 31/125 [00:01<00:03, 23.99it/s]\u001b[A\n",
            "Eval:  27%|██▋       | 34/125 [00:01<00:03, 24.27it/s]\u001b[A\n",
            "Eval:  30%|██▉       | 37/125 [00:01<00:03, 24.68it/s]\u001b[A\n",
            "Eval:  32%|███▏      | 40/125 [00:01<00:03, 24.86it/s]\u001b[A\n",
            "Eval:  34%|███▍      | 43/125 [00:01<00:03, 24.32it/s]\u001b[A\n",
            "Eval:  37%|███▋      | 46/125 [00:01<00:03, 24.29it/s]\u001b[A\n",
            "Eval:  39%|███▉      | 49/125 [00:02<00:03, 23.84it/s]\u001b[A\n",
            "Eval:  42%|████▏     | 52/125 [00:02<00:03, 23.94it/s]\u001b[A\n",
            "Eval:  44%|████▍     | 55/125 [00:02<00:02, 24.11it/s]\u001b[A\n",
            "Eval:  46%|████▋     | 58/125 [00:02<00:02, 24.74it/s]\u001b[A\n",
            "Eval:  49%|████▉     | 61/125 [00:02<00:02, 24.54it/s]\u001b[A\n",
            "Eval:  51%|█████     | 64/125 [00:02<00:02, 24.71it/s]\u001b[A\n",
            "Eval:  54%|█████▎    | 67/125 [00:02<00:02, 24.63it/s]\u001b[A\n",
            "Eval:  56%|█████▌    | 70/125 [00:02<00:02, 24.17it/s]\u001b[A\n",
            "Eval:  58%|█████▊    | 73/125 [00:03<00:02, 23.70it/s]\u001b[A\n",
            "Eval:  61%|██████    | 76/125 [00:03<00:02, 22.76it/s]\u001b[A\n",
            "Eval:  63%|██████▎   | 79/125 [00:03<00:02, 22.77it/s]\u001b[A\n",
            "Eval:  66%|██████▌   | 82/125 [00:03<00:01, 22.78it/s]\u001b[A\n",
            "Eval:  68%|██████▊   | 85/125 [00:03<00:01, 22.79it/s]\u001b[A\n",
            "Eval:  70%|███████   | 88/125 [00:03<00:01, 22.91it/s]\u001b[A\n",
            "Eval:  73%|███████▎  | 91/125 [00:03<00:01, 22.70it/s]\u001b[A\n",
            "Eval:  75%|███████▌  | 94/125 [00:04<00:01, 22.60it/s]\u001b[A\n",
            "Eval:  78%|███████▊  | 97/125 [00:04<00:01, 22.98it/s]\u001b[A\n",
            "Eval:  80%|████████  | 100/125 [00:04<00:01, 22.94it/s]\u001b[A\n",
            "Eval:  82%|████████▏ | 103/125 [00:04<00:00, 23.12it/s]\u001b[A\n",
            "Eval:  85%|████████▍ | 106/125 [00:04<00:00, 23.14it/s]\u001b[A\n",
            "Eval:  87%|████████▋ | 109/125 [00:04<00:00, 22.93it/s]\u001b[A\n",
            "Eval:  90%|████████▉ | 112/125 [00:04<00:00, 22.47it/s]\u001b[A\n",
            "Eval:  92%|█████████▏| 115/125 [00:04<00:00, 22.64it/s]\u001b[A\n",
            "Eval:  94%|█████████▍| 118/125 [00:05<00:00, 23.00it/s]\u001b[A\n",
            "Eval:  97%|█████████▋| 121/125 [00:05<00:00, 23.24it/s]\u001b[A\n",
            "Eval:  99%|█████████▉| 124/125 [00:05<00:00, 23.42it/s]\u001b[A\n",
            "                                                       \u001b[A"
          ]
        },
        {
          "output_type": "stream",
          "name": "stdout",
          "text": [
            "Acc for model which have lower valid loss:  0.969\n"
          ]
        },
        {
          "output_type": "stream",
          "name": "stderr",
          "text": [
            "Epoch 0:  40%|███▉      | 5540/13852 [12:25<17:47,  7.79batch/s, loss=0.0983]\n",
            "Eval:   0%|          | 0/125 [00:00<?, ?it/s]\u001b[A\n",
            "Eval:   1%|          | 1/125 [00:00<00:16,  7.70it/s]\u001b[A\n",
            "Eval:   3%|▎         | 4/125 [00:00<00:07, 17.28it/s]\u001b[A\n",
            "Eval:   6%|▌         | 7/125 [00:00<00:05, 20.45it/s]\u001b[A\n",
            "Eval:   8%|▊         | 10/125 [00:00<00:05, 21.85it/s]\u001b[A\n",
            "Eval:  10%|█         | 13/125 [00:00<00:04, 22.58it/s]\u001b[A\n",
            "Eval:  13%|█▎        | 16/125 [00:00<00:04, 23.08it/s]\u001b[A\n",
            "Eval:  15%|█▌        | 19/125 [00:00<00:04, 23.18it/s]\u001b[A\n",
            "Eval:  18%|█▊        | 22/125 [00:01<00:04, 23.58it/s]\u001b[A\n",
            "Eval:  20%|██        | 25/125 [00:01<00:04, 23.70it/s]\u001b[A\n",
            "Eval:  22%|██▏       | 28/125 [00:01<00:03, 24.38it/s]\u001b[A\n",
            "Eval:  25%|██▍       | 31/125 [00:01<00:03, 24.02it/s]\u001b[A\n",
            "Eval:  27%|██▋       | 34/125 [00:01<00:03, 24.06it/s]\u001b[A\n",
            "Eval:  30%|██▉       | 37/125 [00:01<00:03, 24.19it/s]\u001b[A\n",
            "Eval:  32%|███▏      | 40/125 [00:01<00:03, 24.44it/s]\u001b[A\n",
            "Eval:  34%|███▍      | 43/125 [00:01<00:03, 24.24it/s]\u001b[A\n",
            "Eval:  37%|███▋      | 46/125 [00:01<00:03, 24.25it/s]\u001b[A\n",
            "Eval:  39%|███▉      | 49/125 [00:02<00:03, 23.71it/s]\u001b[A\n",
            "Eval:  42%|████▏     | 52/125 [00:02<00:03, 23.68it/s]\u001b[A\n",
            "Eval:  44%|████▍     | 55/125 [00:02<00:02, 24.08it/s]\u001b[A\n",
            "Eval:  46%|████▋     | 58/125 [00:02<00:02, 24.51it/s]\u001b[A\n",
            "Eval:  49%|████▉     | 61/125 [00:02<00:02, 24.35it/s]\u001b[A\n",
            "Eval:  51%|█████     | 64/125 [00:02<00:02, 24.43it/s]\u001b[A\n",
            "Eval:  54%|█████▎    | 67/125 [00:02<00:02, 24.28it/s]\u001b[A\n",
            "Eval:  56%|█████▌    | 70/125 [00:02<00:02, 23.32it/s]\u001b[A\n",
            "Eval:  58%|█████▊    | 73/125 [00:03<00:02, 23.01it/s]\u001b[A\n",
            "Eval:  61%|██████    | 76/125 [00:03<00:02, 22.54it/s]\u001b[A\n",
            "Eval:  63%|██████▎   | 79/125 [00:03<00:02, 22.62it/s]\u001b[A\n",
            "Eval:  66%|██████▌   | 82/125 [00:03<00:01, 22.73it/s]\u001b[A\n",
            "Eval:  68%|██████▊   | 85/125 [00:03<00:01, 22.43it/s]\u001b[A\n",
            "Eval:  70%|███████   | 88/125 [00:03<00:01, 22.56it/s]\u001b[A\n",
            "Eval:  73%|███████▎  | 91/125 [00:03<00:01, 22.41it/s]\u001b[A\n",
            "Eval:  75%|███████▌  | 94/125 [00:04<00:01, 22.27it/s]\u001b[A\n",
            "Eval:  78%|███████▊  | 97/125 [00:04<00:01, 22.19it/s]\u001b[A\n",
            "Eval:  80%|████████  | 100/125 [00:04<00:01, 22.23it/s]\u001b[A\n",
            "Eval:  82%|████████▏ | 103/125 [00:04<00:00, 22.18it/s]\u001b[A\n",
            "Eval:  85%|████████▍ | 106/125 [00:04<00:00, 22.39it/s]\u001b[A\n",
            "Eval:  87%|████████▋ | 109/125 [00:04<00:00, 22.26it/s]\u001b[A\n",
            "Eval:  90%|████████▉ | 112/125 [00:04<00:00, 21.79it/s]\u001b[A\n",
            "Eval:  92%|█████████▏| 115/125 [00:05<00:00, 22.12it/s]\u001b[A\n",
            "Eval:  94%|█████████▍| 118/125 [00:05<00:00, 22.61it/s]\u001b[A\n",
            "Eval:  97%|█████████▋| 121/125 [00:05<00:00, 22.94it/s]\u001b[A\n",
            "Eval:  99%|█████████▉| 124/125 [00:05<00:00, 22.98it/s]\u001b[A\n",
            "                                                       \u001b[A"
          ]
        },
        {
          "output_type": "stream",
          "name": "stdout",
          "text": [
            "Acc for model which have lower valid loss:  0.9735\n"
          ]
        },
        {
          "output_type": "stream",
          "name": "stderr",
          "text": [
            "Epoch 0:  60%|█████▉    | 8310/13852 [18:35<12:03,  7.66batch/s, loss=0.0133]\n",
            "Eval:   0%|          | 0/125 [00:00<?, ?it/s]\u001b[A\n",
            "Eval:   1%|          | 1/125 [00:00<00:15,  7.98it/s]\u001b[A\n",
            "Eval:   3%|▎         | 4/125 [00:00<00:06, 17.36it/s]\u001b[A\n",
            "Eval:   6%|▌         | 7/125 [00:00<00:05, 20.71it/s]\u001b[A\n",
            "Eval:   8%|▊         | 10/125 [00:00<00:05, 21.78it/s]\u001b[A\n",
            "Eval:  10%|█         | 13/125 [00:00<00:04, 22.71it/s]\u001b[A\n",
            "Eval:  13%|█▎        | 16/125 [00:00<00:04, 23.17it/s]\u001b[A\n",
            "Eval:  15%|█▌        | 19/125 [00:00<00:04, 23.42it/s]\u001b[A\n",
            "Eval:  18%|█▊        | 22/125 [00:01<00:04, 23.38it/s]\u001b[A\n",
            "Eval:  20%|██        | 25/125 [00:01<00:04, 23.63it/s]\u001b[A\n",
            "Eval:  22%|██▏       | 28/125 [00:01<00:04, 24.01it/s]\u001b[A\n",
            "Eval:  25%|██▍       | 31/125 [00:01<00:03, 23.85it/s]\u001b[A\n",
            "Eval:  27%|██▋       | 34/125 [00:01<00:03, 23.88it/s]\u001b[A\n",
            "Eval:  30%|██▉       | 37/125 [00:01<00:03, 24.44it/s]\u001b[A\n",
            "Eval:  32%|███▏      | 40/125 [00:01<00:03, 24.54it/s]\u001b[A\n",
            "Eval:  34%|███▍      | 43/125 [00:01<00:03, 24.20it/s]\u001b[A\n",
            "Eval:  37%|███▋      | 46/125 [00:01<00:03, 24.04it/s]\u001b[A\n",
            "Eval:  39%|███▉      | 49/125 [00:02<00:03, 23.53it/s]\u001b[A\n",
            "Eval:  42%|████▏     | 52/125 [00:02<00:03, 23.57it/s]\u001b[A\n",
            "Eval:  44%|████▍     | 55/125 [00:02<00:02, 24.11it/s]\u001b[A\n",
            "Eval:  46%|████▋     | 58/125 [00:02<00:02, 24.62it/s]\u001b[A\n",
            "Eval:  49%|████▉     | 61/125 [00:02<00:02, 24.26it/s]\u001b[A\n",
            "Eval:  51%|█████     | 64/125 [00:02<00:02, 24.38it/s]\u001b[A\n",
            "Eval:  54%|█████▎    | 67/125 [00:02<00:02, 24.38it/s]\u001b[A\n",
            "Eval:  56%|█████▌    | 70/125 [00:02<00:02, 23.50it/s]\u001b[A\n",
            "Eval:  58%|█████▊    | 73/125 [00:03<00:02, 23.06it/s]\u001b[A\n",
            "Eval:  61%|██████    | 76/125 [00:03<00:02, 22.15it/s]\u001b[A\n",
            "Eval:  63%|██████▎   | 79/125 [00:03<00:02, 22.24it/s]\u001b[A\n",
            "Eval:  66%|██████▌   | 82/125 [00:03<00:01, 22.56it/s]\u001b[A\n",
            "Eval:  68%|██████▊   | 85/125 [00:03<00:01, 22.36it/s]\u001b[A\n",
            "Eval:  70%|███████   | 88/125 [00:03<00:01, 22.56it/s]\u001b[A\n",
            "Eval:  73%|███████▎  | 91/125 [00:03<00:01, 22.53it/s]\u001b[A\n",
            "Eval:  75%|███████▌  | 94/125 [00:04<00:01, 22.44it/s]\u001b[A\n",
            "Eval:  78%|███████▊  | 97/125 [00:04<00:01, 22.64it/s]\u001b[A\n",
            "Eval:  80%|████████  | 100/125 [00:04<00:01, 22.41it/s]\u001b[A\n",
            "Eval:  82%|████████▏ | 103/125 [00:04<00:00, 22.19it/s]\u001b[A\n",
            "Eval:  85%|████████▍ | 106/125 [00:04<00:00, 22.41it/s]\u001b[A\n",
            "Eval:  87%|████████▋ | 109/125 [00:04<00:00, 22.21it/s]\u001b[A\n",
            "Eval:  90%|████████▉ | 112/125 [00:04<00:00, 21.90it/s]\u001b[A\n",
            "Eval:  92%|█████████▏| 115/125 [00:05<00:00, 21.93it/s]\u001b[A\n",
            "Eval:  94%|█████████▍| 118/125 [00:05<00:00, 22.48it/s]\u001b[A\n",
            "Eval:  97%|█████████▋| 121/125 [00:05<00:00, 22.48it/s]\u001b[A\n",
            "Eval:  99%|█████████▉| 124/125 [00:05<00:00, 22.58it/s]\u001b[A\n",
            "Epoch 0:  80%|███████▉  | 11080/13852 [24:45<06:01,  7.67batch/s, loss=0.0255]\n",
            "Eval:   0%|          | 0/125 [00:00<?, ?it/s]\u001b[A\n",
            "Eval:   1%|          | 1/125 [00:00<00:16,  7.73it/s]\u001b[A\n",
            "Eval:   3%|▎         | 4/125 [00:00<00:07, 16.55it/s]\u001b[A\n",
            "Eval:   6%|▌         | 7/125 [00:00<00:05, 20.15it/s]\u001b[A\n",
            "Eval:   8%|▊         | 10/125 [00:00<00:05, 21.65it/s]\u001b[A\n",
            "Eval:  10%|█         | 13/125 [00:00<00:04, 22.48it/s]\u001b[A\n",
            "Eval:  13%|█▎        | 16/125 [00:00<00:04, 23.06it/s]\u001b[A\n",
            "Eval:  15%|█▌        | 19/125 [00:00<00:04, 23.28it/s]\u001b[A\n",
            "Eval:  18%|█▊        | 22/125 [00:01<00:04, 23.54it/s]\u001b[A\n",
            "Eval:  20%|██        | 25/125 [00:01<00:04, 23.67it/s]\u001b[A\n",
            "Eval:  22%|██▏       | 28/125 [00:01<00:04, 24.09it/s]\u001b[A\n",
            "Eval:  25%|██▍       | 31/125 [00:01<00:03, 23.80it/s]\u001b[A\n",
            "Eval:  27%|██▋       | 34/125 [00:01<00:03, 24.02it/s]\u001b[A\n",
            "Eval:  30%|██▉       | 37/125 [00:01<00:03, 24.60it/s]\u001b[A\n",
            "Eval:  32%|███▏      | 40/125 [00:01<00:03, 24.53it/s]\u001b[A\n",
            "Eval:  34%|███▍      | 43/125 [00:01<00:03, 24.31it/s]\u001b[A\n",
            "Eval:  37%|███▋      | 46/125 [00:01<00:03, 24.23it/s]\u001b[A\n",
            "Eval:  39%|███▉      | 49/125 [00:02<00:03, 23.75it/s]\u001b[A\n",
            "Eval:  42%|████▏     | 52/125 [00:02<00:03, 23.86it/s]\u001b[A\n",
            "Eval:  44%|████▍     | 55/125 [00:02<00:02, 24.20it/s]\u001b[A\n",
            "Eval:  46%|████▋     | 58/125 [00:02<00:02, 24.57it/s]\u001b[A\n",
            "Eval:  49%|████▉     | 61/125 [00:02<00:02, 24.27it/s]\u001b[A\n",
            "Eval:  51%|█████     | 64/125 [00:02<00:02, 24.22it/s]\u001b[A\n",
            "Eval:  54%|█████▎    | 67/125 [00:02<00:02, 24.33it/s]\u001b[A\n",
            "Eval:  56%|█████▌    | 70/125 [00:02<00:02, 23.82it/s]\u001b[A\n",
            "Eval:  58%|█████▊    | 73/125 [00:03<00:02, 23.48it/s]\u001b[A\n",
            "Eval:  61%|██████    | 76/125 [00:03<00:02, 22.67it/s]\u001b[A\n",
            "Eval:  63%|██████▎   | 79/125 [00:03<00:02, 22.58it/s]\u001b[A\n",
            "Eval:  66%|██████▌   | 82/125 [00:03<00:01, 22.62it/s]\u001b[A\n",
            "Eval:  68%|██████▊   | 85/125 [00:03<00:01, 22.52it/s]\u001b[A\n",
            "Eval:  70%|███████   | 88/125 [00:03<00:01, 22.56it/s]\u001b[A\n",
            "Eval:  73%|███████▎  | 91/125 [00:03<00:01, 22.40it/s]\u001b[A\n",
            "Eval:  75%|███████▌  | 94/125 [00:04<00:01, 22.37it/s]\u001b[A\n",
            "Eval:  78%|███████▊  | 97/125 [00:04<00:01, 22.77it/s]\u001b[A\n",
            "Eval:  80%|████████  | 100/125 [00:04<00:01, 22.75it/s]\u001b[A\n",
            "Eval:  82%|████████▏ | 103/125 [00:04<00:00, 22.69it/s]\u001b[A\n",
            "Eval:  85%|████████▍ | 106/125 [00:04<00:00, 22.53it/s]\u001b[A\n",
            "Eval:  87%|████████▋ | 109/125 [00:04<00:00, 22.41it/s]\u001b[A\n",
            "Eval:  90%|████████▉ | 112/125 [00:04<00:00, 22.06it/s]\u001b[A\n",
            "Eval:  92%|█████████▏| 115/125 [00:05<00:00, 22.23it/s]\u001b[A\n",
            "Eval:  94%|█████████▍| 118/125 [00:05<00:00, 22.78it/s]\u001b[A\n",
            "Eval:  97%|█████████▋| 121/125 [00:05<00:00, 23.10it/s]\u001b[A\n",
            "Eval:  99%|█████████▉| 124/125 [00:05<00:00, 22.87it/s]\u001b[A\n",
            "                                                       \u001b[A"
          ]
        },
        {
          "output_type": "stream",
          "name": "stdout",
          "text": [
            "Acc for model which have lower valid loss:  0.9795\n"
          ]
        },
        {
          "output_type": "stream",
          "name": "stderr",
          "text": [
            "Epoch 0: 100%|█████████▉| 13850/13852 [30:57<00:00,  7.18batch/s, loss=0.0154]\n",
            "Eval:   0%|          | 0/125 [00:00<?, ?it/s]\u001b[A\n",
            "Eval:   1%|          | 1/125 [00:00<00:14,  8.29it/s]\u001b[A\n",
            "Eval:   3%|▎         | 4/125 [00:00<00:06, 17.38it/s]\u001b[A\n",
            "Eval:   6%|▌         | 7/125 [00:00<00:05, 20.47it/s]\u001b[A\n",
            "Eval:   8%|▊         | 10/125 [00:00<00:05, 21.75it/s]\u001b[A\n",
            "Eval:  10%|█         | 13/125 [00:00<00:04, 22.68it/s]\u001b[A\n",
            "Eval:  13%|█▎        | 16/125 [00:00<00:04, 23.12it/s]\u001b[A\n",
            "Eval:  15%|█▌        | 19/125 [00:00<00:04, 23.23it/s]\u001b[A\n",
            "Eval:  18%|█▊        | 22/125 [00:01<00:04, 23.51it/s]\u001b[A\n",
            "Eval:  20%|██        | 25/125 [00:01<00:04, 23.66it/s]\u001b[A\n",
            "Eval:  22%|██▏       | 28/125 [00:01<00:03, 24.29it/s]\u001b[A\n",
            "Eval:  25%|██▍       | 31/125 [00:01<00:03, 23.53it/s]\u001b[A\n",
            "Eval:  27%|██▋       | 34/125 [00:01<00:03, 23.89it/s]\u001b[A\n",
            "Eval:  30%|██▉       | 37/125 [00:01<00:03, 24.40it/s]\u001b[A\n",
            "Eval:  32%|███▏      | 40/125 [00:01<00:03, 24.29it/s]\u001b[A\n",
            "Eval:  34%|███▍      | 43/125 [00:01<00:03, 24.04it/s]\u001b[A\n",
            "Eval:  37%|███▋      | 46/125 [00:01<00:03, 24.11it/s]\u001b[A\n",
            "Eval:  39%|███▉      | 49/125 [00:02<00:03, 23.71it/s]\u001b[A\n",
            "Eval:  42%|████▏     | 52/125 [00:02<00:03, 23.78it/s]\u001b[A\n",
            "Eval:  44%|████▍     | 55/125 [00:02<00:02, 23.82it/s]\u001b[A\n",
            "Eval:  46%|████▋     | 58/125 [00:02<00:02, 24.52it/s]\u001b[A\n",
            "Eval:  49%|████▉     | 61/125 [00:02<00:02, 24.22it/s]\u001b[A\n",
            "Eval:  51%|█████     | 64/125 [00:02<00:02, 24.21it/s]\u001b[A\n",
            "Eval:  54%|█████▎    | 67/125 [00:02<00:02, 24.22it/s]\u001b[A\n",
            "Eval:  56%|█████▌    | 70/125 [00:02<00:02, 23.89it/s]\u001b[A\n",
            "Eval:  58%|█████▊    | 73/125 [00:03<00:02, 23.32it/s]\u001b[A\n",
            "Eval:  61%|██████    | 76/125 [00:03<00:02, 22.59it/s]\u001b[A\n",
            "Eval:  63%|██████▎   | 79/125 [00:03<00:02, 22.43it/s]\u001b[A\n",
            "Eval:  66%|██████▌   | 82/125 [00:03<00:01, 22.47it/s]\u001b[A\n",
            "Eval:  68%|██████▊   | 85/125 [00:03<00:01, 22.25it/s]\u001b[A\n",
            "Eval:  70%|███████   | 88/125 [00:03<00:01, 22.38it/s]\u001b[A\n",
            "Eval:  73%|███████▎  | 91/125 [00:03<00:01, 22.12it/s]\u001b[A\n",
            "Eval:  75%|███████▌  | 94/125 [00:04<00:01, 22.04it/s]\u001b[A\n",
            "Eval:  78%|███████▊  | 97/125 [00:04<00:01, 22.51it/s]\u001b[A\n",
            "Eval:  80%|████████  | 100/125 [00:04<00:01, 22.51it/s]\u001b[A\n",
            "Eval:  82%|████████▏ | 103/125 [00:04<00:00, 22.18it/s]\u001b[A\n",
            "Eval:  85%|████████▍ | 106/125 [00:04<00:00, 22.40it/s]\u001b[A\n",
            "Eval:  87%|████████▋ | 109/125 [00:04<00:00, 22.23it/s]\u001b[A\n",
            "Eval:  90%|████████▉ | 112/125 [00:04<00:00, 21.95it/s]\u001b[A\n",
            "Eval:  92%|█████████▏| 115/125 [00:05<00:00, 22.17it/s]\u001b[A\n",
            "Eval:  94%|█████████▍| 118/125 [00:05<00:00, 22.50it/s]\u001b[A\n",
            "Eval:  97%|█████████▋| 121/125 [00:05<00:00, 22.76it/s]\u001b[A\n",
            "Eval:  99%|█████████▉| 124/125 [00:05<00:00, 22.88it/s]\u001b[A\n",
            "                                                       \u001b[A"
          ]
        },
        {
          "output_type": "stream",
          "name": "stdout",
          "text": [
            "Acc for model which have lower valid loss:  0.981\n"
          ]
        },
        {
          "output_type": "stream",
          "name": "stderr",
          "text": [
            "Epoch 0: 100%|██████████| 13852/13852 [31:05<00:00,  7.43batch/s, loss=0.0104]\n",
            "Epoch 1:  20%|█▉        | 2770/13852 [06:06<24:38,  7.50batch/s, loss=0.00223]\n",
            "Eval:   0%|          | 0/125 [00:00<?, ?it/s]\u001b[A\n",
            "Eval:   1%|          | 1/125 [00:00<00:17,  7.25it/s]\u001b[A\n",
            "Eval:   3%|▎         | 4/125 [00:00<00:07, 16.51it/s]\u001b[A\n",
            "Eval:   6%|▌         | 7/125 [00:00<00:05, 19.95it/s]\u001b[A\n",
            "Eval:   8%|▊         | 10/125 [00:00<00:05, 21.51it/s]\u001b[A\n",
            "Eval:  10%|█         | 13/125 [00:00<00:05, 22.31it/s]\u001b[A\n",
            "Eval:  13%|█▎        | 16/125 [00:00<00:04, 22.84it/s]\u001b[A\n",
            "Eval:  15%|█▌        | 19/125 [00:00<00:04, 23.07it/s]\u001b[A\n",
            "Eval:  18%|█▊        | 22/125 [00:01<00:04, 23.08it/s]\u001b[A\n",
            "Eval:  20%|██        | 25/125 [00:01<00:04, 23.42it/s]\u001b[A\n",
            "Eval:  22%|██▏       | 28/125 [00:01<00:03, 24.25it/s]\u001b[A\n",
            "Eval:  25%|██▍       | 31/125 [00:01<00:04, 23.32it/s]\u001b[A\n",
            "Eval:  27%|██▋       | 34/125 [00:01<00:03, 23.66it/s]\u001b[A\n",
            "Eval:  30%|██▉       | 37/125 [00:01<00:03, 24.26it/s]\u001b[A\n",
            "Eval:  32%|███▏      | 40/125 [00:01<00:03, 24.43it/s]\u001b[A\n",
            "Eval:  34%|███▍      | 43/125 [00:01<00:03, 24.21it/s]\u001b[A\n",
            "Eval:  37%|███▋      | 46/125 [00:02<00:03, 24.10it/s]\u001b[A\n",
            "Eval:  39%|███▉      | 49/125 [00:02<00:03, 23.72it/s]\u001b[A\n",
            "Eval:  42%|████▏     | 52/125 [00:02<00:03, 23.88it/s]\u001b[A\n",
            "Eval:  44%|████▍     | 55/125 [00:02<00:02, 24.05it/s]\u001b[A\n",
            "Eval:  46%|████▋     | 58/125 [00:02<00:02, 24.52it/s]\u001b[A\n",
            "Eval:  49%|████▉     | 61/125 [00:02<00:02, 24.10it/s]\u001b[A\n",
            "Eval:  51%|█████     | 64/125 [00:02<00:02, 24.16it/s]\u001b[A\n",
            "Eval:  54%|█████▎    | 67/125 [00:02<00:02, 24.22it/s]\u001b[A\n",
            "Eval:  56%|█████▌    | 70/125 [00:03<00:02, 23.92it/s]\u001b[A\n",
            "Eval:  58%|█████▊    | 73/125 [00:03<00:02, 23.30it/s]\u001b[A\n",
            "Eval:  61%|██████    | 76/125 [00:03<00:02, 22.76it/s]\u001b[A\n",
            "Eval:  63%|██████▎   | 79/125 [00:03<00:02, 22.52it/s]\u001b[A\n",
            "Eval:  66%|██████▌   | 82/125 [00:03<00:01, 22.41it/s]\u001b[A\n",
            "Eval:  68%|██████▊   | 85/125 [00:03<00:01, 22.17it/s]\u001b[A\n",
            "Eval:  70%|███████   | 88/125 [00:03<00:01, 22.32it/s]\u001b[A\n",
            "Eval:  73%|███████▎  | 91/125 [00:03<00:01, 22.23it/s]\u001b[A\n",
            "Eval:  75%|███████▌  | 94/125 [00:04<00:01, 22.22it/s]\u001b[A\n",
            "Eval:  78%|███████▊  | 97/125 [00:04<00:01, 22.59it/s]\u001b[A\n",
            "Eval:  80%|████████  | 100/125 [00:04<00:01, 22.75it/s]\u001b[A\n",
            "Eval:  82%|████████▏ | 103/125 [00:04<00:00, 22.56it/s]\u001b[A\n",
            "Eval:  85%|████████▍ | 106/125 [00:04<00:00, 22.38it/s]\u001b[A\n",
            "Eval:  87%|████████▋ | 109/125 [00:04<00:00, 22.30it/s]\u001b[A\n",
            "Eval:  90%|████████▉ | 112/125 [00:04<00:00, 21.92it/s]\u001b[A\n",
            "Eval:  92%|█████████▏| 115/125 [00:05<00:00, 22.07it/s]\u001b[A\n",
            "Eval:  94%|█████████▍| 118/125 [00:05<00:00, 22.51it/s]\u001b[A\n",
            "Eval:  97%|█████████▋| 121/125 [00:05<00:00, 22.72it/s]\u001b[A\n",
            "Eval:  99%|█████████▉| 124/125 [00:05<00:00, 22.56it/s]\u001b[A\n",
            "Epoch 1:  40%|███▉      | 5540/13852 [12:17<18:12,  7.61batch/s, loss=0.0259]\n",
            "Eval:   0%|          | 0/125 [00:00<?, ?it/s]\u001b[A\n",
            "Eval:   1%|          | 1/125 [00:00<00:15,  7.90it/s]\u001b[A\n",
            "Eval:   3%|▎         | 4/125 [00:00<00:06, 17.39it/s]\u001b[A\n",
            "Eval:   6%|▌         | 7/125 [00:00<00:05, 20.77it/s]\u001b[A\n",
            "Eval:   8%|▊         | 10/125 [00:00<00:05, 21.77it/s]\u001b[A\n",
            "Eval:  10%|█         | 13/125 [00:00<00:04, 22.48it/s]\u001b[A\n",
            "Eval:  13%|█▎        | 16/125 [00:00<00:04, 23.08it/s]\u001b[A\n",
            "Eval:  15%|█▌        | 19/125 [00:00<00:04, 23.28it/s]\u001b[A\n",
            "Eval:  18%|█▊        | 22/125 [00:01<00:04, 23.36it/s]\u001b[A\n",
            "Eval:  20%|██        | 25/125 [00:01<00:04, 23.20it/s]\u001b[A\n",
            "Eval:  22%|██▏       | 28/125 [00:01<00:04, 23.85it/s]\u001b[A\n",
            "Eval:  25%|██▍       | 31/125 [00:01<00:03, 23.52it/s]\u001b[A\n",
            "Eval:  27%|██▋       | 34/125 [00:01<00:03, 23.59it/s]\u001b[A\n",
            "Eval:  30%|██▉       | 37/125 [00:01<00:03, 24.10it/s]\u001b[A\n",
            "Eval:  32%|███▏      | 40/125 [00:01<00:03, 23.96it/s]\u001b[A\n",
            "Eval:  34%|███▍      | 43/125 [00:01<00:03, 23.79it/s]\u001b[A\n",
            "Eval:  37%|███▋      | 46/125 [00:02<00:03, 23.88it/s]\u001b[A\n",
            "Eval:  39%|███▉      | 49/125 [00:02<00:03, 23.07it/s]\u001b[A\n",
            "Eval:  42%|████▏     | 52/125 [00:02<00:03, 23.32it/s]\u001b[A\n",
            "Eval:  44%|████▍     | 55/125 [00:02<00:02, 23.68it/s]\u001b[A\n",
            "Eval:  46%|████▋     | 58/125 [00:02<00:02, 24.33it/s]\u001b[A\n",
            "Eval:  49%|████▉     | 61/125 [00:02<00:02, 24.14it/s]\u001b[A\n",
            "Eval:  51%|█████     | 64/125 [00:02<00:02, 24.19it/s]\u001b[A\n",
            "Eval:  54%|█████▎    | 67/125 [00:02<00:02, 24.32it/s]\u001b[A\n",
            "Eval:  56%|█████▌    | 70/125 [00:03<00:02, 23.86it/s]\u001b[A\n",
            "Eval:  58%|█████▊    | 73/125 [00:03<00:02, 23.03it/s]\u001b[A\n",
            "Eval:  61%|██████    | 76/125 [00:03<00:02, 22.34it/s]\u001b[A\n",
            "Eval:  63%|██████▎   | 79/125 [00:03<00:02, 22.23it/s]\u001b[A\n",
            "Eval:  66%|██████▌   | 82/125 [00:03<00:01, 22.36it/s]\u001b[A\n",
            "Eval:  68%|██████▊   | 85/125 [00:03<00:01, 22.32it/s]\u001b[A\n",
            "Eval:  70%|███████   | 88/125 [00:03<00:01, 22.52it/s]\u001b[A\n",
            "Eval:  73%|███████▎  | 91/125 [00:03<00:01, 22.35it/s]\u001b[A\n",
            "Eval:  75%|███████▌  | 94/125 [00:04<00:01, 22.38it/s]\u001b[A\n",
            "Eval:  78%|███████▊  | 97/125 [00:04<00:01, 22.61it/s]\u001b[A\n",
            "Eval:  80%|████████  | 100/125 [00:04<00:01, 22.47it/s]\u001b[A\n",
            "Eval:  82%|████████▏ | 103/125 [00:04<00:00, 22.35it/s]\u001b[A\n",
            "Eval:  85%|████████▍ | 106/125 [00:04<00:00, 22.59it/s]\u001b[A\n",
            "Eval:  87%|████████▋ | 109/125 [00:04<00:00, 22.52it/s]\u001b[A\n",
            "Eval:  90%|████████▉ | 112/125 [00:04<00:00, 22.15it/s]\u001b[A\n",
            "Eval:  92%|█████████▏| 115/125 [00:05<00:00, 22.37it/s]\u001b[A\n",
            "Eval:  94%|█████████▍| 118/125 [00:05<00:00, 22.70it/s]\u001b[A\n",
            "Eval:  97%|█████████▋| 121/125 [00:05<00:00, 22.71it/s]\u001b[A\n",
            "Eval:  99%|█████████▉| 124/125 [00:05<00:00, 22.68it/s]\u001b[A\n",
            "Epoch 1:  60%|█████▉    | 8310/13852 [18:27<12:00,  7.69batch/s, loss=0.183] \n",
            "Eval:   0%|          | 0/125 [00:00<?, ?it/s]\u001b[A\n",
            "Eval:   1%|          | 1/125 [00:00<00:16,  7.44it/s]\u001b[A\n",
            "Eval:   3%|▎         | 4/125 [00:00<00:07, 16.92it/s]\u001b[A\n",
            "Eval:   6%|▌         | 7/125 [00:00<00:05, 20.39it/s]\u001b[A\n",
            "Eval:   8%|▊         | 10/125 [00:00<00:05, 21.66it/s]\u001b[A\n",
            "Eval:  10%|█         | 13/125 [00:00<00:04, 22.40it/s]\u001b[A\n",
            "Eval:  13%|█▎        | 16/125 [00:00<00:04, 22.87it/s]\u001b[A\n",
            "Eval:  15%|█▌        | 19/125 [00:00<00:04, 23.08it/s]\u001b[A\n",
            "Eval:  18%|█▊        | 22/125 [00:01<00:04, 23.15it/s]\u001b[A\n",
            "Eval:  20%|██        | 25/125 [00:01<00:04, 23.31it/s]\u001b[A\n",
            "Eval:  22%|██▏       | 28/125 [00:01<00:04, 24.15it/s]\u001b[A\n",
            "Eval:  25%|██▍       | 31/125 [00:01<00:03, 23.77it/s]\u001b[A\n",
            "Eval:  27%|██▋       | 34/125 [00:01<00:03, 23.79it/s]\u001b[A\n",
            "Eval:  30%|██▉       | 37/125 [00:01<00:03, 24.19it/s]\u001b[A\n",
            "Eval:  32%|███▏      | 40/125 [00:01<00:03, 24.07it/s]\u001b[A\n",
            "Eval:  34%|███▍      | 43/125 [00:01<00:03, 23.87it/s]\u001b[A\n",
            "Eval:  37%|███▋      | 46/125 [00:02<00:03, 23.84it/s]\u001b[A\n",
            "Eval:  39%|███▉      | 49/125 [00:02<00:03, 23.44it/s]\u001b[A\n",
            "Eval:  42%|████▏     | 52/125 [00:02<00:03, 23.75it/s]\u001b[A\n",
            "Eval:  44%|████▍     | 55/125 [00:02<00:02, 24.11it/s]\u001b[A\n",
            "Eval:  46%|████▋     | 58/125 [00:02<00:02, 24.62it/s]\u001b[A\n",
            "Eval:  49%|████▉     | 61/125 [00:02<00:02, 24.00it/s]\u001b[A\n",
            "Eval:  51%|█████     | 64/125 [00:02<00:02, 24.01it/s]\u001b[A\n",
            "Eval:  54%|█████▎    | 67/125 [00:02<00:02, 23.93it/s]\u001b[A\n",
            "Eval:  56%|█████▌    | 70/125 [00:03<00:02, 23.45it/s]\u001b[A\n",
            "Eval:  58%|█████▊    | 73/125 [00:03<00:02, 22.87it/s]\u001b[A\n",
            "Eval:  61%|██████    | 76/125 [00:03<00:02, 22.07it/s]\u001b[A\n",
            "Eval:  63%|██████▎   | 79/125 [00:03<00:02, 22.09it/s]\u001b[A\n",
            "Eval:  66%|██████▌   | 82/125 [00:03<00:01, 22.22it/s]\u001b[A\n",
            "Eval:  68%|██████▊   | 85/125 [00:03<00:01, 22.11it/s]\u001b[A\n",
            "Eval:  70%|███████   | 88/125 [00:03<00:01, 22.25it/s]\u001b[A\n",
            "Eval:  73%|███████▎  | 91/125 [00:03<00:01, 22.05it/s]\u001b[A\n",
            "Eval:  75%|███████▌  | 94/125 [00:04<00:01, 22.07it/s]\u001b[A\n",
            "Eval:  78%|███████▊  | 97/125 [00:04<00:01, 22.40it/s]\u001b[A\n",
            "Eval:  80%|████████  | 100/125 [00:04<00:01, 22.49it/s]\u001b[A\n",
            "Eval:  82%|████████▏ | 103/125 [00:04<00:00, 22.45it/s]\u001b[A\n",
            "Eval:  85%|████████▍ | 106/125 [00:04<00:00, 22.45it/s]\u001b[A\n",
            "Eval:  87%|████████▋ | 109/125 [00:04<00:00, 22.23it/s]\u001b[A\n",
            "Eval:  90%|████████▉ | 112/125 [00:04<00:00, 21.92it/s]\u001b[A\n",
            "Eval:  92%|█████████▏| 115/125 [00:05<00:00, 22.07it/s]\u001b[A\n",
            "Eval:  94%|█████████▍| 118/125 [00:05<00:00, 22.59it/s]\u001b[A\n",
            "Eval:  97%|█████████▋| 121/125 [00:05<00:00, 22.76it/s]\u001b[A\n",
            "Eval:  99%|█████████▉| 124/125 [00:05<00:00, 22.89it/s]\u001b[A\n",
            "Epoch 1:  80%|███████▉  | 11080/13852 [24:38<06:19,  7.31batch/s, loss=0.254]\n",
            "Eval:   0%|          | 0/125 [00:00<?, ?it/s]\u001b[A\n",
            "Eval:   1%|          | 1/125 [00:00<00:16,  7.68it/s]\u001b[A\n",
            "Eval:   3%|▎         | 4/125 [00:00<00:07, 16.93it/s]\u001b[A\n",
            "Eval:   6%|▌         | 7/125 [00:00<00:05, 20.43it/s]\u001b[A\n",
            "Eval:   8%|▊         | 10/125 [00:00<00:05, 21.73it/s]\u001b[A\n",
            "Eval:  10%|█         | 13/125 [00:00<00:05, 22.32it/s]\u001b[A\n",
            "Eval:  13%|█▎        | 16/125 [00:00<00:04, 22.83it/s]\u001b[A\n",
            "Eval:  15%|█▌        | 19/125 [00:00<00:04, 23.06it/s]\u001b[A\n",
            "Eval:  18%|█▊        | 22/125 [00:01<00:04, 23.35it/s]\u001b[A\n",
            "Eval:  20%|██        | 25/125 [00:01<00:04, 23.30it/s]\u001b[A\n",
            "Eval:  22%|██▏       | 28/125 [00:01<00:04, 24.07it/s]\u001b[A\n",
            "Eval:  25%|██▍       | 31/125 [00:01<00:03, 23.68it/s]\u001b[A\n",
            "Eval:  27%|██▋       | 34/125 [00:01<00:03, 23.70it/s]\u001b[A\n",
            "Eval:  30%|██▉       | 37/125 [00:01<00:03, 24.02it/s]\u001b[A\n",
            "Eval:  32%|███▏      | 40/125 [00:01<00:03, 24.18it/s]\u001b[A\n",
            "Eval:  34%|███▍      | 43/125 [00:01<00:03, 23.90it/s]\u001b[A\n",
            "Eval:  37%|███▋      | 46/125 [00:02<00:03, 23.80it/s]\u001b[A\n",
            "Eval:  39%|███▉      | 49/125 [00:02<00:03, 23.51it/s]\u001b[A\n",
            "Eval:  42%|████▏     | 52/125 [00:02<00:03, 23.45it/s]\u001b[A\n",
            "Eval:  44%|████▍     | 55/125 [00:02<00:02, 23.91it/s]\u001b[A\n",
            "Eval:  46%|████▋     | 58/125 [00:02<00:02, 24.34it/s]\u001b[A\n",
            "Eval:  49%|████▉     | 61/125 [00:02<00:02, 24.12it/s]\u001b[A\n",
            "Eval:  51%|█████     | 64/125 [00:02<00:02, 24.16it/s]\u001b[A\n",
            "Eval:  54%|█████▎    | 67/125 [00:02<00:02, 24.09it/s]\u001b[A\n",
            "Eval:  56%|█████▌    | 70/125 [00:03<00:02, 23.71it/s]\u001b[A\n",
            "Eval:  58%|█████▊    | 73/125 [00:03<00:02, 23.05it/s]\u001b[A\n",
            "Eval:  61%|██████    | 76/125 [00:03<00:02, 22.41it/s]\u001b[A\n",
            "Eval:  63%|██████▎   | 79/125 [00:03<00:02, 22.33it/s]\u001b[A\n",
            "Eval:  66%|██████▌   | 82/125 [00:03<00:01, 22.23it/s]\u001b[A\n",
            "Eval:  68%|██████▊   | 85/125 [00:03<00:01, 22.10it/s]\u001b[A\n",
            "Eval:  70%|███████   | 88/125 [00:03<00:01, 22.30it/s]\u001b[A\n",
            "Eval:  73%|███████▎  | 91/125 [00:03<00:01, 22.13it/s]\u001b[A\n",
            "Eval:  75%|███████▌  | 94/125 [00:04<00:01, 22.03it/s]\u001b[A\n",
            "Eval:  78%|███████▊  | 97/125 [00:04<00:01, 22.41it/s]\u001b[A\n",
            "Eval:  80%|████████  | 100/125 [00:04<00:01, 22.43it/s]\u001b[A\n",
            "Eval:  82%|████████▏ | 103/125 [00:04<00:00, 22.37it/s]\u001b[A\n",
            "Eval:  85%|████████▍ | 106/125 [00:04<00:00, 22.62it/s]\u001b[A\n",
            "Eval:  87%|████████▋ | 109/125 [00:04<00:00, 22.40it/s]\u001b[A\n",
            "Eval:  90%|████████▉ | 112/125 [00:04<00:00, 22.07it/s]\u001b[A\n",
            "Eval:  92%|█████████▏| 115/125 [00:05<00:00, 22.33it/s]\u001b[A\n",
            "Eval:  94%|█████████▍| 118/125 [00:05<00:00, 22.66it/s]\u001b[A\n",
            "Eval:  97%|█████████▋| 121/125 [00:05<00:00, 22.70it/s]\u001b[A\n",
            "Eval:  99%|█████████▉| 124/125 [00:05<00:00, 22.68it/s]\u001b[A\n",
            "Epoch 1: 100%|█████████▉| 13850/13852 [30:51<00:00,  7.30batch/s, loss=0.0332]\n",
            "Eval:   0%|          | 0/125 [00:00<?, ?it/s]\u001b[A\n",
            "Eval:   1%|          | 1/125 [00:00<00:15,  7.88it/s]\u001b[A\n",
            "Eval:   3%|▎         | 4/125 [00:00<00:07, 16.46it/s]\u001b[A\n",
            "Eval:   6%|▌         | 7/125 [00:00<00:05, 19.81it/s]\u001b[A\n",
            "Eval:   8%|▊         | 10/125 [00:00<00:05, 21.21it/s]\u001b[A\n",
            "Eval:  10%|█         | 13/125 [00:00<00:05, 21.68it/s]\u001b[A\n",
            "Eval:  13%|█▎        | 16/125 [00:00<00:04, 22.19it/s]\u001b[A\n",
            "Eval:  15%|█▌        | 19/125 [00:00<00:04, 22.46it/s]\u001b[A\n",
            "Eval:  18%|█▊        | 22/125 [00:01<00:04, 22.74it/s]\u001b[A\n",
            "Eval:  20%|██        | 25/125 [00:01<00:04, 22.80it/s]\u001b[A\n",
            "Eval:  22%|██▏       | 28/125 [00:01<00:04, 23.59it/s]\u001b[A\n",
            "Eval:  25%|██▍       | 31/125 [00:01<00:04, 23.37it/s]\u001b[A\n",
            "Eval:  27%|██▋       | 34/125 [00:01<00:03, 23.59it/s]\u001b[A\n",
            "Eval:  30%|██▉       | 37/125 [00:01<00:03, 23.88it/s]\u001b[A\n",
            "Eval:  32%|███▏      | 40/125 [00:01<00:03, 23.61it/s]\u001b[A\n",
            "Eval:  34%|███▍      | 43/125 [00:01<00:03, 23.39it/s]\u001b[A\n",
            "Eval:  37%|███▋      | 46/125 [00:02<00:03, 23.27it/s]\u001b[A\n",
            "Eval:  39%|███▉      | 49/125 [00:02<00:03, 22.85it/s]\u001b[A\n",
            "Eval:  42%|████▏     | 52/125 [00:02<00:03, 22.90it/s]\u001b[A\n",
            "Eval:  44%|████▍     | 55/125 [00:02<00:03, 23.12it/s]\u001b[A\n",
            "Eval:  46%|████▋     | 58/125 [00:02<00:02, 23.60it/s]\u001b[A\n",
            "Eval:  49%|████▉     | 61/125 [00:02<00:02, 23.32it/s]\u001b[A\n",
            "Eval:  51%|█████     | 64/125 [00:02<00:02, 23.46it/s]\u001b[A\n",
            "Eval:  54%|█████▎    | 67/125 [00:02<00:02, 23.50it/s]\u001b[A\n",
            "Eval:  56%|█████▌    | 70/125 [00:03<00:02, 23.10it/s]\u001b[A\n",
            "Eval:  58%|█████▊    | 73/125 [00:03<00:02, 22.68it/s]\u001b[A\n",
            "Eval:  61%|██████    | 76/125 [00:03<00:02, 22.15it/s]\u001b[A\n",
            "Eval:  63%|██████▎   | 79/125 [00:03<00:02, 21.96it/s]\u001b[A\n",
            "Eval:  66%|██████▌   | 82/125 [00:03<00:01, 22.15it/s]\u001b[A\n",
            "Eval:  68%|██████▊   | 85/125 [00:03<00:01, 21.99it/s]\u001b[A\n",
            "Eval:  70%|███████   | 88/125 [00:03<00:01, 22.11it/s]\u001b[A\n",
            "Eval:  73%|███████▎  | 91/125 [00:04<00:01, 21.90it/s]\u001b[A\n",
            "Eval:  75%|███████▌  | 94/125 [00:04<00:01, 21.91it/s]\u001b[A\n",
            "Eval:  78%|███████▊  | 97/125 [00:04<00:01, 22.33it/s]\u001b[A\n",
            "Eval:  80%|████████  | 100/125 [00:04<00:01, 22.07it/s]\u001b[A\n",
            "Eval:  82%|████████▏ | 103/125 [00:04<00:00, 22.19it/s]\u001b[A\n",
            "Eval:  85%|████████▍ | 106/125 [00:04<00:00, 22.21it/s]\u001b[A\n",
            "Eval:  87%|████████▋ | 109/125 [00:04<00:00, 22.13it/s]\u001b[A\n",
            "Eval:  90%|████████▉ | 112/125 [00:05<00:00, 21.86it/s]\u001b[A\n",
            "Eval:  92%|█████████▏| 115/125 [00:05<00:00, 22.11it/s]\u001b[A\n",
            "Eval:  94%|█████████▍| 118/125 [00:05<00:00, 22.53it/s]\u001b[A\n",
            "Eval:  97%|█████████▋| 121/125 [00:05<00:00, 22.79it/s]\u001b[A\n",
            "Eval:  99%|█████████▉| 124/125 [00:05<00:00, 22.59it/s]\u001b[A\n",
            "                                                       \u001b[A"
          ]
        },
        {
          "output_type": "stream",
          "name": "stdout",
          "text": [
            "Acc for model which have lower valid loss:  0.98\n"
          ]
        },
        {
          "output_type": "stream",
          "name": "stderr",
          "text": [
            "Epoch 1: 100%|██████████| 13852/13852 [30:59<00:00,  7.45batch/s, loss=0.017]\n",
            "Epoch 2:  20%|█▉        | 2770/13852 [06:08<24:07,  7.65batch/s, loss=0.0153]\n",
            "Eval:   0%|          | 0/125 [00:00<?, ?it/s]\u001b[A\n",
            "Eval:   1%|          | 1/125 [00:00<00:17,  7.27it/s]\u001b[A\n",
            "Eval:   3%|▎         | 4/125 [00:00<00:07, 16.43it/s]\u001b[A\n",
            "Eval:   6%|▌         | 7/125 [00:00<00:05, 19.86it/s]\u001b[A\n",
            "Eval:   8%|▊         | 10/125 [00:00<00:05, 21.26it/s]\u001b[A\n",
            "Eval:  10%|█         | 13/125 [00:00<00:05, 22.06it/s]\u001b[A\n",
            "Eval:  13%|█▎        | 16/125 [00:00<00:04, 22.55it/s]\u001b[A\n",
            "Eval:  15%|█▌        | 19/125 [00:00<00:04, 22.71it/s]\u001b[A\n",
            "Eval:  18%|█▊        | 22/125 [00:01<00:04, 22.73it/s]\u001b[A\n",
            "Eval:  20%|██        | 25/125 [00:01<00:04, 22.46it/s]\u001b[A\n",
            "Eval:  22%|██▏       | 28/125 [00:01<00:04, 23.37it/s]\u001b[A\n",
            "Eval:  25%|██▍       | 31/125 [00:01<00:04, 23.06it/s]\u001b[A\n",
            "Eval:  27%|██▋       | 34/125 [00:01<00:03, 23.28it/s]\u001b[A\n",
            "Eval:  30%|██▉       | 37/125 [00:01<00:03, 23.76it/s]\u001b[A\n",
            "Eval:  32%|███▏      | 40/125 [00:01<00:03, 23.78it/s]\u001b[A\n",
            "Eval:  34%|███▍      | 43/125 [00:01<00:03, 23.57it/s]\u001b[A\n",
            "Eval:  37%|███▋      | 46/125 [00:02<00:03, 23.55it/s]\u001b[A\n",
            "Eval:  39%|███▉      | 49/125 [00:02<00:03, 22.64it/s]\u001b[A\n",
            "Eval:  42%|████▏     | 52/125 [00:02<00:03, 22.82it/s]\u001b[A\n",
            "Eval:  44%|████▍     | 55/125 [00:02<00:03, 23.27it/s]\u001b[A\n",
            "Eval:  46%|████▋     | 58/125 [00:02<00:02, 23.88it/s]\u001b[A\n",
            "Eval:  49%|████▉     | 61/125 [00:02<00:02, 23.36it/s]\u001b[A\n",
            "Eval:  51%|█████     | 64/125 [00:02<00:02, 23.46it/s]\u001b[A\n",
            "Eval:  54%|█████▎    | 67/125 [00:02<00:02, 23.50it/s]\u001b[A\n",
            "Eval:  56%|█████▌    | 70/125 [00:03<00:02, 23.13it/s]\u001b[A\n",
            "Eval:  58%|█████▊    | 73/125 [00:03<00:02, 22.52it/s]\u001b[A\n",
            "Eval:  61%|██████    | 76/125 [00:03<00:02, 22.00it/s]\u001b[A\n",
            "Eval:  63%|██████▎   | 79/125 [00:03<00:02, 22.06it/s]\u001b[A\n",
            "Eval:  66%|██████▌   | 82/125 [00:03<00:01, 22.11it/s]\u001b[A\n",
            "Eval:  68%|██████▊   | 85/125 [00:03<00:01, 21.49it/s]\u001b[A\n",
            "Eval:  70%|███████   | 88/125 [00:03<00:01, 21.65it/s]\u001b[A\n",
            "Eval:  73%|███████▎  | 91/125 [00:04<00:01, 21.65it/s]\u001b[A\n",
            "Eval:  75%|███████▌  | 94/125 [00:04<00:01, 21.40it/s]\u001b[A\n",
            "Eval:  78%|███████▊  | 97/125 [00:04<00:01, 21.79it/s]\u001b[A\n",
            "Eval:  80%|████████  | 100/125 [00:04<00:01, 21.92it/s]\u001b[A\n",
            "Eval:  82%|████████▏ | 103/125 [00:04<00:01, 21.91it/s]\u001b[A\n",
            "Eval:  85%|████████▍ | 106/125 [00:04<00:00, 22.14it/s]\u001b[A\n",
            "Eval:  87%|████████▋ | 109/125 [00:04<00:00, 22.09it/s]\u001b[A\n",
            "Eval:  90%|████████▉ | 112/125 [00:05<00:00, 21.57it/s]\u001b[A\n",
            "Eval:  92%|█████████▏| 115/125 [00:05<00:00, 21.55it/s]\u001b[A\n",
            "Eval:  94%|█████████▍| 118/125 [00:05<00:00, 21.86it/s]\u001b[A\n",
            "Eval:  97%|█████████▋| 121/125 [00:05<00:00, 22.12it/s]\u001b[A\n",
            "Eval:  99%|█████████▉| 124/125 [00:05<00:00, 22.14it/s]\u001b[A\n",
            "Epoch 2:  40%|███▉      | 5540/13852 [12:22<18:34,  7.46batch/s, loss=0.00493]\n",
            "Eval:   0%|          | 0/125 [00:00<?, ?it/s]\u001b[A\n",
            "Eval:   1%|          | 1/125 [00:00<00:17,  7.12it/s]\u001b[A\n",
            "Eval:   3%|▎         | 4/125 [00:00<00:07, 16.36it/s]\u001b[A\n",
            "Eval:   6%|▌         | 7/125 [00:00<00:06, 19.04it/s]\u001b[A\n",
            "Eval:   8%|▊         | 10/125 [00:00<00:05, 20.71it/s]\u001b[A\n",
            "Eval:  10%|█         | 13/125 [00:00<00:05, 21.62it/s]\u001b[A\n",
            "Eval:  13%|█▎        | 16/125 [00:00<00:04, 22.14it/s]\u001b[A\n",
            "Eval:  15%|█▌        | 19/125 [00:00<00:04, 22.47it/s]\u001b[A\n",
            "Eval:  18%|█▊        | 22/125 [00:01<00:04, 22.72it/s]\u001b[A\n",
            "Eval:  20%|██        | 25/125 [00:01<00:04, 22.94it/s]\u001b[A\n",
            "Eval:  22%|██▏       | 28/125 [00:01<00:04, 23.95it/s]\u001b[A\n",
            "Eval:  25%|██▍       | 31/125 [00:01<00:04, 23.32it/s]\u001b[A\n",
            "Eval:  27%|██▋       | 34/125 [00:01<00:03, 23.48it/s]\u001b[A\n",
            "Eval:  30%|██▉       | 37/125 [00:01<00:03, 24.11it/s]\u001b[A\n",
            "Eval:  32%|███▏      | 40/125 [00:01<00:03, 24.25it/s]\u001b[A\n",
            "Eval:  34%|███▍      | 43/125 [00:01<00:03, 23.91it/s]\u001b[A\n",
            "Eval:  37%|███▋      | 46/125 [00:02<00:03, 23.65it/s]\u001b[A\n",
            "Eval:  39%|███▉      | 49/125 [00:02<00:03, 23.03it/s]\u001b[A\n",
            "Eval:  42%|████▏     | 52/125 [00:02<00:03, 23.07it/s]\u001b[A\n",
            "Eval:  44%|████▍     | 55/125 [00:02<00:03, 22.69it/s]\u001b[A\n",
            "Eval:  46%|████▋     | 58/125 [00:02<00:02, 23.41it/s]\u001b[A\n",
            "Eval:  49%|████▉     | 61/125 [00:02<00:02, 23.13it/s]\u001b[A\n",
            "Eval:  51%|█████     | 64/125 [00:02<00:02, 23.20it/s]\u001b[A\n",
            "Eval:  54%|█████▎    | 67/125 [00:02<00:02, 22.55it/s]\u001b[A\n",
            "Eval:  56%|█████▌    | 70/125 [00:03<00:02, 22.47it/s]\u001b[A\n",
            "Eval:  58%|█████▊    | 73/125 [00:03<00:02, 22.20it/s]\u001b[A\n",
            "Eval:  61%|██████    | 76/125 [00:03<00:02, 21.66it/s]\u001b[A\n",
            "Eval:  63%|██████▎   | 79/125 [00:03<00:02, 21.71it/s]\u001b[A\n",
            "Eval:  66%|██████▌   | 82/125 [00:03<00:01, 21.69it/s]\u001b[A\n",
            "Eval:  68%|██████▊   | 85/125 [00:03<00:01, 21.47it/s]\u001b[A\n",
            "Eval:  70%|███████   | 88/125 [00:03<00:01, 21.61it/s]\u001b[A\n",
            "Eval:  73%|███████▎  | 91/125 [00:04<00:01, 21.57it/s]\u001b[A\n",
            "Eval:  75%|███████▌  | 94/125 [00:04<00:01, 21.52it/s]\u001b[A\n",
            "Eval:  78%|███████▊  | 97/125 [00:04<00:01, 21.91it/s]\u001b[A\n",
            "Eval:  80%|████████  | 100/125 [00:04<00:01, 21.89it/s]\u001b[A\n",
            "Eval:  82%|████████▏ | 103/125 [00:04<00:01, 21.97it/s]\u001b[A\n",
            "Eval:  85%|████████▍ | 106/125 [00:04<00:00, 22.21it/s]\u001b[A\n",
            "Eval:  87%|████████▋ | 109/125 [00:04<00:00, 22.12it/s]\u001b[A\n",
            "Eval:  90%|████████▉ | 112/125 [00:05<00:00, 21.67it/s]\u001b[A\n",
            "Eval:  92%|█████████▏| 115/125 [00:05<00:00, 21.55it/s]\u001b[A\n",
            "Eval:  94%|█████████▍| 118/125 [00:05<00:00, 21.85it/s]\u001b[A\n",
            "Eval:  97%|█████████▋| 121/125 [00:05<00:00, 21.92it/s]\u001b[A\n",
            "Eval:  99%|█████████▉| 124/125 [00:05<00:00, 22.15it/s]\u001b[A\n",
            "Epoch 2:  60%|█████▉    | 8310/13852 [18:36<12:03,  7.66batch/s, loss=0.0466] \n",
            "Eval:   0%|          | 0/125 [00:00<?, ?it/s]\u001b[A\n",
            "Eval:   1%|          | 1/125 [00:00<00:15,  7.89it/s]\u001b[A\n",
            "Eval:   3%|▎         | 4/125 [00:00<00:07, 16.75it/s]\u001b[A\n",
            "Eval:   6%|▌         | 7/125 [00:00<00:05, 20.08it/s]\u001b[A\n",
            "Eval:   8%|▊         | 10/125 [00:00<00:05, 21.49it/s]\u001b[A\n",
            "Eval:  10%|█         | 13/125 [00:00<00:05, 22.26it/s]\u001b[A\n",
            "Eval:  13%|█▎        | 16/125 [00:00<00:04, 22.39it/s]\u001b[A\n",
            "Eval:  15%|█▌        | 19/125 [00:00<00:04, 22.49it/s]\u001b[A\n",
            "Eval:  18%|█▊        | 22/125 [00:01<00:04, 22.60it/s]\u001b[A\n",
            "Eval:  20%|██        | 25/125 [00:01<00:04, 22.75it/s]\u001b[A\n",
            "Eval:  22%|██▏       | 28/125 [00:01<00:04, 23.52it/s]\u001b[A\n",
            "Eval:  25%|██▍       | 31/125 [00:01<00:04, 23.19it/s]\u001b[A\n",
            "Eval:  27%|██▋       | 34/125 [00:01<00:03, 23.47it/s]\u001b[A\n",
            "Eval:  30%|██▉       | 37/125 [00:01<00:03, 24.08it/s]\u001b[A\n",
            "Eval:  32%|███▏      | 40/125 [00:01<00:03, 23.85it/s]\u001b[A\n",
            "Eval:  34%|███▍      | 43/125 [00:01<00:03, 23.38it/s]\u001b[A\n",
            "Eval:  37%|███▋      | 46/125 [00:02<00:03, 23.31it/s]\u001b[A\n",
            "Eval:  39%|███▉      | 49/125 [00:02<00:03, 22.93it/s]\u001b[A\n",
            "Eval:  42%|████▏     | 52/125 [00:02<00:03, 22.95it/s]\u001b[A\n",
            "Eval:  44%|████▍     | 55/125 [00:02<00:02, 23.34it/s]\u001b[A\n",
            "Eval:  46%|████▋     | 58/125 [00:02<00:02, 24.03it/s]\u001b[A\n",
            "Eval:  49%|████▉     | 61/125 [00:02<00:02, 23.76it/s]\u001b[A\n",
            "Eval:  51%|█████     | 64/125 [00:02<00:02, 23.56it/s]\u001b[A\n",
            "Eval:  54%|█████▎    | 67/125 [00:02<00:02, 23.58it/s]\u001b[A\n",
            "Eval:  56%|█████▌    | 70/125 [00:03<00:02, 23.14it/s]\u001b[A\n",
            "Eval:  58%|█████▊    | 73/125 [00:03<00:02, 22.58it/s]\u001b[A\n",
            "Eval:  61%|██████    | 76/125 [00:03<00:02, 21.94it/s]\u001b[A\n",
            "Eval:  63%|██████▎   | 79/125 [00:03<00:02, 21.94it/s]\u001b[A\n",
            "Eval:  66%|██████▌   | 82/125 [00:03<00:01, 22.10it/s]\u001b[A\n",
            "Eval:  68%|██████▊   | 85/125 [00:03<00:01, 21.82it/s]\u001b[A\n",
            "Eval:  70%|███████   | 88/125 [00:03<00:01, 21.31it/s]\u001b[A\n",
            "Eval:  73%|███████▎  | 91/125 [00:04<00:01, 21.35it/s]\u001b[A\n",
            "Eval:  75%|███████▌  | 94/125 [00:04<00:01, 21.38it/s]\u001b[A\n",
            "Eval:  78%|███████▊  | 97/125 [00:04<00:01, 21.79it/s]\u001b[A\n",
            "Eval:  80%|████████  | 100/125 [00:04<00:01, 21.87it/s]\u001b[A\n",
            "Eval:  82%|████████▏ | 103/125 [00:04<00:01, 21.88it/s]\u001b[A\n",
            "Eval:  85%|████████▍ | 106/125 [00:04<00:00, 22.03it/s]\u001b[A\n",
            "Eval:  87%|████████▋ | 109/125 [00:04<00:00, 22.03it/s]\u001b[A\n",
            "Eval:  90%|████████▉ | 112/125 [00:05<00:00, 21.68it/s]\u001b[A\n",
            "Eval:  92%|█████████▏| 115/125 [00:05<00:00, 21.52it/s]\u001b[A\n",
            "Eval:  94%|█████████▍| 118/125 [00:05<00:00, 21.82it/s]\u001b[A\n",
            "Eval:  97%|█████████▋| 121/125 [00:05<00:00, 22.13it/s]\u001b[A\n",
            "Eval:  99%|█████████▉| 124/125 [00:05<00:00, 22.24it/s]\u001b[A\n",
            "Epoch 2:  80%|███████▉  | 11080/13852 [24:51<06:00,  7.70batch/s, loss=0.00262]\n",
            "Eval:   0%|          | 0/125 [00:00<?, ?it/s]\u001b[A\n",
            "Eval:   1%|          | 1/125 [00:00<00:16,  7.35it/s]\u001b[A\n",
            "Eval:   3%|▎         | 4/125 [00:00<00:07, 16.70it/s]\u001b[A\n",
            "Eval:   6%|▌         | 7/125 [00:00<00:05, 20.07it/s]\u001b[A\n",
            "Eval:   8%|▊         | 10/125 [00:00<00:05, 21.60it/s]\u001b[A\n",
            "Eval:  10%|█         | 13/125 [00:00<00:05, 22.25it/s]\u001b[A\n",
            "Eval:  13%|█▎        | 16/125 [00:00<00:04, 22.59it/s]\u001b[A\n",
            "Eval:  15%|█▌        | 19/125 [00:00<00:04, 22.91it/s]\u001b[A\n",
            "Eval:  18%|█▊        | 22/125 [00:01<00:04, 23.02it/s]\u001b[A\n",
            "Eval:  20%|██        | 25/125 [00:01<00:04, 23.04it/s]\u001b[A\n",
            "Eval:  22%|██▏       | 28/125 [00:01<00:04, 23.68it/s]\u001b[A\n",
            "Eval:  25%|██▍       | 31/125 [00:01<00:04, 23.34it/s]\u001b[A\n",
            "Eval:  27%|██▋       | 34/125 [00:01<00:03, 23.63it/s]\u001b[A\n",
            "Eval:  30%|██▉       | 37/125 [00:01<00:03, 24.16it/s]\u001b[A\n",
            "Eval:  32%|███▏      | 40/125 [00:01<00:03, 23.89it/s]\u001b[A\n",
            "Eval:  34%|███▍      | 43/125 [00:01<00:03, 23.71it/s]\u001b[A\n",
            "Eval:  37%|███▋      | 46/125 [00:02<00:03, 23.70it/s]\u001b[A\n",
            "Eval:  39%|███▉      | 49/125 [00:02<00:03, 23.15it/s]\u001b[A\n",
            "Eval:  42%|████▏     | 52/125 [00:02<00:03, 23.35it/s]\u001b[A\n",
            "Eval:  44%|████▍     | 55/125 [00:02<00:02, 23.65it/s]\u001b[A\n",
            "Eval:  46%|████▋     | 58/125 [00:02<00:02, 23.55it/s]\u001b[A\n",
            "Eval:  49%|████▉     | 61/125 [00:02<00:02, 23.34it/s]\u001b[A\n",
            "Eval:  51%|█████     | 64/125 [00:02<00:02, 23.43it/s]\u001b[A\n",
            "Eval:  54%|█████▎    | 67/125 [00:02<00:02, 23.54it/s]\u001b[A\n",
            "Eval:  56%|█████▌    | 70/125 [00:03<00:02, 23.07it/s]\u001b[A\n",
            "Eval:  58%|█████▊    | 73/125 [00:03<00:02, 22.39it/s]\u001b[A\n",
            "Eval:  61%|██████    | 76/125 [00:03<00:02, 21.76it/s]\u001b[A\n",
            "Eval:  63%|██████▎   | 79/125 [00:03<00:02, 21.75it/s]\u001b[A\n",
            "Eval:  66%|██████▌   | 82/125 [00:03<00:01, 21.83it/s]\u001b[A\n",
            "Eval:  68%|██████▊   | 85/125 [00:03<00:01, 21.68it/s]\u001b[A\n",
            "Eval:  70%|███████   | 88/125 [00:03<00:01, 21.82it/s]\u001b[A\n",
            "Eval:  73%|███████▎  | 91/125 [00:04<00:01, 21.80it/s]\u001b[A\n",
            "Eval:  75%|███████▌  | 94/125 [00:04<00:01, 21.63it/s]\u001b[A\n",
            "Eval:  78%|███████▊  | 97/125 [00:04<00:01, 21.67it/s]\u001b[A\n",
            "Eval:  80%|████████  | 100/125 [00:04<00:01, 21.52it/s]\u001b[A\n",
            "Eval:  82%|████████▏ | 103/125 [00:04<00:01, 21.65it/s]\u001b[A\n",
            "Eval:  85%|████████▍ | 106/125 [00:04<00:00, 21.81it/s]\u001b[A\n",
            "Eval:  87%|████████▋ | 109/125 [00:04<00:00, 21.75it/s]\u001b[A\n",
            "Eval:  90%|████████▉ | 112/125 [00:05<00:00, 21.37it/s]\u001b[A\n",
            "Eval:  92%|█████████▏| 115/125 [00:05<00:00, 21.60it/s]\u001b[A\n",
            "Eval:  94%|█████████▍| 118/125 [00:05<00:00, 21.79it/s]\u001b[A\n",
            "Eval:  97%|█████████▋| 121/125 [00:05<00:00, 22.10it/s]\u001b[A\n",
            "Eval:  99%|█████████▉| 124/125 [00:05<00:00, 22.24it/s]\u001b[A\n",
            "Epoch 2: 100%|█████████▉| 13850/13852 [31:06<00:00,  7.28batch/s, loss=0.132]  \n",
            "Eval:   0%|          | 0/125 [00:00<?, ?it/s]\u001b[A\n",
            "Eval:   1%|          | 1/125 [00:00<00:16,  7.51it/s]\u001b[A\n",
            "Eval:   3%|▎         | 4/125 [00:00<00:07, 16.39it/s]\u001b[A\n",
            "Eval:   6%|▌         | 7/125 [00:00<00:06, 18.96it/s]\u001b[A\n",
            "Eval:   8%|▊         | 10/125 [00:00<00:05, 20.30it/s]\u001b[A\n",
            "Eval:  10%|█         | 13/125 [00:00<00:05, 21.01it/s]\u001b[A\n",
            "Eval:  13%|█▎        | 16/125 [00:00<00:05, 21.54it/s]\u001b[A\n",
            "Eval:  15%|█▌        | 19/125 [00:00<00:04, 21.76it/s]\u001b[A\n",
            "Eval:  18%|█▊        | 22/125 [00:01<00:04, 22.11it/s]\u001b[A\n",
            "Eval:  20%|██        | 25/125 [00:01<00:04, 22.29it/s]\u001b[A\n",
            "Eval:  22%|██▏       | 28/125 [00:01<00:04, 22.92it/s]\u001b[A\n",
            "Eval:  25%|██▍       | 31/125 [00:01<00:04, 22.51it/s]\u001b[A\n",
            "Eval:  27%|██▋       | 34/125 [00:01<00:03, 22.77it/s]\u001b[A\n",
            "Eval:  30%|██▉       | 37/125 [00:01<00:03, 23.34it/s]\u001b[A\n",
            "Eval:  32%|███▏      | 40/125 [00:01<00:03, 23.47it/s]\u001b[A\n",
            "Eval:  34%|███▍      | 43/125 [00:01<00:03, 23.06it/s]\u001b[A\n",
            "Eval:  37%|███▋      | 46/125 [00:02<00:03, 23.20it/s]\u001b[A\n",
            "Eval:  39%|███▉      | 49/125 [00:02<00:03, 22.84it/s]\u001b[A\n",
            "Eval:  42%|████▏     | 52/125 [00:02<00:03, 22.84it/s]\u001b[A\n",
            "Eval:  44%|████▍     | 55/125 [00:02<00:03, 23.02it/s]\u001b[A\n",
            "Eval:  46%|████▋     | 58/125 [00:02<00:02, 23.75it/s]\u001b[A\n",
            "Eval:  49%|████▉     | 61/125 [00:02<00:02, 23.52it/s]\u001b[A\n",
            "Eval:  51%|█████     | 64/125 [00:02<00:02, 23.61it/s]\u001b[A\n",
            "Eval:  54%|█████▎    | 67/125 [00:03<00:02, 23.55it/s]\u001b[A\n",
            "Eval:  56%|█████▌    | 70/125 [00:03<00:02, 23.20it/s]\u001b[A\n",
            "Eval:  58%|█████▊    | 73/125 [00:03<00:02, 22.63it/s]\u001b[A\n",
            "Eval:  61%|██████    | 76/125 [00:03<00:02, 21.87it/s]\u001b[A\n",
            "Eval:  63%|██████▎   | 79/125 [00:03<00:02, 21.79it/s]\u001b[A\n",
            "Eval:  66%|██████▌   | 82/125 [00:03<00:01, 21.93it/s]\u001b[A\n",
            "Eval:  68%|██████▊   | 85/125 [00:03<00:01, 21.56it/s]\u001b[A\n",
            "Eval:  70%|███████   | 88/125 [00:03<00:01, 21.74it/s]\u001b[A\n",
            "Eval:  73%|███████▎  | 91/125 [00:04<00:01, 21.68it/s]\u001b[A\n",
            "Eval:  75%|███████▌  | 94/125 [00:04<00:01, 21.62it/s]\u001b[A\n",
            "Eval:  78%|███████▊  | 97/125 [00:04<00:01, 21.94it/s]\u001b[A\n",
            "Eval:  80%|████████  | 100/125 [00:04<00:01, 21.72it/s]\u001b[A\n",
            "Eval:  82%|████████▏ | 103/125 [00:04<00:01, 21.86it/s]\u001b[A\n",
            "Eval:  85%|████████▍ | 106/125 [00:04<00:00, 22.16it/s]\u001b[A\n",
            "Eval:  87%|████████▋ | 109/125 [00:04<00:00, 21.91it/s]\u001b[A\n",
            "Eval:  90%|████████▉ | 112/125 [00:05<00:00, 21.41it/s]\u001b[A\n",
            "Eval:  92%|█████████▏| 115/125 [00:05<00:00, 21.55it/s]\u001b[A\n",
            "Eval:  94%|█████████▍| 118/125 [00:05<00:00, 21.81it/s]\u001b[A\n",
            "Eval:  97%|█████████▋| 121/125 [00:05<00:00, 21.97it/s]\u001b[A\n",
            "Eval:  99%|█████████▉| 124/125 [00:05<00:00, 21.65it/s]\u001b[A\n",
            "Epoch 2: 100%|██████████| 13852/13852 [31:12<00:00,  7.40batch/s, loss=0.112]\n",
            "Epoch 3:  20%|█▉        | 2770/13852 [06:09<24:02,  7.68batch/s, loss=0.000894]\n",
            "Eval:   0%|          | 0/125 [00:00<?, ?it/s]\u001b[A\n",
            "Eval:   1%|          | 1/125 [00:00<00:16,  7.31it/s]\u001b[A\n",
            "Eval:   3%|▎         | 4/125 [00:00<00:07, 16.45it/s]\u001b[A\n",
            "Eval:   6%|▌         | 7/125 [00:00<00:05, 19.87it/s]\u001b[A\n",
            "Eval:   8%|▊         | 10/125 [00:00<00:05, 21.10it/s]\u001b[A\n",
            "Eval:  10%|█         | 13/125 [00:00<00:05, 21.92it/s]\u001b[A\n",
            "Eval:  13%|█▎        | 16/125 [00:00<00:04, 22.12it/s]\u001b[A\n",
            "Eval:  15%|█▌        | 19/125 [00:00<00:04, 21.71it/s]\u001b[A\n",
            "Eval:  18%|█▊        | 22/125 [00:01<00:04, 21.79it/s]\u001b[A\n",
            "Eval:  20%|██        | 25/125 [00:01<00:04, 22.01it/s]\u001b[A\n",
            "Eval:  22%|██▏       | 28/125 [00:01<00:04, 23.04it/s]\u001b[A\n",
            "Eval:  25%|██▍       | 31/125 [00:01<00:04, 22.70it/s]\u001b[A\n",
            "Eval:  27%|██▋       | 34/125 [00:01<00:03, 23.14it/s]\u001b[A\n",
            "Eval:  30%|██▉       | 37/125 [00:01<00:03, 23.74it/s]\u001b[A\n",
            "Eval:  32%|███▏      | 40/125 [00:01<00:03, 23.60it/s]\u001b[A\n",
            "Eval:  34%|███▍      | 43/125 [00:01<00:03, 22.66it/s]\u001b[A\n",
            "Eval:  37%|███▋      | 46/125 [00:02<00:03, 22.83it/s]\u001b[A\n",
            "Eval:  39%|███▉      | 49/125 [00:02<00:03, 22.62it/s]\u001b[A\n",
            "Eval:  42%|████▏     | 52/125 [00:02<00:03, 22.56it/s]\u001b[A\n",
            "Eval:  44%|████▍     | 55/125 [00:02<00:03, 22.90it/s]\u001b[A\n",
            "Eval:  46%|████▋     | 58/125 [00:02<00:02, 23.50it/s]\u001b[A\n",
            "Eval:  49%|████▉     | 61/125 [00:02<00:02, 23.28it/s]\u001b[A\n",
            "Eval:  51%|█████     | 64/125 [00:02<00:02, 23.28it/s]\u001b[A\n",
            "Eval:  54%|█████▎    | 67/125 [00:03<00:02, 23.18it/s]\u001b[A\n",
            "Eval:  56%|█████▌    | 70/125 [00:03<00:02, 22.87it/s]\u001b[A\n",
            "Eval:  58%|█████▊    | 73/125 [00:03<00:02, 22.42it/s]\u001b[A\n",
            "Eval:  61%|██████    | 76/125 [00:03<00:02, 21.84it/s]\u001b[A\n",
            "Eval:  63%|██████▎   | 79/125 [00:03<00:02, 21.64it/s]\u001b[A\n",
            "Eval:  66%|██████▌   | 82/125 [00:03<00:01, 21.56it/s]\u001b[A\n",
            "Eval:  68%|██████▊   | 85/125 [00:03<00:01, 21.53it/s]\u001b[A\n",
            "Eval:  70%|███████   | 88/125 [00:03<00:01, 21.50it/s]\u001b[A\n",
            "Eval:  73%|███████▎  | 91/125 [00:04<00:01, 21.38it/s]\u001b[A\n",
            "Eval:  75%|███████▌  | 94/125 [00:04<00:01, 21.30it/s]\u001b[A\n",
            "Eval:  78%|███████▊  | 97/125 [00:04<00:01, 21.37it/s]\u001b[A\n",
            "Eval:  80%|████████  | 100/125 [00:04<00:01, 21.67it/s]\u001b[A\n",
            "Eval:  82%|████████▏ | 103/125 [00:04<00:01, 21.71it/s]\u001b[A\n",
            "Eval:  85%|████████▍ | 106/125 [00:04<00:00, 21.86it/s]\u001b[A\n",
            "Eval:  87%|████████▋ | 109/125 [00:04<00:00, 21.49it/s]\u001b[A\n",
            "Eval:  90%|████████▉ | 112/125 [00:05<00:00, 21.16it/s]\u001b[A\n",
            "Eval:  92%|█████████▏| 115/125 [00:05<00:00, 21.08it/s]\u001b[A\n",
            "Eval:  94%|█████████▍| 118/125 [00:05<00:00, 21.83it/s]\u001b[A\n",
            "Eval:  97%|█████████▋| 121/125 [00:05<00:00, 22.16it/s]\u001b[A\n",
            "Eval:  99%|█████████▉| 124/125 [00:05<00:00, 22.18it/s]\u001b[A\n",
            "Epoch 3:  40%|███▉      | 5540/13852 [12:24<17:50,  7.76batch/s, loss=0.000487]\n",
            "Eval:   0%|          | 0/125 [00:00<?, ?it/s]\u001b[A\n",
            "Eval:   1%|          | 1/125 [00:00<00:15,  7.80it/s]\u001b[A\n",
            "Eval:   2%|▏         | 3/125 [00:00<00:08, 14.05it/s]\u001b[A\n",
            "Eval:   5%|▍         | 6/125 [00:00<00:06, 19.00it/s]\u001b[A\n",
            "Eval:   7%|▋         | 9/125 [00:00<00:05, 20.99it/s]\u001b[A\n",
            "Eval:  10%|▉         | 12/125 [00:00<00:05, 21.40it/s]\u001b[A\n",
            "Eval:  12%|█▏        | 15/125 [00:00<00:04, 22.43it/s]\u001b[A\n",
            "Eval:  14%|█▍        | 18/125 [00:00<00:04, 22.67it/s]\u001b[A\n",
            "Eval:  17%|█▋        | 21/125 [00:00<00:04, 22.81it/s]\u001b[A\n",
            "Eval:  19%|█▉        | 24/125 [00:01<00:04, 22.81it/s]\u001b[A\n",
            "Eval:  22%|██▏       | 27/125 [00:01<00:04, 22.76it/s]\u001b[A\n",
            "Eval:  24%|██▍       | 30/125 [00:01<00:04, 23.12it/s]\u001b[A\n",
            "Eval:  26%|██▋       | 33/125 [00:01<00:04, 22.81it/s]\u001b[A\n",
            "Eval:  29%|██▉       | 36/125 [00:01<00:03, 24.07it/s]\u001b[A\n",
            "Eval:  31%|███       | 39/125 [00:01<00:03, 24.05it/s]\u001b[A\n",
            "Eval:  34%|███▎      | 42/125 [00:01<00:03, 23.60it/s]\u001b[A\n",
            "Eval:  36%|███▌      | 45/125 [00:02<00:03, 23.43it/s]\u001b[A\n",
            "Eval:  38%|███▊      | 48/125 [00:02<00:03, 23.10it/s]\u001b[A\n",
            "Eval:  41%|████      | 51/125 [00:02<00:03, 22.86it/s]\u001b[A\n",
            "Eval:  43%|████▎     | 54/125 [00:02<00:03, 23.16it/s]\u001b[A\n",
            "Eval:  46%|████▌     | 57/125 [00:02<00:02, 23.67it/s]\u001b[A\n",
            "Eval:  48%|████▊     | 60/125 [00:02<00:02, 23.77it/s]\u001b[A\n",
            "Eval:  50%|█████     | 63/125 [00:02<00:02, 23.46it/s]\u001b[A\n",
            "Eval:  53%|█████▎    | 66/125 [00:02<00:02, 23.35it/s]\u001b[A\n",
            "Eval:  55%|█████▌    | 69/125 [00:03<00:02, 23.10it/s]\u001b[A\n",
            "Eval:  58%|█████▊    | 72/125 [00:03<00:02, 22.61it/s]\u001b[A\n",
            "Eval:  60%|██████    | 75/125 [00:03<00:02, 22.23it/s]\u001b[A\n",
            "Eval:  62%|██████▏   | 78/125 [00:03<00:02, 21.59it/s]\u001b[A\n",
            "Eval:  65%|██████▍   | 81/125 [00:03<00:02, 21.73it/s]\u001b[A\n",
            "Eval:  67%|██████▋   | 84/125 [00:03<00:01, 21.77it/s]\u001b[A\n",
            "Eval:  70%|██████▉   | 87/125 [00:03<00:01, 21.83it/s]\u001b[A\n",
            "Eval:  72%|███████▏  | 90/125 [00:04<00:01, 21.96it/s]\u001b[A\n",
            "Eval:  74%|███████▍  | 93/125 [00:04<00:01, 21.61it/s]\u001b[A\n",
            "Eval:  77%|███████▋  | 96/125 [00:04<00:01, 21.71it/s]\u001b[A\n",
            "Eval:  79%|███████▉  | 99/125 [00:04<00:01, 21.83it/s]\u001b[A\n",
            "Eval:  82%|████████▏ | 102/125 [00:04<00:01, 21.85it/s]\u001b[A\n",
            "Eval:  84%|████████▍ | 105/125 [00:04<00:00, 22.18it/s]\u001b[A\n",
            "Eval:  86%|████████▋ | 108/125 [00:04<00:00, 22.05it/s]\u001b[A\n",
            "Eval:  89%|████████▉ | 111/125 [00:04<00:00, 21.57it/s]\u001b[A\n",
            "Eval:  91%|█████████ | 114/125 [00:05<00:00, 21.57it/s]\u001b[A\n",
            "Eval:  94%|█████████▎| 117/125 [00:05<00:00, 21.86it/s]\u001b[A\n",
            "Eval:  96%|█████████▌| 120/125 [00:05<00:00, 22.05it/s]\u001b[A\n",
            "Eval:  98%|█████████▊| 123/125 [00:05<00:00, 22.39it/s]\u001b[A\n",
            "Epoch 3:  60%|█████▉    | 8310/13852 [18:38<12:11,  7.57batch/s, loss=0.0314]\n",
            "Eval:   0%|          | 0/125 [00:00<?, ?it/s]\u001b[A\n",
            "Eval:   1%|          | 1/125 [00:00<00:17,  7.29it/s]\u001b[A\n",
            "Eval:   2%|▏         | 3/125 [00:00<00:08, 13.63it/s]\u001b[A\n",
            "Eval:   5%|▍         | 6/125 [00:00<00:06, 18.61it/s]\u001b[A\n",
            "Eval:   7%|▋         | 9/125 [00:00<00:05, 20.57it/s]\u001b[A\n",
            "Eval:  10%|▉         | 12/125 [00:00<00:05, 21.30it/s]\u001b[A\n",
            "Eval:  12%|█▏        | 15/125 [00:00<00:04, 22.29it/s]\u001b[A\n",
            "Eval:  14%|█▍        | 18/125 [00:00<00:04, 22.47it/s]\u001b[A\n",
            "Eval:  17%|█▋        | 21/125 [00:01<00:04, 22.74it/s]\u001b[A\n",
            "Eval:  19%|█▉        | 24/125 [00:01<00:04, 23.09it/s]\u001b[A\n",
            "Eval:  22%|██▏       | 27/125 [00:01<00:04, 23.25it/s]\u001b[A\n",
            "Eval:  24%|██▍       | 30/125 [00:01<00:04, 23.50it/s]\u001b[A\n",
            "Eval:  26%|██▋       | 33/125 [00:01<00:04, 22.90it/s]\u001b[A\n",
            "Eval:  29%|██▉       | 36/125 [00:01<00:03, 24.26it/s]\u001b[A\n",
            "Eval:  31%|███       | 39/125 [00:01<00:03, 24.21it/s]\u001b[A\n",
            "Eval:  34%|███▎      | 42/125 [00:01<00:03, 23.81it/s]\u001b[A\n",
            "Eval:  36%|███▌      | 45/125 [00:02<00:03, 23.72it/s]\u001b[A\n",
            "Eval:  38%|███▊      | 48/125 [00:02<00:03, 23.50it/s]\u001b[A\n",
            "Eval:  41%|████      | 51/125 [00:02<00:03, 23.16it/s]\u001b[A\n",
            "Eval:  43%|████▎     | 54/125 [00:02<00:03, 23.42it/s]\u001b[A\n",
            "Eval:  46%|████▌     | 57/125 [00:02<00:02, 23.97it/s]\u001b[A\n",
            "Eval:  48%|████▊     | 60/125 [00:02<00:02, 24.03it/s]\u001b[A\n",
            "Eval:  50%|█████     | 63/125 [00:02<00:02, 23.60it/s]\u001b[A\n",
            "Eval:  53%|█████▎    | 66/125 [00:02<00:02, 23.28it/s]\u001b[A\n",
            "Eval:  55%|█████▌    | 69/125 [00:03<00:02, 23.22it/s]\u001b[A\n",
            "Eval:  58%|█████▊    | 72/125 [00:03<00:02, 22.59it/s]\u001b[A\n",
            "Eval:  60%|██████    | 75/125 [00:03<00:02, 22.14it/s]\u001b[A\n",
            "Eval:  62%|██████▏   | 78/125 [00:03<00:02, 21.60it/s]\u001b[A\n",
            "Eval:  65%|██████▍   | 81/125 [00:03<00:02, 21.71it/s]\u001b[A\n",
            "Eval:  67%|██████▋   | 84/125 [00:03<00:01, 21.91it/s]\u001b[A\n",
            "Eval:  70%|██████▉   | 87/125 [00:03<00:01, 21.71it/s]\u001b[A\n",
            "Eval:  72%|███████▏  | 90/125 [00:04<00:01, 21.79it/s]\u001b[A\n",
            "Eval:  74%|███████▍  | 93/125 [00:04<00:01, 21.51it/s]\u001b[A\n",
            "Eval:  77%|███████▋  | 96/125 [00:04<00:01, 21.53it/s]\u001b[A\n",
            "Eval:  79%|███████▉  | 99/125 [00:04<00:01, 21.66it/s]\u001b[A\n",
            "Eval:  82%|████████▏ | 102/125 [00:04<00:01, 21.71it/s]\u001b[A\n",
            "Eval:  84%|████████▍ | 105/125 [00:04<00:00, 22.08it/s]\u001b[A\n",
            "Eval:  86%|████████▋ | 108/125 [00:04<00:00, 21.94it/s]\u001b[A\n",
            "Eval:  89%|████████▉ | 111/125 [00:04<00:00, 21.36it/s]\u001b[A\n",
            "Eval:  91%|█████████ | 114/125 [00:05<00:00, 21.54it/s]\u001b[A\n",
            "Eval:  94%|█████████▎| 117/125 [00:05<00:00, 21.67it/s]\u001b[A\n",
            "Eval:  96%|█████████▌| 120/125 [00:05<00:00, 21.81it/s]\u001b[A\n",
            "Eval:  98%|█████████▊| 123/125 [00:05<00:00, 21.98it/s]\u001b[A\n",
            "Epoch 3:  80%|███████▉  | 11080/13852 [24:56<06:20,  7.29batch/s, loss=0.00505]\n",
            "Eval:   0%|          | 0/125 [00:00<?, ?it/s]\u001b[A\n",
            "Eval:   1%|          | 1/125 [00:00<00:17,  7.18it/s]\u001b[A\n",
            "Eval:   3%|▎         | 4/125 [00:00<00:07, 15.98it/s]\u001b[A\n",
            "Eval:   6%|▌         | 7/125 [00:00<00:06, 19.38it/s]\u001b[A\n",
            "Eval:   8%|▊         | 10/125 [00:00<00:05, 20.98it/s]\u001b[A\n",
            "Eval:  10%|█         | 13/125 [00:00<00:05, 21.76it/s]\u001b[A\n",
            "Eval:  13%|█▎        | 16/125 [00:00<00:04, 21.82it/s]\u001b[A\n",
            "Eval:  15%|█▌        | 19/125 [00:00<00:04, 21.66it/s]\u001b[A\n",
            "Eval:  18%|█▊        | 22/125 [00:01<00:04, 21.87it/s]\u001b[A\n",
            "Eval:  20%|██        | 25/125 [00:01<00:04, 22.23it/s]\u001b[A\n",
            "Eval:  22%|██▏       | 28/125 [00:01<00:04, 23.11it/s]\u001b[A\n",
            "Eval:  25%|██▍       | 31/125 [00:01<00:04, 22.73it/s]\u001b[A\n",
            "Eval:  27%|██▋       | 34/125 [00:01<00:03, 23.04it/s]\u001b[A\n",
            "Eval:  30%|██▉       | 37/125 [00:01<00:03, 23.55it/s]\u001b[A\n",
            "Eval:  32%|███▏      | 40/125 [00:01<00:03, 23.62it/s]\u001b[A\n",
            "Eval:  34%|███▍      | 43/125 [00:01<00:03, 23.29it/s]\u001b[A\n",
            "Eval:  37%|███▋      | 46/125 [00:02<00:03, 23.15it/s]\u001b[A\n",
            "Eval:  39%|███▉      | 49/125 [00:02<00:03, 22.85it/s]\u001b[A\n",
            "Eval:  42%|████▏     | 52/125 [00:02<00:03, 22.72it/s]\u001b[A\n",
            "Eval:  44%|████▍     | 55/125 [00:02<00:03, 22.93it/s]\u001b[A\n",
            "Eval:  46%|████▋     | 58/125 [00:02<00:02, 23.49it/s]\u001b[A\n",
            "Eval:  49%|████▉     | 61/125 [00:02<00:02, 23.02it/s]\u001b[A\n",
            "Eval:  51%|█████     | 64/125 [00:02<00:02, 23.12it/s]\u001b[A\n",
            "Eval:  54%|█████▎    | 67/125 [00:03<00:02, 23.16it/s]\u001b[A\n",
            "Eval:  56%|█████▌    | 70/125 [00:03<00:02, 22.80it/s]\u001b[A\n",
            "Eval:  58%|█████▊    | 73/125 [00:03<00:02, 22.35it/s]\u001b[A\n",
            "Eval:  61%|██████    | 76/125 [00:03<00:02, 21.73it/s]\u001b[A\n",
            "Eval:  63%|██████▎   | 79/125 [00:03<00:02, 21.68it/s]\u001b[A\n",
            "Eval:  66%|██████▌   | 82/125 [00:03<00:01, 21.52it/s]\u001b[A\n",
            "Eval:  68%|██████▊   | 85/125 [00:03<00:01, 21.38it/s]\u001b[A\n",
            "Eval:  70%|███████   | 88/125 [00:03<00:01, 21.55it/s]\u001b[A\n",
            "Eval:  73%|███████▎  | 91/125 [00:04<00:01, 21.28it/s]\u001b[A\n",
            "Eval:  75%|███████▌  | 94/125 [00:04<00:01, 21.40it/s]\u001b[A\n",
            "Eval:  78%|███████▊  | 97/125 [00:04<00:01, 21.64it/s]\u001b[A\n",
            "Eval:  80%|████████  | 100/125 [00:04<00:01, 21.65it/s]\u001b[A\n",
            "Eval:  82%|████████▏ | 103/125 [00:04<00:01, 21.79it/s]\u001b[A\n",
            "Eval:  85%|████████▍ | 106/125 [00:04<00:00, 21.68it/s]\u001b[A\n",
            "Eval:  87%|████████▋ | 109/125 [00:04<00:00, 21.51it/s]\u001b[A\n",
            "Eval:  90%|████████▉ | 112/125 [00:05<00:00, 21.25it/s]\u001b[A\n",
            "Eval:  92%|█████████▏| 115/125 [00:05<00:00, 21.24it/s]\u001b[A\n",
            "Eval:  94%|█████████▍| 118/125 [00:05<00:00, 21.71it/s]\u001b[A\n",
            "Eval:  97%|█████████▋| 121/125 [00:05<00:00, 22.00it/s]\u001b[A\n",
            "Eval:  99%|█████████▉| 124/125 [00:05<00:00, 22.07it/s]\u001b[A\n",
            "Epoch 3: 100%|█████████▉| 13850/13852 [31:15<00:00,  7.38batch/s, loss=0.0006] \n",
            "Eval:   0%|          | 0/125 [00:00<?, ?it/s]\u001b[A\n",
            "Eval:   1%|          | 1/125 [00:00<00:16,  7.52it/s]\u001b[A\n",
            "Eval:   3%|▎         | 4/125 [00:00<00:07, 16.05it/s]\u001b[A\n",
            "Eval:   6%|▌         | 7/125 [00:00<00:06, 19.54it/s]\u001b[A\n",
            "Eval:   8%|▊         | 10/125 [00:00<00:05, 20.76it/s]\u001b[A\n",
            "Eval:  10%|█         | 13/125 [00:00<00:05, 21.69it/s]\u001b[A\n",
            "Eval:  13%|█▎        | 16/125 [00:00<00:04, 22.12it/s]\u001b[A\n",
            "Eval:  15%|█▌        | 19/125 [00:00<00:04, 22.30it/s]\u001b[A\n",
            "Eval:  18%|█▊        | 22/125 [00:01<00:04, 22.54it/s]\u001b[A\n",
            "Eval:  20%|██        | 25/125 [00:01<00:04, 22.93it/s]\u001b[A\n",
            "Eval:  22%|██▏       | 28/125 [00:01<00:04, 23.27it/s]\u001b[A\n",
            "Eval:  25%|██▍       | 31/125 [00:01<00:04, 22.76it/s]\u001b[A\n",
            "Eval:  27%|██▋       | 34/125 [00:01<00:03, 23.04it/s]\u001b[A\n",
            "Eval:  30%|██▉       | 37/125 [00:01<00:03, 23.36it/s]\u001b[A\n",
            "Eval:  32%|███▏      | 40/125 [00:01<00:03, 23.00it/s]\u001b[A\n",
            "Eval:  34%|███▍      | 43/125 [00:01<00:03, 22.75it/s]\u001b[A\n",
            "Eval:  37%|███▋      | 46/125 [00:02<00:03, 22.76it/s]\u001b[A\n",
            "Eval:  39%|███▉      | 49/125 [00:02<00:03, 22.50it/s]\u001b[A\n",
            "Eval:  42%|████▏     | 52/125 [00:02<00:03, 22.45it/s]\u001b[A\n",
            "Eval:  44%|████▍     | 55/125 [00:02<00:03, 22.97it/s]\u001b[A\n",
            "Eval:  46%|████▋     | 58/125 [00:02<00:02, 23.20it/s]\u001b[A\n",
            "Eval:  49%|████▉     | 61/125 [00:02<00:02, 22.91it/s]\u001b[A\n",
            "Eval:  51%|█████     | 64/125 [00:02<00:02, 22.92it/s]\u001b[A\n",
            "Eval:  54%|█████▎    | 67/125 [00:03<00:02, 23.11it/s]\u001b[A\n",
            "Eval:  56%|█████▌    | 70/125 [00:03<00:02, 22.81it/s]\u001b[A\n",
            "Eval:  58%|█████▊    | 73/125 [00:03<00:02, 22.22it/s]\u001b[A\n",
            "Eval:  61%|██████    | 76/125 [00:03<00:02, 21.84it/s]\u001b[A\n",
            "Eval:  63%|██████▎   | 79/125 [00:03<00:02, 21.36it/s]\u001b[A\n",
            "Eval:  66%|██████▌   | 82/125 [00:03<00:02, 21.46it/s]\u001b[A\n",
            "Eval:  68%|██████▊   | 85/125 [00:03<00:01, 21.26it/s]\u001b[A\n",
            "Eval:  70%|███████   | 88/125 [00:03<00:01, 21.32it/s]\u001b[A\n",
            "Eval:  73%|███████▎  | 91/125 [00:04<00:01, 21.30it/s]\u001b[A\n",
            "Eval:  75%|███████▌  | 94/125 [00:04<00:01, 21.22it/s]\u001b[A\n",
            "Eval:  78%|███████▊  | 97/125 [00:04<00:01, 21.55it/s]\u001b[A\n",
            "Eval:  80%|████████  | 100/125 [00:04<00:01, 21.67it/s]\u001b[A\n",
            "Eval:  82%|████████▏ | 103/125 [00:04<00:01, 21.52it/s]\u001b[A\n",
            "Eval:  85%|████████▍ | 106/125 [00:04<00:00, 21.52it/s]\u001b[A\n",
            "Eval:  87%|████████▋ | 109/125 [00:04<00:00, 21.40it/s]\u001b[A\n",
            "Eval:  90%|████████▉ | 112/125 [00:05<00:00, 21.06it/s]\u001b[A\n",
            "Eval:  92%|█████████▏| 115/125 [00:05<00:00, 21.29it/s]\u001b[A\n",
            "Eval:  94%|█████████▍| 118/125 [00:05<00:00, 21.29it/s]\u001b[A\n",
            "Eval:  97%|█████████▋| 121/125 [00:05<00:00, 21.53it/s]\u001b[A\n",
            "Eval:  99%|█████████▉| 124/125 [00:05<00:00, 21.77it/s]\u001b[A\n",
            "Epoch 3: 100%|██████████| 13852/13852 [31:21<00:00,  7.36batch/s, loss=0.000748]"
          ]
        },
        {
          "output_type": "stream",
          "name": "stdout",
          "text": [
            "Time: 7478.83292222023\n"
          ]
        },
        {
          "output_type": "stream",
          "name": "stderr",
          "text": [
            "\n"
          ]
        }
      ],
      "source": [
        "\n",
        "init_time=time()\n",
        "lowest_valid_loss = 9999.\n",
        "\n",
        "\n",
        "# 코드 추가\n",
        "train_acc = []\n",
        "train_loss = []\n",
        "valid_acc = []\n",
        "valid_loss = []\n",
        "\n",
        "\n",
        "curr_train_loss = [] \n",
        "curr_train_acc = [] \n",
        "########\n",
        "\n",
        "report_to =\"wandb\" \n",
        "\n",
        "\n",
        "\n",
        "for epoch in range(train_epoch):\n",
        "    with tqdm(train_loader, unit=\"batch\") as tepoch:\n",
        "        for iteration, (input_ids, attention_mask, token_type_ids, position_ids, labels) in enumerate(tepoch):\n",
        "            tepoch.set_description(f\"Epoch {epoch}\")\n",
        "            input_ids = input_ids.to(device)\n",
        "            attention_mask = attention_mask.to(device)\n",
        "            token_type_ids = token_type_ids.to(device)\n",
        "            position_ids = position_ids.to(device)\n",
        "            labels = labels.to(device, dtype=torch.long)\n",
        "\n",
        "            optimizer.zero_grad()\n",
        "            \n",
        "            output = model(input_ids=input_ids,\n",
        "                           attention_mask=attention_mask,\n",
        "                           token_type_ids=token_type_ids,\n",
        "                           position_ids=position_ids, \n",
        "                           labels=labels)\n",
        "            loss = output.loss\n",
        "\n",
        "            # 추가\n",
        "            logits = output.logits\n",
        "            batch_predictions = [0 if example[0] > example[1] else 1 for example in logits]\n",
        "            batch_labels = [int(example) for example in labels]\n",
        "            \n",
        "            acc = compute_acc(batch_predictions, batch_labels)\n",
        "            \n",
        "            ##########\n",
        "\n",
        "\n",
        "\n",
        "            loss.backward()\n",
        "\n",
        "            optimizer.step()\n",
        "\n",
        "\n",
        "            ###### 추가 ####\n",
        "            curr_train_loss.append(loss.item())\n",
        "            curr_train_acc.append(acc)\n",
        "\n",
        "            ##############\n",
        "\n",
        "\n",
        "            tepoch.set_postfix(loss=loss.item())\n",
        "            if iteration != 0 and iteration % int(len(train_loader) / 5) == 0:\n",
        "                # Evaluate the model five times per epoch\n",
        "                with torch.no_grad():\n",
        "                    model.eval()\n",
        "                    curr_valid_loss = []   # valid_losses 수정 \n",
        "\n",
        "                    # 추가\n",
        "                    curr_valid_acc = []  \n",
        "                    #####  \n",
        "\n",
        "                    # predictions = []\n",
        "                    # target_labels = []\n",
        "                    for input_ids, attention_mask, token_type_ids, position_ids, labels in tqdm(dev_loader,\n",
        "                                                                                                desc='Eval',\n",
        "                                                                                                position=1,\n",
        "                                                                                                leave=None):\n",
        "                        input_ids = input_ids.to(device)\n",
        "                        attention_mask = attention_mask.to(device)\n",
        "                        token_type_ids = token_type_ids.to(device)\n",
        "                        position_ids = position_ids.to(device)\n",
        "                        labels = labels.to(device, dtype=torch.long)\n",
        "\n",
        "                        output = model(input_ids=input_ids,\n",
        "                                       attention_mask=attention_mask,\n",
        "                                       token_type_ids=token_type_ids,\n",
        "                                       position_ids=position_ids,\n",
        "                                       labels=labels)\n",
        "\n",
        "                        logits = output.logits\n",
        "                        loss = output.loss\n",
        "                        # valid_losses.append(loss.item())\n",
        "\n",
        "                        batch_predictions = [0 if example[0] > example[1] else 1 for example in logits]\n",
        "                        batch_labels = [int(example) for example in labels]\n",
        "\n",
        "\n",
        "                        curr_valid_loss.append(loss.item())\n",
        "                        curr_valid_acc.append(compute_acc(batch_predictions, batch_labels))\n",
        "\n",
        "                \n",
        "                # 코드추가\n",
        "\n",
        "                # loss /acc 계산\n",
        "                mean_train_acc = sum(curr_train_acc) / len(curr_train_acc)\n",
        "                mean_train_loss = sum(curr_train_loss) / len(curr_train_loss)\n",
        "                mean_valid_acc = sum(curr_valid_acc) / len(curr_valid_acc)\n",
        "                mean_valid_loss = sum(curr_valid_loss) / len(curr_valid_loss)\n",
        "\n",
        "                train_acc.append(mean_train_acc)\n",
        "                train_loss.append(mean_train_loss)\n",
        "                valid_acc.append(mean_valid_acc)\n",
        "                valid_loss.append(mean_valid_loss)\n",
        "                \n",
        "                curr_train_acc = [] \n",
        "                curr_train_loss = [] \n",
        "\n",
        "                # wandb log 수집 \n",
        "\n",
        "                wandb.log({ \n",
        "                        \"Train Loss\": mean_train_loss,\n",
        "                        \"Train Accuracy\": mean_train_acc,\n",
        "                        \"Valid Loss\" : mean_valid_loss, \n",
        "                        \"Valid Accuracy\" : mean_valid_acc\n",
        "\n",
        "                        })\n",
        "\n",
        "\n",
        "                ###############\n",
        "\n",
        "                if lowest_valid_loss > mean_valid_loss:\n",
        "                    lowest_valid_loss = mean_valid_loss\n",
        "                    print('Acc for model which have lower valid loss: ', mean_valid_acc)\n",
        "                    torch.save(model.state_dict(), \"./pytorch_model.bin\")\n",
        "\n",
        "\n",
        "\n",
        "fin_time=time()\n",
        "print('Time:',fin_time-init_time)"
      ]
    },
    {
      "cell_type": "markdown",
      "source": [
        "# 3. Test"
      ],
      "metadata": {
        "id": "WSkh7capT7bm"
      }
    },
    {
      "cell_type": "code",
      "execution_count": 26,
      "metadata": {
        "id": "P95gtlnurvgX"
      },
      "outputs": [],
      "source": [
        "import pandas as pd\n",
        "test_df = pd.read_csv('test_no_label.csv')"
      ]
    },
    {
      "cell_type": "code",
      "execution_count": 27,
      "metadata": {
        "id": "cLDzC10ErvgX"
      },
      "outputs": [],
      "source": [
        "test_dataset = test_df['Id']"
      ]
    },
    {
      "cell_type": "code",
      "execution_count": 28,
      "metadata": {
        "id": "jnt693N0rvgX"
      },
      "outputs": [],
      "source": [
        "def make_id_file_test(tokenizer, test_dataset, cased):\n",
        "    data_strings = []\n",
        "    id_file_data = [tokenizer.encode(sent if cased else sent.lower()) for sent in test_dataset]\n",
        "    for item in id_file_data:\n",
        "        data_strings.append(' '.join([str(k) for k in item]))\n",
        "    return data_strings"
      ]
    },
    {
      "cell_type": "code",
      "execution_count": 29,
      "metadata": {
        "id": "7C5PpXtlrvgY"
      },
      "outputs": [],
      "source": [
        "test = make_id_file_test(tokenizer, test_dataset, cased)"
      ]
    },
    {
      "cell_type": "code",
      "execution_count": 30,
      "metadata": {
        "id": "cZi14gnnrvgY"
      },
      "outputs": [],
      "source": [
        "class SentimentTestDataset(object):\n",
        "    def __init__(self, tokenizer, test):\n",
        "        self.tokenizer = tokenizer\n",
        "        self.data = []\n",
        "\n",
        "        for sent in test:\n",
        "            self.data += [self._cast_to_int(sent.strip().split())]\n",
        "\n",
        "    def _cast_to_int(self, sample):\n",
        "        return [int(word_id) for word_id in sample]\n",
        "\n",
        "    def __len__(self):\n",
        "        return len(self.data)\n",
        "\n",
        "    def __getitem__(self, index):\n",
        "        sample = self.data[index]\n",
        "        return np.array(sample)"
      ]
    },
    {
      "cell_type": "code",
      "execution_count": 31,
      "metadata": {
        "id": "erHjGE9rrvgY"
      },
      "outputs": [],
      "source": [
        "test_dataset = SentimentTestDataset(tokenizer, test)"
      ]
    },
    {
      "cell_type": "code",
      "execution_count": 32,
      "metadata": {
        "id": "y03-nDX9rvgZ"
      },
      "outputs": [],
      "source": [
        "def collate_fn_style_test(samples):\n",
        "    input_ids = samples\n",
        "    max_len = max(len(input_id) for input_id in input_ids)\n",
        "    attention_mask = torch.tensor(\n",
        "        [[1] * len(input_id) + [0] * (max_len - len(input_id)) for input_id in\n",
        "         input_ids])\n",
        "    input_ids = pad_sequence([torch.tensor(input_id) for input_id in input_ids],\n",
        "                             batch_first=True)\n",
        "    \n",
        "    \n",
        "    token_type_ids = torch.tensor([[0] * len(input_id) for input_id in input_ids])\n",
        "    position_ids = torch.tensor([list(range(len(input_id))) for input_id in input_ids])\n",
        "\n",
        "    return input_ids, attention_mask, token_type_ids, position_ids"
      ]
    },
    {
      "cell_type": "code",
      "execution_count": 33,
      "metadata": {
        "id": "gZ0l1HparvgZ"
      },
      "outputs": [],
      "source": [
        "test_loader = torch.utils.data.DataLoader(test_dataset, batch_size=test_batch_size,\n",
        "                                          shuffle=False, collate_fn=collate_fn_style_test,\n",
        "                                          num_workers=2)"
      ]
    },
    {
      "cell_type": "code",
      "execution_count": 34,
      "metadata": {
        "id": "XoSHTbJUrvgZ",
        "colab": {
          "base_uri": "https://localhost:8080/"
        },
        "outputId": "a5c77339-dfce-4dca-889c-7847ed3f6912"
      },
      "outputs": [
        {
          "output_type": "stream",
          "name": "stderr",
          "text": [
            "\n",
            "Test:   0%|          | 0/32 [00:00<?, ?it/s]\u001b[A\n",
            "Test:   3%|▎         | 1/32 [00:00<00:04,  7.43it/s]\u001b[A\n",
            "Test:  12%|█▎        | 4/32 [00:00<00:01, 15.43it/s]\u001b[A\n",
            "Test:  22%|██▏       | 7/32 [00:00<00:01, 18.38it/s]\u001b[A\n",
            "Test:  31%|███▏      | 10/32 [00:00<00:01, 19.63it/s]\u001b[A\n",
            "Test:  41%|████      | 13/32 [00:00<00:00, 20.91it/s]\u001b[A\n",
            "Test:  50%|█████     | 16/32 [00:00<00:00, 21.88it/s]\u001b[A\n",
            "Test:  59%|█████▉    | 19/32 [00:00<00:00, 22.24it/s]\u001b[A\n",
            "Test:  69%|██████▉   | 22/32 [00:01<00:00, 22.46it/s]\u001b[A\n",
            "Test:  78%|███████▊  | 25/32 [00:01<00:00, 22.89it/s]\u001b[A\n",
            "Test:  88%|████████▊ | 28/32 [00:01<00:00, 22.73it/s]\u001b[A\n",
            "Test:  97%|█████████▋| 31/32 [00:01<00:00, 22.80it/s]\u001b[A\n",
            "                                                     \u001b[A"
          ]
        }
      ],
      "source": [
        "with torch.no_grad():\n",
        "    model.eval()\n",
        "    predictions = []\n",
        "    for input_ids, attention_mask, token_type_ids, position_ids in tqdm(test_loader,\n",
        "                                                                        desc='Test',\n",
        "                                                                        position=1,\n",
        "                                                                        leave=None):\n",
        "\n",
        "        input_ids = input_ids.to(device)\n",
        "        attention_mask = attention_mask.to(device)\n",
        "        token_type_ids = token_type_ids.to(device)\n",
        "        position_ids = position_ids.to(device)\n",
        "\n",
        "        output = model(input_ids=input_ids,\n",
        "                       attention_mask=attention_mask,\n",
        "                       token_type_ids=token_type_ids,\n",
        "                       position_ids=position_ids)\n",
        "\n",
        "        logits = output.logits\n",
        "        batch_predictions = [0 if example[0] > example[1] else 1 for example in logits]\n",
        "        predictions += batch_predictions"
      ]
    },
    {
      "cell_type": "code",
      "execution_count": 35,
      "metadata": {
        "id": "tGO3aS-VrvgZ"
      },
      "outputs": [],
      "source": [
        "test_df['Category'] = predictions"
      ]
    },
    {
      "cell_type": "code",
      "execution_count": 36,
      "metadata": {
        "id": "VndXxal3rvgZ"
      },
      "outputs": [],
      "source": [
        "test_df.to_csv('submission_xlnet.csv', index=False)"
      ]
    },
    {
      "cell_type": "code",
      "source": [
        "test_df['Category'].value_counts()"
      ],
      "metadata": {
        "colab": {
          "base_uri": "https://localhost:8080/"
        },
        "id": "Ai001xoCayIg",
        "outputId": "e5f3d2d6-056b-4ce9-cc06-eb92aa82da8f"
      },
      "execution_count": 37,
      "outputs": [
        {
          "output_type": "execute_result",
          "data": {
            "text/plain": [
              "1    502\n",
              "0    498\n",
              "Name: Category, dtype: int64"
            ]
          },
          "metadata": {},
          "execution_count": 37
        }
      ]
    }
  ],
  "metadata": {
    "accelerator": "GPU",
    "colab": {
      "background_execution": "on",
      "collapsed_sections": [],
      "name": "bert_base_uncased(baseline_code)_최종.ipynb",
      "provenance": [],
      "include_colab_link": true
    },
    "gpuClass": "standard",
    "kernelspec": {
      "display_name": "Python 3",
      "language": "python",
      "name": "python3"
    },
    "language_info": {
      "codemirror_mode": {
        "name": "ipython",
        "version": 3
      },
      "file_extension": ".py",
      "mimetype": "text/x-python",
      "name": "python",
      "nbconvert_exporter": "python",
      "pygments_lexer": "ipython3",
      "version": "3.6.4"
    },
    "widgets": {
      "application/vnd.jupyter.widget-state+json": {
        "4c680bc9abcc46a293208cd44fd8621d": {
          "model_module": "@jupyter-widgets/controls",
          "model_name": "HBoxModel",
          "model_module_version": "1.5.0",
          "state": {
            "_dom_classes": [],
            "_model_module": "@jupyter-widgets/controls",
            "_model_module_version": "1.5.0",
            "_model_name": "HBoxModel",
            "_view_count": null,
            "_view_module": "@jupyter-widgets/controls",
            "_view_module_version": "1.5.0",
            "_view_name": "HBoxView",
            "box_style": "",
            "children": [
              "IPY_MODEL_768b6996cf894b1f904b628fe3e497a6",
              "IPY_MODEL_dd761aa27d4548d2aba9d5dcfded03a0",
              "IPY_MODEL_550f81f6b323482e921faf22c341aa70"
            ],
            "layout": "IPY_MODEL_abe1e9956d5a4642ae5b5d5641d11bcc"
          }
        },
        "768b6996cf894b1f904b628fe3e497a6": {
          "model_module": "@jupyter-widgets/controls",
          "model_name": "HTMLModel",
          "model_module_version": "1.5.0",
          "state": {
            "_dom_classes": [],
            "_model_module": "@jupyter-widgets/controls",
            "_model_module_version": "1.5.0",
            "_model_name": "HTMLModel",
            "_view_count": null,
            "_view_module": "@jupyter-widgets/controls",
            "_view_module_version": "1.5.0",
            "_view_name": "HTMLView",
            "description": "",
            "description_tooltip": null,
            "layout": "IPY_MODEL_a132c0c9879c4e54aa646ce0f2f14eec",
            "placeholder": "​",
            "style": "IPY_MODEL_3118c8602220404f99079b8315ec46e1",
            "value": "Downloading: 100%"
          }
        },
        "dd761aa27d4548d2aba9d5dcfded03a0": {
          "model_module": "@jupyter-widgets/controls",
          "model_name": "FloatProgressModel",
          "model_module_version": "1.5.0",
          "state": {
            "_dom_classes": [],
            "_model_module": "@jupyter-widgets/controls",
            "_model_module_version": "1.5.0",
            "_model_name": "FloatProgressModel",
            "_view_count": null,
            "_view_module": "@jupyter-widgets/controls",
            "_view_module_version": "1.5.0",
            "_view_name": "ProgressView",
            "bar_style": "success",
            "description": "",
            "description_tooltip": null,
            "layout": "IPY_MODEL_73fba42b96b04effb0c0dddc535903dc",
            "max": 467042463,
            "min": 0,
            "orientation": "horizontal",
            "style": "IPY_MODEL_b80bd1cd10a84580a0536352c36ba140",
            "value": 467042463
          }
        },
        "550f81f6b323482e921faf22c341aa70": {
          "model_module": "@jupyter-widgets/controls",
          "model_name": "HTMLModel",
          "model_module_version": "1.5.0",
          "state": {
            "_dom_classes": [],
            "_model_module": "@jupyter-widgets/controls",
            "_model_module_version": "1.5.0",
            "_model_name": "HTMLModel",
            "_view_count": null,
            "_view_module": "@jupyter-widgets/controls",
            "_view_module_version": "1.5.0",
            "_view_name": "HTMLView",
            "description": "",
            "description_tooltip": null,
            "layout": "IPY_MODEL_0a86975623cd49578b80dea2e74e5428",
            "placeholder": "​",
            "style": "IPY_MODEL_8b98351659c44ef1b81e7ba6b1ba16f1",
            "value": " 445M/445M [00:08&lt;00:00, 60.9MB/s]"
          }
        },
        "abe1e9956d5a4642ae5b5d5641d11bcc": {
          "model_module": "@jupyter-widgets/base",
          "model_name": "LayoutModel",
          "model_module_version": "1.2.0",
          "state": {
            "_model_module": "@jupyter-widgets/base",
            "_model_module_version": "1.2.0",
            "_model_name": "LayoutModel",
            "_view_count": null,
            "_view_module": "@jupyter-widgets/base",
            "_view_module_version": "1.2.0",
            "_view_name": "LayoutView",
            "align_content": null,
            "align_items": null,
            "align_self": null,
            "border": null,
            "bottom": null,
            "display": null,
            "flex": null,
            "flex_flow": null,
            "grid_area": null,
            "grid_auto_columns": null,
            "grid_auto_flow": null,
            "grid_auto_rows": null,
            "grid_column": null,
            "grid_gap": null,
            "grid_row": null,
            "grid_template_areas": null,
            "grid_template_columns": null,
            "grid_template_rows": null,
            "height": null,
            "justify_content": null,
            "justify_items": null,
            "left": null,
            "margin": null,
            "max_height": null,
            "max_width": null,
            "min_height": null,
            "min_width": null,
            "object_fit": null,
            "object_position": null,
            "order": null,
            "overflow": null,
            "overflow_x": null,
            "overflow_y": null,
            "padding": null,
            "right": null,
            "top": null,
            "visibility": null,
            "width": null
          }
        },
        "a132c0c9879c4e54aa646ce0f2f14eec": {
          "model_module": "@jupyter-widgets/base",
          "model_name": "LayoutModel",
          "model_module_version": "1.2.0",
          "state": {
            "_model_module": "@jupyter-widgets/base",
            "_model_module_version": "1.2.0",
            "_model_name": "LayoutModel",
            "_view_count": null,
            "_view_module": "@jupyter-widgets/base",
            "_view_module_version": "1.2.0",
            "_view_name": "LayoutView",
            "align_content": null,
            "align_items": null,
            "align_self": null,
            "border": null,
            "bottom": null,
            "display": null,
            "flex": null,
            "flex_flow": null,
            "grid_area": null,
            "grid_auto_columns": null,
            "grid_auto_flow": null,
            "grid_auto_rows": null,
            "grid_column": null,
            "grid_gap": null,
            "grid_row": null,
            "grid_template_areas": null,
            "grid_template_columns": null,
            "grid_template_rows": null,
            "height": null,
            "justify_content": null,
            "justify_items": null,
            "left": null,
            "margin": null,
            "max_height": null,
            "max_width": null,
            "min_height": null,
            "min_width": null,
            "object_fit": null,
            "object_position": null,
            "order": null,
            "overflow": null,
            "overflow_x": null,
            "overflow_y": null,
            "padding": null,
            "right": null,
            "top": null,
            "visibility": null,
            "width": null
          }
        },
        "3118c8602220404f99079b8315ec46e1": {
          "model_module": "@jupyter-widgets/controls",
          "model_name": "DescriptionStyleModel",
          "model_module_version": "1.5.0",
          "state": {
            "_model_module": "@jupyter-widgets/controls",
            "_model_module_version": "1.5.0",
            "_model_name": "DescriptionStyleModel",
            "_view_count": null,
            "_view_module": "@jupyter-widgets/base",
            "_view_module_version": "1.2.0",
            "_view_name": "StyleView",
            "description_width": ""
          }
        },
        "73fba42b96b04effb0c0dddc535903dc": {
          "model_module": "@jupyter-widgets/base",
          "model_name": "LayoutModel",
          "model_module_version": "1.2.0",
          "state": {
            "_model_module": "@jupyter-widgets/base",
            "_model_module_version": "1.2.0",
            "_model_name": "LayoutModel",
            "_view_count": null,
            "_view_module": "@jupyter-widgets/base",
            "_view_module_version": "1.2.0",
            "_view_name": "LayoutView",
            "align_content": null,
            "align_items": null,
            "align_self": null,
            "border": null,
            "bottom": null,
            "display": null,
            "flex": null,
            "flex_flow": null,
            "grid_area": null,
            "grid_auto_columns": null,
            "grid_auto_flow": null,
            "grid_auto_rows": null,
            "grid_column": null,
            "grid_gap": null,
            "grid_row": null,
            "grid_template_areas": null,
            "grid_template_columns": null,
            "grid_template_rows": null,
            "height": null,
            "justify_content": null,
            "justify_items": null,
            "left": null,
            "margin": null,
            "max_height": null,
            "max_width": null,
            "min_height": null,
            "min_width": null,
            "object_fit": null,
            "object_position": null,
            "order": null,
            "overflow": null,
            "overflow_x": null,
            "overflow_y": null,
            "padding": null,
            "right": null,
            "top": null,
            "visibility": null,
            "width": null
          }
        },
        "b80bd1cd10a84580a0536352c36ba140": {
          "model_module": "@jupyter-widgets/controls",
          "model_name": "ProgressStyleModel",
          "model_module_version": "1.5.0",
          "state": {
            "_model_module": "@jupyter-widgets/controls",
            "_model_module_version": "1.5.0",
            "_model_name": "ProgressStyleModel",
            "_view_count": null,
            "_view_module": "@jupyter-widgets/base",
            "_view_module_version": "1.2.0",
            "_view_name": "StyleView",
            "bar_color": null,
            "description_width": ""
          }
        },
        "0a86975623cd49578b80dea2e74e5428": {
          "model_module": "@jupyter-widgets/base",
          "model_name": "LayoutModel",
          "model_module_version": "1.2.0",
          "state": {
            "_model_module": "@jupyter-widgets/base",
            "_model_module_version": "1.2.0",
            "_model_name": "LayoutModel",
            "_view_count": null,
            "_view_module": "@jupyter-widgets/base",
            "_view_module_version": "1.2.0",
            "_view_name": "LayoutView",
            "align_content": null,
            "align_items": null,
            "align_self": null,
            "border": null,
            "bottom": null,
            "display": null,
            "flex": null,
            "flex_flow": null,
            "grid_area": null,
            "grid_auto_columns": null,
            "grid_auto_flow": null,
            "grid_auto_rows": null,
            "grid_column": null,
            "grid_gap": null,
            "grid_row": null,
            "grid_template_areas": null,
            "grid_template_columns": null,
            "grid_template_rows": null,
            "height": null,
            "justify_content": null,
            "justify_items": null,
            "left": null,
            "margin": null,
            "max_height": null,
            "max_width": null,
            "min_height": null,
            "min_width": null,
            "object_fit": null,
            "object_position": null,
            "order": null,
            "overflow": null,
            "overflow_x": null,
            "overflow_y": null,
            "padding": null,
            "right": null,
            "top": null,
            "visibility": null,
            "width": null
          }
        },
        "8b98351659c44ef1b81e7ba6b1ba16f1": {
          "model_module": "@jupyter-widgets/controls",
          "model_name": "DescriptionStyleModel",
          "model_module_version": "1.5.0",
          "state": {
            "_model_module": "@jupyter-widgets/controls",
            "_model_module_version": "1.5.0",
            "_model_name": "DescriptionStyleModel",
            "_view_count": null,
            "_view_module": "@jupyter-widgets/base",
            "_view_module_version": "1.2.0",
            "_view_name": "StyleView",
            "description_width": ""
          }
        }
      }
    }
  },
  "nbformat": 4,
  "nbformat_minor": 0
}