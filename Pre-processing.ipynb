{
  "nbformat": 4,
  "nbformat_minor": 0,
  "metadata": {
    "colab": {
      "name": "Pre-tokenization.ipynb",
      "provenance": [],
      "collapsed_sections": [],
      "machine_shape": "hm",
      "authorship_tag": "ABX9TyMNJTfqbwzwd/euNZ7VUd4m",
      "include_colab_link": true
    },
    "kernelspec": {
      "name": "python3",
      "display_name": "Python 3"
    },
    "language_info": {
      "name": "python"
    },
    "accelerator": "GPU",
    "gpuClass": "standard"
  },
  "cells": [
    {
      "cell_type": "markdown",
      "metadata": {
        "id": "view-in-github",
        "colab_type": "text"
      },
      "source": [
        "<a href=\"https://colab.research.google.com/github/seonmia/NLP/blob/main/Pre-processing.ipynb\" target=\"_parent\"><img src=\"https://colab.research.google.com/assets/colab-badge.svg\" alt=\"Open In Colab\"/></a>"
      ]
    },
    {
      "cell_type": "markdown",
      "source": [
        "# Pre - tokenization \n",
        "\n",
        "> Reference: https://wikidocs.net/21703"
      ],
      "metadata": {
        "id": "FsBmdvWUA1oF"
      }
    },
    {
      "cell_type": "code",
      "source": [
        "import re "
      ],
      "metadata": {
        "id": "TYDgdeEjBC6j"
      },
      "execution_count": 1,
      "outputs": []
    },
    {
      "cell_type": "markdown",
      "source": [
        ". 기호 "
      ],
      "metadata": {
        "id": "HB0gjLllEYs3"
      }
    },
    {
      "cell_type": "code",
      "source": [
        "# 임의의 한 개의 문자를 나타내는 '.'  compile 로 pattern 을 정해둔다\n",
        "\n",
        "r = re.compile(\"a.c\")\n",
        "\n",
        "\n",
        "# search 함수로 문자열 일치하는지 확인 \n",
        "r.search(\"ab\")   # no match "
      ],
      "metadata": {
        "id": "FcQuypa-BOyT"
      },
      "execution_count": 5,
      "outputs": []
    },
    {
      "cell_type": "code",
      "source": [
        "r.search(\"abc\")  # match"
      ],
      "metadata": {
        "colab": {
          "base_uri": "https://localhost:8080/"
        },
        "id": "XbUXmoeKBaBk",
        "outputId": "88aba6ba-6f22-4d6a-91e4-8ab326171a8e"
      },
      "execution_count": 4,
      "outputs": [
        {
          "output_type": "execute_result",
          "data": {
            "text/plain": [
              "<re.Match object; span=(0, 3), match='abc'>"
            ]
          },
          "metadata": {},
          "execution_count": 4
        }
      ]
    },
    {
      "cell_type": "markdown",
      "source": [
        "? 기호"
      ],
      "metadata": {
        "id": "ifFhL616EXLU"
      }
    },
    {
      "cell_type": "code",
      "source": [
        "# ? 앞의 문자가 존재할 수도 있고 , 존재하지 않을 수도 있는 경우\n",
        "\n",
        "\n",
        "r = re.compile(\"a?c\")\n",
        "\n",
        "r.search(\"bc\")\n",
        "\n"
      ],
      "metadata": {
        "colab": {
          "base_uri": "https://localhost:8080/"
        },
        "id": "ktaGvWhVClDN",
        "outputId": "cde5c916-051f-4aff-92fc-a79612d23fd3"
      },
      "execution_count": 7,
      "outputs": [
        {
          "output_type": "execute_result",
          "data": {
            "text/plain": [
              "<re.Match object; span=(1, 2), match='c'>"
            ]
          },
          "metadata": {},
          "execution_count": 7
        }
      ]
    },
    {
      "cell_type": "code",
      "source": [
        "# 앞의 문자가 존재할 경우 match = 'ac'\n",
        "\n",
        "r.search('ac')"
      ],
      "metadata": {
        "colab": {
          "base_uri": "https://localhost:8080/"
        },
        "id": "LaUTvTU2Cygd",
        "outputId": "48bb2dc1-a5b8-4994-cd65-e0db775bc20a"
      },
      "execution_count": 8,
      "outputs": [
        {
          "output_type": "execute_result",
          "data": {
            "text/plain": [
              "<re.Match object; span=(0, 2), match='ac'>"
            ]
          },
          "metadata": {},
          "execution_count": 8
        }
      ]
    },
    {
      "cell_type": "code",
      "source": [
        "# 앞의 문자가 존재하지 않을 경우 match = 'c'\n",
        "# 앞의 문자가 여러개일 경우 span 이 달라진다 \n",
        "\n",
        "\n",
        "r.search('abc')"
      ],
      "metadata": {
        "colab": {
          "base_uri": "https://localhost:8080/"
        },
        "id": "PeHxMy_WC-AX",
        "outputId": "c232bba5-54ad-47b4-afa7-fe44496be2c8"
      },
      "execution_count": 15,
      "outputs": [
        {
          "output_type": "execute_result",
          "data": {
            "text/plain": [
              "<re.Match object; span=(2, 3), match='c'>"
            ]
          },
          "metadata": {},
          "execution_count": 15
        }
      ]
    },
    {
      "cell_type": "code",
      "source": [
        "# 뒤에 문자 'c' 가 없을 경우 no match\n",
        "\n",
        "r.search('ab')"
      ],
      "metadata": {
        "id": "LK2W6YiaDDf3"
      },
      "execution_count": 11,
      "outputs": []
    },
    {
      "cell_type": "markdown",
      "source": [
        "\\* 기호"
      ],
      "metadata": {
        "id": "bBS13McXESQM"
      }
    },
    {
      "cell_type": "code",
      "source": [
        "# * 은 바로 앞 문자가 0개 이상일 경우 \n",
        "\n",
        "r = re.compile('ab*c')\n",
        "\n",
        "r.search('a')"
      ],
      "metadata": {
        "id": "hyOz9zHZEOPA"
      },
      "execution_count": 20,
      "outputs": []
    },
    {
      "cell_type": "code",
      "source": [
        "# a 와 c 는 필수값이며  없을경우 no match \n",
        "\n",
        "r.search('c')"
      ],
      "metadata": {
        "id": "oHYLQ1s7E0uM"
      },
      "execution_count": 26,
      "outputs": []
    },
    {
      "cell_type": "code",
      "source": [
        "# * 바로 앞 문자는 0개이거나 여러개인 경우 match \n",
        "# * 바로 앞 문자의 갯수에 따라 span 이 변한다\n",
        "\n",
        "r.search('ac')"
      ],
      "metadata": {
        "colab": {
          "base_uri": "https://localhost:8080/"
        },
        "id": "TogeHQjCEmks",
        "outputId": "18ee34d3-ab0e-4d7a-b358-bb1385d3adeb"
      },
      "execution_count": 17,
      "outputs": [
        {
          "output_type": "execute_result",
          "data": {
            "text/plain": [
              "<re.Match object; span=(0, 2), match='ac'>"
            ]
          },
          "metadata": {},
          "execution_count": 17
        }
      ]
    },
    {
      "cell_type": "code",
      "source": [
        "r.search('abc')"
      ],
      "metadata": {
        "colab": {
          "base_uri": "https://localhost:8080/"
        },
        "id": "V-OV4YT6Eq1r",
        "outputId": "c005cfe2-a335-45a2-a979-d792b5dab130"
      },
      "execution_count": 18,
      "outputs": [
        {
          "output_type": "execute_result",
          "data": {
            "text/plain": [
              "<re.Match object; span=(0, 3), match='abc'>"
            ]
          },
          "metadata": {},
          "execution_count": 18
        }
      ]
    },
    {
      "cell_type": "code",
      "source": [
        "r.search('abbbbbbc')"
      ],
      "metadata": {
        "colab": {
          "base_uri": "https://localhost:8080/"
        },
        "id": "xOQQnZ2MEuZ7",
        "outputId": "501c847d-15f0-4262-d3be-80d02284e042"
      },
      "execution_count": 19,
      "outputs": [
        {
          "output_type": "execute_result",
          "data": {
            "text/plain": [
              "<re.Match object; span=(0, 8), match='abbbbbbc'>"
            ]
          },
          "metadata": {},
          "execution_count": 19
        }
      ]
    },
    {
      "cell_type": "markdown",
      "source": [
        "\\+ 기호"
      ],
      "metadata": {
        "id": "ifpPi8jrFbC_"
      }
    },
    {
      "cell_type": "code",
      "source": [
        "# + 앞에 문자가 최소 1개 이상 존재해야 match \n",
        "\n",
        "r = re.compile(\"ab+c\")\n",
        "r.search('ac')"
      ],
      "metadata": {
        "id": "d_lz6ywdFdGo"
      },
      "execution_count": 29,
      "outputs": []
    },
    {
      "cell_type": "code",
      "source": [
        "r.search('abc')\n"
      ],
      "metadata": {
        "colab": {
          "base_uri": "https://localhost:8080/"
        },
        "id": "FCz92INGFk1v",
        "outputId": "6fa81dcd-5029-4acb-dd86-107395c6b58d"
      },
      "execution_count": 31,
      "outputs": [
        {
          "output_type": "execute_result",
          "data": {
            "text/plain": [
              "<re.Match object; span=(0, 3), match='abc'>"
            ]
          },
          "metadata": {},
          "execution_count": 31
        }
      ]
    },
    {
      "cell_type": "code",
      "source": [
        "r.search('abbbc')"
      ],
      "metadata": {
        "colab": {
          "base_uri": "https://localhost:8080/"
        },
        "id": "NooU64C1FwDz",
        "outputId": "deb0efb7-93e2-491d-a8a1-a66d15b14dc4"
      },
      "execution_count": 35,
      "outputs": [
        {
          "output_type": "execute_result",
          "data": {
            "text/plain": [
              "<re.Match object; span=(0, 5), match='abbbc'>"
            ]
          },
          "metadata": {},
          "execution_count": 35
        }
      ]
    },
    {
      "cell_type": "markdown",
      "source": [
        "^ 기호"
      ],
      "metadata": {
        "id": "nFh-dXMBF7OL"
      }
    },
    {
      "cell_type": "code",
      "source": [
        "# ^ 이용하여 시작되는 글자를 지정  \n",
        "\n",
        "r=  re.compile('^a')\n",
        "r.search('bbc')"
      ],
      "metadata": {
        "id": "Tza5c1PnF8ns"
      },
      "execution_count": 36,
      "outputs": []
    },
    {
      "cell_type": "code",
      "source": [
        "r.search('ab')"
      ],
      "metadata": {
        "colab": {
          "base_uri": "https://localhost:8080/"
        },
        "id": "XSDGf92MGJWv",
        "outputId": "3e033817-ed7e-4e74-ea21-e57939be98b4"
      },
      "execution_count": 37,
      "outputs": [
        {
          "output_type": "execute_result",
          "data": {
            "text/plain": [
              "<re.Match object; span=(0, 1), match='a'>"
            ]
          },
          "metadata": {},
          "execution_count": 37
        }
      ]
    },
    {
      "cell_type": "code",
      "source": [
        "r.search('abdfdjfksf')"
      ],
      "metadata": {
        "colab": {
          "base_uri": "https://localhost:8080/"
        },
        "id": "1PVKuclPGLiz",
        "outputId": "e8ee18e2-7073-4904-ff39-b2b1c13859b6"
      },
      "execution_count": 40,
      "outputs": [
        {
          "output_type": "execute_result",
          "data": {
            "text/plain": [
              "<re.Match object; span=(0, 1), match='a'>"
            ]
          },
          "metadata": {},
          "execution_count": 40
        }
      ]
    },
    {
      "cell_type": "code",
      "source": [
        "# a가 시작글자가 아닐 경우 no match \n",
        "\n",
        "r.search('dfdjfksf')"
      ],
      "metadata": {
        "id": "qDA6zhdlGR9v"
      },
      "execution_count": 41,
      "outputs": []
    },
    {
      "cell_type": "markdown",
      "source": [
        "{숫자} 기호"
      ],
      "metadata": {
        "id": "gJRR1X7qGZ5n"
      }
    },
    {
      "cell_type": "code",
      "source": [
        "#  앞 문자를 해당 숫자만큼 반복해야 함\n",
        "\n",
        "r= re.compile('ab{2}c')\n",
        "r.search('ac')"
      ],
      "metadata": {
        "id": "X-00KhQmGcIX"
      },
      "execution_count": 42,
      "outputs": []
    },
    {
      "cell_type": "code",
      "source": [
        "r.search('abc')  # no match"
      ],
      "metadata": {
        "id": "kMNYZK6jGkax"
      },
      "execution_count": 43,
      "outputs": []
    },
    {
      "cell_type": "code",
      "source": [
        "r.search('abbc')    # match"
      ],
      "metadata": {
        "colab": {
          "base_uri": "https://localhost:8080/"
        },
        "id": "N6E96iGgGmW_",
        "outputId": "6f26454f-8341-4032-cc83-1813388ceb7a"
      },
      "execution_count": 44,
      "outputs": [
        {
          "output_type": "execute_result",
          "data": {
            "text/plain": [
              "<re.Match object; span=(0, 4), match='abbc'>"
            ]
          },
          "metadata": {},
          "execution_count": 44
        }
      ]
    },
    {
      "cell_type": "markdown",
      "source": [
        "{숫자 1, 숫자2 } 기호"
      ],
      "metadata": {
        "id": "RkgCO9I9GuuA"
      }
    },
    {
      "cell_type": "code",
      "source": [
        "# 앞 문자를 숫자 1 이상 , 숫자 2 이하만큼 반복해야 함 \n",
        "\n",
        "r = re.compile('ab{2,8}c')\n",
        "\n",
        "r.search('ac')"
      ],
      "metadata": {
        "id": "SlYL53pJGx5X"
      },
      "execution_count": 46,
      "outputs": []
    },
    {
      "cell_type": "code",
      "source": [
        "r.search('abbc') "
      ],
      "metadata": {
        "colab": {
          "base_uri": "https://localhost:8080/"
        },
        "id": "VVNbG2YCIBfj",
        "outputId": "83d58c53-c57e-449c-9e60-54007e49ebda"
      },
      "execution_count": 54,
      "outputs": [
        {
          "output_type": "execute_result",
          "data": {
            "text/plain": [
              "<re.Match object; span=(0, 4), match='abbc'>"
            ]
          },
          "metadata": {},
          "execution_count": 54
        }
      ]
    },
    {
      "cell_type": "code",
      "source": [
        "r.search('abbbbbbbbc')  # match"
      ],
      "metadata": {
        "colab": {
          "base_uri": "https://localhost:8080/"
        },
        "id": "jRilQiyEIFf4",
        "outputId": "785e684e-29f0-4489-af24-4257b15a7165"
      },
      "execution_count": 51,
      "outputs": [
        {
          "output_type": "execute_result",
          "data": {
            "text/plain": [
              "<re.Match object; span=(0, 10), match='abbbbbbbbc'>"
            ]
          },
          "metadata": {},
          "execution_count": 51
        }
      ]
    },
    {
      "cell_type": "code",
      "source": [
        "r.search('abbbbbbbbbc')     # no match"
      ],
      "metadata": {
        "id": "NrtnQkAnIIvd"
      },
      "execution_count": 52,
      "outputs": []
    },
    {
      "cell_type": "markdown",
      "source": [
        "{숫자,} 기호 "
      ],
      "metadata": {
        "id": "nCZy7FgZIYoM"
      }
    },
    {
      "cell_type": "code",
      "source": [
        "# 앞 문자를 숫자 이상 반복\n",
        "\n",
        "r = re.compile(\"a{2,}bc\")\n",
        "r.search(\"abc\")"
      ],
      "metadata": {
        "id": "ZIV_X231IXvD"
      },
      "execution_count": 57,
      "outputs": []
    },
    {
      "cell_type": "code",
      "source": [
        "r.search(\"aabc\")"
      ],
      "metadata": {
        "colab": {
          "base_uri": "https://localhost:8080/"
        },
        "id": "A-gp35HAIfB9",
        "outputId": "dfcb55f2-96a0-468d-e879-973f1f4b71b0"
      },
      "execution_count": 56,
      "outputs": [
        {
          "output_type": "execute_result",
          "data": {
            "text/plain": [
              "<re.Match object; span=(0, 4), match='aabc'>"
            ]
          },
          "metadata": {},
          "execution_count": 56
        }
      ]
    },
    {
      "cell_type": "markdown",
      "source": [
        "[ ] 기호"
      ],
      "metadata": {
        "id": "HFh_yt0sIiW1"
      }
    },
    {
      "cell_type": "code",
      "source": [
        "# [] 안에 있는 문자들 중 한 개의 문자와 매치\n",
        "\n",
        "r = re.compile('[abc]')\n"
      ],
      "metadata": {
        "id": "8Zae03kdIkpj"
      },
      "execution_count": 58,
      "outputs": []
    },
    {
      "cell_type": "code",
      "source": [
        "r.search(\"dd\")"
      ],
      "metadata": {
        "id": "0BYsDNLYIrEP"
      },
      "execution_count": 59,
      "outputs": []
    },
    {
      "cell_type": "code",
      "source": [
        "# 최초로 나오는 문자와 match\n",
        "\n",
        "r.search(\"add\")"
      ],
      "metadata": {
        "colab": {
          "base_uri": "https://localhost:8080/"
        },
        "id": "TV1MMupgIsaP",
        "outputId": "bb274ec1-c7a5-4f2f-ae29-fe6fa4bd752d"
      },
      "execution_count": 60,
      "outputs": [
        {
          "output_type": "execute_result",
          "data": {
            "text/plain": [
              "<re.Match object; span=(0, 1), match='a'>"
            ]
          },
          "metadata": {},
          "execution_count": 60
        }
      ]
    },
    {
      "cell_type": "code",
      "source": [
        "r.search(\"bdd\")"
      ],
      "metadata": {
        "colab": {
          "base_uri": "https://localhost:8080/"
        },
        "id": "jzqQH4OLIvu_",
        "outputId": "48385aa2-92c3-4a1d-dfed-d5cc577c0b45"
      },
      "execution_count": 71,
      "outputs": [
        {
          "output_type": "execute_result",
          "data": {
            "text/plain": [
              "<re.Match object; span=(0, 1), match='b'>"
            ]
          },
          "metadata": {},
          "execution_count": 71
        }
      ]
    },
    {
      "cell_type": "code",
      "source": [
        "r.search(\"caddd\")"
      ],
      "metadata": {
        "colab": {
          "base_uri": "https://localhost:8080/"
        },
        "id": "6YJ6DaKhI0ZP",
        "outputId": "be6b232e-d755-45bd-c23b-d4311f3b5621"
      },
      "execution_count": 70,
      "outputs": [
        {
          "output_type": "execute_result",
          "data": {
            "text/plain": [
              "<re.Match object; span=(0, 1), match='c'>"
            ]
          },
          "metadata": {},
          "execution_count": 70
        }
      ]
    },
    {
      "cell_type": "code",
      "source": [
        "# 범위를 지정할 수도 있음. 예) a-z, A-Z, 0-9\n",
        "\n",
        "r = re.compile('[a-z]')"
      ],
      "metadata": {
        "id": "RlcJGODjI9Tn"
      },
      "execution_count": 66,
      "outputs": []
    },
    {
      "cell_type": "code",
      "source": [
        "r.search('ab')"
      ],
      "metadata": {
        "colab": {
          "base_uri": "https://localhost:8080/"
        },
        "id": "g8I16PTHJAPH",
        "outputId": "1768a693-777c-4d1a-ff39-88b34c9d67f2"
      },
      "execution_count": 67,
      "outputs": [
        {
          "output_type": "execute_result",
          "data": {
            "text/plain": [
              "<re.Match object; span=(0, 1), match='a'>"
            ]
          },
          "metadata": {},
          "execution_count": 67
        }
      ]
    },
    {
      "cell_type": "code",
      "source": [
        "r.search('ts')"
      ],
      "metadata": {
        "colab": {
          "base_uri": "https://localhost:8080/"
        },
        "id": "G74PsyloJCYg",
        "outputId": "0a204e20-fb47-468f-c98f-688a90dd90b1"
      },
      "execution_count": 68,
      "outputs": [
        {
          "output_type": "execute_result",
          "data": {
            "text/plain": [
              "<re.Match object; span=(0, 1), match='t'>"
            ]
          },
          "metadata": {},
          "execution_count": 68
        }
      ]
    },
    {
      "cell_type": "markdown",
      "source": [
        "[^문자] 기호"
      ],
      "metadata": {
        "id": "hv3sI_AuJJDD"
      }
    },
    {
      "cell_type": "code",
      "source": [
        "# ^기호 뒤에 붙은 문자들을 제외한 모든 문자를 매치함.\n",
        "\n",
        "r = re.compile(\"[^abc]\") # abc 제외 모든 문자\n",
        "r.search(\"ab\")"
      ],
      "metadata": {
        "id": "vdaFAgH1JYjr"
      },
      "execution_count": 72,
      "outputs": []
    },
    {
      "cell_type": "code",
      "source": [
        "r.search('abv')"
      ],
      "metadata": {
        "colab": {
          "base_uri": "https://localhost:8080/"
        },
        "id": "96kreyDbJddW",
        "outputId": "2c2bee92-7fcc-4dd6-d4fb-ca7c93b1f63c"
      },
      "execution_count": 73,
      "outputs": [
        {
          "output_type": "execute_result",
          "data": {
            "text/plain": [
              "<re.Match object; span=(2, 3), match='v'>"
            ]
          },
          "metadata": {},
          "execution_count": 73
        }
      ]
    },
    {
      "cell_type": "code",
      "source": [
        "r.search('acdds')"
      ],
      "metadata": {
        "colab": {
          "base_uri": "https://localhost:8080/"
        },
        "id": "zk98rWwbJf8v",
        "outputId": "60515ebd-5ef0-4895-a8ca-acde9c6d1cfa"
      },
      "execution_count": 75,
      "outputs": [
        {
          "output_type": "execute_result",
          "data": {
            "text/plain": [
              "<re.Match object; span=(2, 3), match='d'>"
            ]
          },
          "metadata": {},
          "execution_count": 75
        }
      ]
    },
    {
      "cell_type": "markdown",
      "source": [
        "### KoNLPy"
      ],
      "metadata": {
        "id": "uoP8UXiXJk3I"
      }
    },
    {
      "cell_type": "code",
      "source": [
        "!pip install konlpy"
      ],
      "metadata": {
        "colab": {
          "base_uri": "https://localhost:8080/"
        },
        "id": "6F5-jzehJnVs",
        "outputId": "6a858b4e-0531-4464-d43e-adc2969a3d05"
      },
      "execution_count": 76,
      "outputs": [
        {
          "output_type": "stream",
          "name": "stdout",
          "text": [
            "Looking in indexes: https://pypi.org/simple, https://us-python.pkg.dev/colab-wheels/public/simple/\n",
            "Collecting konlpy\n",
            "  Downloading konlpy-0.6.0-py2.py3-none-any.whl (19.4 MB)\n",
            "\u001b[K     |████████████████████████████████| 19.4 MB 7.5 MB/s \n",
            "\u001b[?25hRequirement already satisfied: lxml>=4.1.0 in /usr/local/lib/python3.7/dist-packages (from konlpy) (4.2.6)\n",
            "Requirement already satisfied: numpy>=1.6 in /usr/local/lib/python3.7/dist-packages (from konlpy) (1.21.6)\n",
            "Collecting JPype1>=0.7.0\n",
            "  Downloading JPype1-1.4.0-cp37-cp37m-manylinux_2_5_x86_64.manylinux1_x86_64.whl (453 kB)\n",
            "\u001b[K     |████████████████████████████████| 453 kB 73.3 MB/s \n",
            "\u001b[?25hRequirement already satisfied: typing-extensions in /usr/local/lib/python3.7/dist-packages (from JPype1>=0.7.0->konlpy) (4.1.1)\n",
            "Installing collected packages: JPype1, konlpy\n",
            "Successfully installed JPype1-1.4.0 konlpy-0.6.0\n"
          ]
        }
      ]
    },
    {
      "cell_type": "markdown",
      "source": [
        "한나눔 (Hannanum) class"
      ],
      "metadata": {
        "id": "KsyqQnIzJ0jj"
      }
    },
    {
      "cell_type": "code",
      "source": [
        "from konlpy.tag import Hannanum\n",
        "\n",
        "han = Hannanum()\n",
        "text = '환영합니다! 자연어 처리 수업은 재미있게 듣고 계신가요?'"
      ],
      "metadata": {
        "id": "cxxdS_YPJzC7"
      },
      "execution_count": 77,
      "outputs": []
    },
    {
      "cell_type": "code",
      "source": [
        "print(han.morphs(text))  # Parse phrase to morphemes\n",
        "print(han.nouns(text))   # Noun extractors\n",
        "print(han.pos(text))     # POS tagger"
      ],
      "metadata": {
        "colab": {
          "base_uri": "https://localhost:8080/"
        },
        "id": "o6WjT-ojJzXM",
        "outputId": "f082fbd2-f778-41f2-9078-21bbc9ade731"
      },
      "execution_count": 79,
      "outputs": [
        {
          "output_type": "stream",
          "name": "stdout",
          "text": [
            "['환영', '하', 'ㅂ니다', '!', '자연어', '처리', '수업', '은', '재미있', '게', '듣', '고', '계시', 'ㄴ가', '요', '?']\n",
            "['환영', '자연어', '처리', '수업']\n",
            "[('환영', 'N'), ('하', 'X'), ('ㅂ니다', 'E'), ('!', 'S'), ('자연어', 'N'), ('처리', 'N'), ('수업', 'N'), ('은', 'J'), ('재미있', 'P'), ('게', 'E'), ('듣', 'P'), ('고', 'E'), ('계시', 'P'), ('ㄴ가', 'E'), ('요', 'J'), ('?', 'S')]\n"
          ]
        }
      ]
    },
    {
      "cell_type": "code",
      "source": [
        "# 영화 리뷰\n",
        "\n",
        "review = '진짜 최고 매버릭 진짜 짱 아 나 왜케 감상평 못써 진짜 감동' "
      ],
      "metadata": {
        "id": "FBBbidTCJzmt"
      },
      "execution_count": 81,
      "outputs": []
    },
    {
      "cell_type": "code",
      "source": [
        "print(han.morphs(review)) \n",
        " "
      ],
      "metadata": {
        "colab": {
          "base_uri": "https://localhost:8080/"
        },
        "id": "CVkGNqXUKgjk",
        "outputId": "16321f41-598a-4613-f3c6-fd0b33345bbb"
      },
      "execution_count": 82,
      "outputs": [
        {
          "output_type": "stream",
          "name": "stdout",
          "text": [
            "['진짜', '최고', '매버릭', '진짜', '짱', '아', '나', '왜케', '감상평', '못쓰', '어', '진짜', '감동']\n"
          ]
        }
      ]
    },
    {
      "cell_type": "code",
      "source": [
        "print(han.nouns(review))   "
      ],
      "metadata": {
        "colab": {
          "base_uri": "https://localhost:8080/"
        },
        "id": "uXNsmYgeKq-L",
        "outputId": "e6cf9f80-9a3e-411a-d112-09358d2f2c66"
      },
      "execution_count": 83,
      "outputs": [
        {
          "output_type": "stream",
          "name": "stdout",
          "text": [
            "['진짜', '최고', '매버릭', '진짜', '짱', '나', '왜케', '감상평', '진짜', '감동']\n"
          ]
        }
      ]
    },
    {
      "cell_type": "code",
      "source": [
        "print(han.pos(review))"
      ],
      "metadata": {
        "colab": {
          "base_uri": "https://localhost:8080/"
        },
        "id": "GkhouyzNKv9T",
        "outputId": "9849b44a-c3a3-46c9-9c96-0fbf33d4d0e1"
      },
      "execution_count": 84,
      "outputs": [
        {
          "output_type": "stream",
          "name": "stdout",
          "text": [
            "[('진짜', 'N'), ('최고', 'N'), ('매버릭', 'N'), ('진짜', 'N'), ('짱', 'N'), ('아', 'I'), ('나', 'N'), ('왜케', 'N'), ('감상평', 'N'), ('못쓰', 'P'), ('어', 'E'), ('진짜', 'N'), ('감동', 'N')]\n"
          ]
        }
      ]
    },
    {
      "cell_type": "markdown",
      "source": [
        "꼬꼬마(Kkma) "
      ],
      "metadata": {
        "id": "DOdgndpyLNux"
      }
    },
    {
      "cell_type": "markdown",
      "source": [
        "> http://kkma.snu.ac.kr/ "
      ],
      "metadata": {
        "id": "I0aJwA4WNBBT"
      }
    },
    {
      "cell_type": "code",
      "source": [
        "from konlpy.tag import Kkma\n",
        "kkma = Kkma()\n",
        "text = '환영합니다! 자연어 처리 수업은 재미있게 듣고 계신가요?'\n"
      ],
      "metadata": {
        "id": "jlzVZrzSLIF3"
      },
      "execution_count": 85,
      "outputs": []
    },
    {
      "cell_type": "code",
      "source": [
        "print(kkma.morphs(text))  # Parse phrase to morphemes\n",
        "print(kkma.nouns(text))   # Noun extractors\n",
        "print(kkma.pos(text))     # POS tagger"
      ],
      "metadata": {
        "colab": {
          "base_uri": "https://localhost:8080/"
        },
        "id": "uUa8sRqYLSq4",
        "outputId": "4e05b46e-5aae-459d-ebcd-76cf9a2be9c1"
      },
      "execution_count": 86,
      "outputs": [
        {
          "output_type": "stream",
          "name": "stdout",
          "text": [
            "['환영', '하', 'ㅂ니다', '!', '자연어', '처리', '수업', '은', '재미있', '게', '듣', '고', '계시', 'ㄴ가요', '?']\n",
            "['환영', '자연어', '처리', '수업']\n",
            "[('환영', 'NNG'), ('하', 'XSV'), ('ㅂ니다', 'EFN'), ('!', 'SF'), ('자연어', 'NNG'), ('처리', 'NNG'), ('수업', 'NNG'), ('은', 'JX'), ('재미있', 'VA'), ('게', 'ECD'), ('듣', 'VV'), ('고', 'ECE'), ('계시', 'VXA'), ('ㄴ가요', 'EFQ'), ('?', 'SF')]\n"
          ]
        }
      ]
    }
  ]
}